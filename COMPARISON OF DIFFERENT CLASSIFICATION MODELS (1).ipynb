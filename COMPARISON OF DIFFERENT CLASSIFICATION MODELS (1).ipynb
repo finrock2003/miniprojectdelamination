{
 "cells": [
  {
   "cell_type": "markdown",
   "id": "20f45dc3",
   "metadata": {},
   "source": [
    "# PREDICTION OF DELAMINATION FACTOR LEVELS USING VARIOUS CLASSIFICATION MODELS"
   ]
  },
  {
   "cell_type": "markdown",
   "id": "b66a5bd3",
   "metadata": {},
   "source": [
    "# LOADING DATA SET"
   ]
  },
  {
   "cell_type": "code",
   "execution_count": 1,
   "id": "ce1de694",
   "metadata": {},
   "outputs": [],
   "source": [
    "#importing PANDAS library\n",
    "import pandas as pd\n",
    "df = pd.read_csv('C:/Users/hp/Documents/mini_project_data.csv')\n",
    "# defining the ranges for the three levels\n",
    "ranges = [1.0006, 1.03, 1.07]\n",
    "\n",
    "# defining the labels for the three levels\n",
    "labels = ['Best','Worst']\n",
    "\n",
    "# use the cut function to create a new column with the delamination factor levels\n",
    "df['delamination level'] = pd.cut(df['Delamination Factor'], ranges,labels=labels)\n",
    "#using delete function to delete the delamination factor column\n",
    "del df['Delamination Factor']\n",
    "# save the updated data to a new csv file\n",
    "df.to_csv('data_with_levels.csv', index=False)"
   ]
  },
  {
   "cell_type": "code",
   "execution_count": 2,
   "id": "2e4fc057",
   "metadata": {},
   "outputs": [
    {
     "data": {
      "text/html": [
       "<div>\n",
       "<style scoped>\n",
       "    .dataframe tbody tr th:only-of-type {\n",
       "        vertical-align: middle;\n",
       "    }\n",
       "\n",
       "    .dataframe tbody tr th {\n",
       "        vertical-align: top;\n",
       "    }\n",
       "\n",
       "    .dataframe thead th {\n",
       "        text-align: right;\n",
       "    }\n",
       "</style>\n",
       "<table border=\"1\" class=\"dataframe\">\n",
       "  <thead>\n",
       "    <tr style=\"text-align: right;\">\n",
       "      <th></th>\n",
       "      <th>cutting speed</th>\n",
       "      <th>depth of cut</th>\n",
       "      <th>feed rate</th>\n",
       "      <th>delamination level</th>\n",
       "    </tr>\n",
       "  </thead>\n",
       "  <tbody>\n",
       "    <tr>\n",
       "      <th>0</th>\n",
       "      <td>50</td>\n",
       "      <td>0.05</td>\n",
       "      <td>0.04</td>\n",
       "      <td>Best</td>\n",
       "    </tr>\n",
       "    <tr>\n",
       "      <th>1</th>\n",
       "      <td>50</td>\n",
       "      <td>0.05</td>\n",
       "      <td>0.05</td>\n",
       "      <td>Best</td>\n",
       "    </tr>\n",
       "    <tr>\n",
       "      <th>2</th>\n",
       "      <td>50</td>\n",
       "      <td>0.05</td>\n",
       "      <td>0.06</td>\n",
       "      <td>Best</td>\n",
       "    </tr>\n",
       "    <tr>\n",
       "      <th>3</th>\n",
       "      <td>50</td>\n",
       "      <td>0.05</td>\n",
       "      <td>0.07</td>\n",
       "      <td>Best</td>\n",
       "    </tr>\n",
       "    <tr>\n",
       "      <th>4</th>\n",
       "      <td>50</td>\n",
       "      <td>0.05</td>\n",
       "      <td>0.08</td>\n",
       "      <td>Best</td>\n",
       "    </tr>\n",
       "    <tr>\n",
       "      <th>...</th>\n",
       "      <td>...</td>\n",
       "      <td>...</td>\n",
       "      <td>...</td>\n",
       "      <td>...</td>\n",
       "    </tr>\n",
       "    <tr>\n",
       "      <th>724</th>\n",
       "      <td>100</td>\n",
       "      <td>0.25</td>\n",
       "      <td>0.08</td>\n",
       "      <td>Worst</td>\n",
       "    </tr>\n",
       "    <tr>\n",
       "      <th>725</th>\n",
       "      <td>100</td>\n",
       "      <td>0.25</td>\n",
       "      <td>0.09</td>\n",
       "      <td>Worst</td>\n",
       "    </tr>\n",
       "    <tr>\n",
       "      <th>726</th>\n",
       "      <td>100</td>\n",
       "      <td>0.25</td>\n",
       "      <td>0.10</td>\n",
       "      <td>Worst</td>\n",
       "    </tr>\n",
       "    <tr>\n",
       "      <th>727</th>\n",
       "      <td>100</td>\n",
       "      <td>0.25</td>\n",
       "      <td>0.11</td>\n",
       "      <td>Worst</td>\n",
       "    </tr>\n",
       "    <tr>\n",
       "      <th>728</th>\n",
       "      <td>100</td>\n",
       "      <td>0.25</td>\n",
       "      <td>0.12</td>\n",
       "      <td>Worst</td>\n",
       "    </tr>\n",
       "  </tbody>\n",
       "</table>\n",
       "<p>729 rows × 4 columns</p>\n",
       "</div>"
      ],
      "text/plain": [
       "     cutting speed  depth of cut  feed rate delamination level\n",
       "0               50          0.05       0.04               Best\n",
       "1               50          0.05       0.05               Best\n",
       "2               50          0.05       0.06               Best\n",
       "3               50          0.05       0.07               Best\n",
       "4               50          0.05       0.08               Best\n",
       "..             ...           ...        ...                ...\n",
       "724            100          0.25       0.08              Worst\n",
       "725            100          0.25       0.09              Worst\n",
       "726            100          0.25       0.10              Worst\n",
       "727            100          0.25       0.11              Worst\n",
       "728            100          0.25       0.12              Worst\n",
       "\n",
       "[729 rows x 4 columns]"
      ]
     },
     "execution_count": 2,
     "metadata": {},
     "output_type": "execute_result"
    }
   ],
   "source": [
    "df"
   ]
  },
  {
   "cell_type": "markdown",
   "id": "fbf24dc9",
   "metadata": {},
   "source": [
    "# Explotary data analysis"
   ]
  },
  {
   "cell_type": "code",
   "execution_count": 3,
   "id": "63f76ee5",
   "metadata": {},
   "outputs": [
    {
     "name": "stdout",
     "output_type": "stream",
     "text": [
      "<class 'pandas.core.frame.DataFrame'>\n",
      "RangeIndex: 729 entries, 0 to 728\n",
      "Data columns (total 4 columns):\n",
      " #   Column              Non-Null Count  Dtype   \n",
      "---  ------              --------------  -----   \n",
      " 0   cutting speed       729 non-null    int64   \n",
      " 1   depth of cut        729 non-null    float64 \n",
      " 2   feed rate           729 non-null    float64 \n",
      " 3   delamination level  729 non-null    category\n",
      "dtypes: category(1), float64(2), int64(1)\n",
      "memory usage: 18.0 KB\n"
     ]
    }
   ],
   "source": [
    "df.info()"
   ]
  },
  {
   "cell_type": "code",
   "execution_count": 4,
   "id": "c2cef490",
   "metadata": {},
   "outputs": [
    {
     "data": {
      "text/html": [
       "<div>\n",
       "<style scoped>\n",
       "    .dataframe tbody tr th:only-of-type {\n",
       "        vertical-align: middle;\n",
       "    }\n",
       "\n",
       "    .dataframe tbody tr th {\n",
       "        vertical-align: top;\n",
       "    }\n",
       "\n",
       "    .dataframe thead th {\n",
       "        text-align: right;\n",
       "    }\n",
       "</style>\n",
       "<table border=\"1\" class=\"dataframe\">\n",
       "  <thead>\n",
       "    <tr style=\"text-align: right;\">\n",
       "      <th></th>\n",
       "      <th>cutting speed</th>\n",
       "      <th>depth of cut</th>\n",
       "      <th>feed rate</th>\n",
       "    </tr>\n",
       "  </thead>\n",
       "  <tbody>\n",
       "    <tr>\n",
       "      <th>count</th>\n",
       "      <td>729.00000</td>\n",
       "      <td>729.000000</td>\n",
       "      <td>729.000000</td>\n",
       "    </tr>\n",
       "    <tr>\n",
       "      <th>mean</th>\n",
       "      <td>75.00000</td>\n",
       "      <td>0.150000</td>\n",
       "      <td>0.080000</td>\n",
       "    </tr>\n",
       "    <tr>\n",
       "      <th>std</th>\n",
       "      <td>16.10798</td>\n",
       "      <td>0.064594</td>\n",
       "      <td>0.025838</td>\n",
       "    </tr>\n",
       "    <tr>\n",
       "      <th>min</th>\n",
       "      <td>50.00000</td>\n",
       "      <td>0.050000</td>\n",
       "      <td>0.040000</td>\n",
       "    </tr>\n",
       "    <tr>\n",
       "      <th>25%</th>\n",
       "      <td>63.00000</td>\n",
       "      <td>0.100000</td>\n",
       "      <td>0.060000</td>\n",
       "    </tr>\n",
       "    <tr>\n",
       "      <th>50%</th>\n",
       "      <td>75.00000</td>\n",
       "      <td>0.150000</td>\n",
       "      <td>0.080000</td>\n",
       "    </tr>\n",
       "    <tr>\n",
       "      <th>75%</th>\n",
       "      <td>87.00000</td>\n",
       "      <td>0.200000</td>\n",
       "      <td>0.100000</td>\n",
       "    </tr>\n",
       "    <tr>\n",
       "      <th>max</th>\n",
       "      <td>100.00000</td>\n",
       "      <td>0.250000</td>\n",
       "      <td>0.120000</td>\n",
       "    </tr>\n",
       "  </tbody>\n",
       "</table>\n",
       "</div>"
      ],
      "text/plain": [
       "       cutting speed  depth of cut   feed rate\n",
       "count      729.00000    729.000000  729.000000\n",
       "mean        75.00000      0.150000    0.080000\n",
       "std         16.10798      0.064594    0.025838\n",
       "min         50.00000      0.050000    0.040000\n",
       "25%         63.00000      0.100000    0.060000\n",
       "50%         75.00000      0.150000    0.080000\n",
       "75%         87.00000      0.200000    0.100000\n",
       "max        100.00000      0.250000    0.120000"
      ]
     },
     "execution_count": 4,
     "metadata": {},
     "output_type": "execute_result"
    }
   ],
   "source": [
    "df.describe()"
   ]
  },
  {
   "cell_type": "code",
   "execution_count": 5,
   "id": "51a9c2c3",
   "metadata": {},
   "outputs": [],
   "source": [
    "import seaborn as sns"
   ]
  },
  {
   "cell_type": "code",
   "execution_count": 6,
   "id": "c6e180e7",
   "metadata": {},
   "outputs": [
    {
     "data": {
      "text/plain": [
       "<seaborn.axisgrid.PairGrid at 0x1f12f8f9880>"
      ]
     },
     "execution_count": 6,
     "metadata": {},
     "output_type": "execute_result"
    },
    {
     "data": {
      "image/png": "[encoded data removed]",
      "text/plain": [
       "<Figure size 540x540 with 12 Axes>"
      ]
     },
     "metadata": {
      "needs_background": "light"
     },
     "output_type": "display_data"
    }
   ],
   "source": [
    "sns.pairplot(df)"
   ]
  },
  {
   "cell_type": "code",
   "execution_count": 7,
   "id": "bfe21516",
   "metadata": {},
   "outputs": [
    {
     "data": {
      "text/plain": [
       "<AxesSubplot:>"
      ]
     },
     "execution_count": 7,
     "metadata": {},
     "output_type": "execute_result"
    },
    {
     "data": {
      "image/png": "[encoded data removed]",
      "text/plain": [
       "<Figure size 432x288 with 2 Axes>"
      ]
     },
     "metadata": {
      "needs_background": "light"
     },
     "output_type": "display_data"
    }
   ],
   "source": [
    "sns.heatmap(df.corr(), annot=True)"
   ]
  },
  {
   "cell_type": "markdown",
   "id": "62a25e21",
   "metadata": {},
   "source": [
    "# Defining x and y"
   ]
  },
  {
   "cell_type": "code",
   "execution_count": 8,
   "id": "5f77eb5e",
   "metadata": {},
   "outputs": [],
   "source": [
    "x= df.iloc[:, [0,1,2]]\n",
    "y=df.iloc[:, 3]"
   ]
  },
  {
   "cell_type": "code",
   "execution_count": 9,
   "id": "bff46607",
   "metadata": {},
   "outputs": [
    {
     "data": {
      "text/html": [
       "<div>\n",
       "<style scoped>\n",
       "    .dataframe tbody tr th:only-of-type {\n",
       "        vertical-align: middle;\n",
       "    }\n",
       "\n",
       "    .dataframe tbody tr th {\n",
       "        vertical-align: top;\n",
       "    }\n",
       "\n",
       "    .dataframe thead th {\n",
       "        text-align: right;\n",
       "    }\n",
       "</style>\n",
       "<table border=\"1\" class=\"dataframe\">\n",
       "  <thead>\n",
       "    <tr style=\"text-align: right;\">\n",
       "      <th></th>\n",
       "      <th>cutting speed</th>\n",
       "      <th>depth of cut</th>\n",
       "      <th>feed rate</th>\n",
       "    </tr>\n",
       "  </thead>\n",
       "  <tbody>\n",
       "    <tr>\n",
       "      <th>0</th>\n",
       "      <td>50</td>\n",
       "      <td>0.05</td>\n",
       "      <td>0.04</td>\n",
       "    </tr>\n",
       "    <tr>\n",
       "      <th>1</th>\n",
       "      <td>50</td>\n",
       "      <td>0.05</td>\n",
       "      <td>0.05</td>\n",
       "    </tr>\n",
       "    <tr>\n",
       "      <th>2</th>\n",
       "      <td>50</td>\n",
       "      <td>0.05</td>\n",
       "      <td>0.06</td>\n",
       "    </tr>\n",
       "    <tr>\n",
       "      <th>3</th>\n",
       "      <td>50</td>\n",
       "      <td>0.05</td>\n",
       "      <td>0.07</td>\n",
       "    </tr>\n",
       "    <tr>\n",
       "      <th>4</th>\n",
       "      <td>50</td>\n",
       "      <td>0.05</td>\n",
       "      <td>0.08</td>\n",
       "    </tr>\n",
       "    <tr>\n",
       "      <th>...</th>\n",
       "      <td>...</td>\n",
       "      <td>...</td>\n",
       "      <td>...</td>\n",
       "    </tr>\n",
       "    <tr>\n",
       "      <th>724</th>\n",
       "      <td>100</td>\n",
       "      <td>0.25</td>\n",
       "      <td>0.08</td>\n",
       "    </tr>\n",
       "    <tr>\n",
       "      <th>725</th>\n",
       "      <td>100</td>\n",
       "      <td>0.25</td>\n",
       "      <td>0.09</td>\n",
       "    </tr>\n",
       "    <tr>\n",
       "      <th>726</th>\n",
       "      <td>100</td>\n",
       "      <td>0.25</td>\n",
       "      <td>0.10</td>\n",
       "    </tr>\n",
       "    <tr>\n",
       "      <th>727</th>\n",
       "      <td>100</td>\n",
       "      <td>0.25</td>\n",
       "      <td>0.11</td>\n",
       "    </tr>\n",
       "    <tr>\n",
       "      <th>728</th>\n",
       "      <td>100</td>\n",
       "      <td>0.25</td>\n",
       "      <td>0.12</td>\n",
       "    </tr>\n",
       "  </tbody>\n",
       "</table>\n",
       "<p>729 rows × 3 columns</p>\n",
       "</div>"
      ],
      "text/plain": [
       "     cutting speed  depth of cut  feed rate\n",
       "0               50          0.05       0.04\n",
       "1               50          0.05       0.05\n",
       "2               50          0.05       0.06\n",
       "3               50          0.05       0.07\n",
       "4               50          0.05       0.08\n",
       "..             ...           ...        ...\n",
       "724            100          0.25       0.08\n",
       "725            100          0.25       0.09\n",
       "726            100          0.25       0.10\n",
       "727            100          0.25       0.11\n",
       "728            100          0.25       0.12\n",
       "\n",
       "[729 rows x 3 columns]"
      ]
     },
     "execution_count": 9,
     "metadata": {},
     "output_type": "execute_result"
    }
   ],
   "source": [
    "x"
   ]
  },
  {
   "cell_type": "code",
   "execution_count": 10,
   "id": "93c52e98",
   "metadata": {},
   "outputs": [
    {
     "data": {
      "text/plain": [
       "0       Best\n",
       "1       Best\n",
       "2       Best\n",
       "3       Best\n",
       "4       Best\n",
       "       ...  \n",
       "724    Worst\n",
       "725    Worst\n",
       "726    Worst\n",
       "727    Worst\n",
       "728    Worst\n",
       "Name: delamination level, Length: 729, dtype: category\n",
       "Categories (2, object): ['Best' < 'Worst']"
      ]
     },
     "execution_count": 10,
     "metadata": {},
     "output_type": "execute_result"
    }
   ],
   "source": [
    "y"
   ]
  },
  {
   "cell_type": "markdown",
   "id": "b34824e2",
   "metadata": {},
   "source": [
    "# IMPORTING REQUIRED LIBRARIES"
   ]
  },
  {
   "cell_type": "code",
   "execution_count": 11,
   "id": "0edf6ee2",
   "metadata": {},
   "outputs": [],
   "source": [
    "import numpy as np\n",
    "import pandas as pd \n",
    "import matplotlib.pyplot as plt \n",
    "import seaborn as sns\n",
    "\n",
    "from sklearn.model_selection import train_test_split\n",
    "from sklearn.preprocessing import StandardScaler\n",
    "from sklearn.linear_model import LogisticRegression\n",
    "from sklearn.neighbors import KNeighborsClassifier\n",
    "from sklearn.ensemble import RandomForestClassifier\n",
    "from sklearn.svm import SVC\n",
    "from sklearn.neural_network import MLPClassifier\n",
    "from sklearn.tree import DecisionTreeClassifier\n",
    "from sklearn.ensemble import GradientBoostingClassifier\n",
    "from sklearn.discriminant_analysis import LinearDiscriminantAnalysis\n",
    "from sklearn.discriminant_analysis import QuadraticDiscriminantAnalysis\n",
    "from sklearn.metrics import accuracy_score, precision_score, recall_score, f1_score, confusion_matrix\n",
    "from sklearn.metrics import classification_report, confusion_matrix,ConfusionMatrixDisplay\n",
    "from sklearn.model_selection import cross_val_score"
   ]
  },
  {
   "cell_type": "markdown",
   "id": "05151676",
   "metadata": {},
   "source": [
    "# Split the data into training and testing sets"
   ]
  },
  {
   "cell_type": "code",
   "execution_count": 12,
   "id": "45076a11",
   "metadata": {},
   "outputs": [],
   "source": [
    "X_train, X_test, y_train, y_test = train_test_split(x, y, test_size=0.3, random_state=42)"
   ]
  },
  {
   "cell_type": "code",
   "execution_count": 13,
   "id": "c1b18d26",
   "metadata": {},
   "outputs": [
    {
     "data": {
      "text/html": [
       "<div>\n",
       "<style scoped>\n",
       "    .dataframe tbody tr th:only-of-type {\n",
       "        vertical-align: middle;\n",
       "    }\n",
       "\n",
       "    .dataframe tbody tr th {\n",
       "        vertical-align: top;\n",
       "    }\n",
       "\n",
       "    .dataframe thead th {\n",
       "        text-align: right;\n",
       "    }\n",
       "</style>\n",
       "<table border=\"1\" class=\"dataframe\">\n",
       "  <thead>\n",
       "    <tr style=\"text-align: right;\">\n",
       "      <th></th>\n",
       "      <th>cutting speed</th>\n",
       "      <th>depth of cut</th>\n",
       "      <th>feed rate</th>\n",
       "    </tr>\n",
       "  </thead>\n",
       "  <tbody>\n",
       "    <tr>\n",
       "      <th>468</th>\n",
       "      <td>81</td>\n",
       "      <td>0.225</td>\n",
       "      <td>0.04</td>\n",
       "    </tr>\n",
       "    <tr>\n",
       "      <th>148</th>\n",
       "      <td>56</td>\n",
       "      <td>0.225</td>\n",
       "      <td>0.08</td>\n",
       "    </tr>\n",
       "    <tr>\n",
       "      <th>302</th>\n",
       "      <td>69</td>\n",
       "      <td>0.200</td>\n",
       "      <td>0.09</td>\n",
       "    </tr>\n",
       "    <tr>\n",
       "      <th>355</th>\n",
       "      <td>75</td>\n",
       "      <td>0.125</td>\n",
       "      <td>0.08</td>\n",
       "    </tr>\n",
       "    <tr>\n",
       "      <th>515</th>\n",
       "      <td>87</td>\n",
       "      <td>0.125</td>\n",
       "      <td>0.06</td>\n",
       "    </tr>\n",
       "    <tr>\n",
       "      <th>...</th>\n",
       "      <td>...</td>\n",
       "      <td>...</td>\n",
       "      <td>...</td>\n",
       "    </tr>\n",
       "    <tr>\n",
       "      <th>332</th>\n",
       "      <td>75</td>\n",
       "      <td>0.050</td>\n",
       "      <td>0.12</td>\n",
       "    </tr>\n",
       "    <tr>\n",
       "      <th>532</th>\n",
       "      <td>87</td>\n",
       "      <td>0.175</td>\n",
       "      <td>0.05</td>\n",
       "    </tr>\n",
       "    <tr>\n",
       "      <th>558</th>\n",
       "      <td>87</td>\n",
       "      <td>0.250</td>\n",
       "      <td>0.04</td>\n",
       "    </tr>\n",
       "    <tr>\n",
       "      <th>137</th>\n",
       "      <td>56</td>\n",
       "      <td>0.200</td>\n",
       "      <td>0.06</td>\n",
       "    </tr>\n",
       "    <tr>\n",
       "      <th>314</th>\n",
       "      <td>69</td>\n",
       "      <td>0.225</td>\n",
       "      <td>0.12</td>\n",
       "    </tr>\n",
       "  </tbody>\n",
       "</table>\n",
       "<p>219 rows × 3 columns</p>\n",
       "</div>"
      ],
      "text/plain": [
       "     cutting speed  depth of cut  feed rate\n",
       "468             81         0.225       0.04\n",
       "148             56         0.225       0.08\n",
       "302             69         0.200       0.09\n",
       "355             75         0.125       0.08\n",
       "515             87         0.125       0.06\n",
       "..             ...           ...        ...\n",
       "332             75         0.050       0.12\n",
       "532             87         0.175       0.05\n",
       "558             87         0.250       0.04\n",
       "137             56         0.200       0.06\n",
       "314             69         0.225       0.12\n",
       "\n",
       "[219 rows x 3 columns]"
      ]
     },
     "execution_count": 13,
     "metadata": {},
     "output_type": "execute_result"
    }
   ],
   "source": [
    "X_test"
   ]
  },
  {
   "cell_type": "code",
   "execution_count": 14,
   "id": "6ded7d88",
   "metadata": {},
   "outputs": [
    {
     "data": {
      "text/plain": [
       "468     Best\n",
       "148     Best\n",
       "302    Worst\n",
       "355     Best\n",
       "515     Best\n",
       "       ...  \n",
       "332    Worst\n",
       "532     Best\n",
       "558     Best\n",
       "137     Best\n",
       "314    Worst\n",
       "Name: delamination level, Length: 219, dtype: category\n",
       "Categories (2, object): ['Best' < 'Worst']"
      ]
     },
     "execution_count": 14,
     "metadata": {},
     "output_type": "execute_result"
    }
   ],
   "source": [
    "y_test"
   ]
  },
  {
   "cell_type": "markdown",
   "id": "d5585ea0",
   "metadata": {},
   "source": [
    "# Standardize the data"
   ]
  },
  {
   "cell_type": "code",
   "execution_count": 15,
   "id": "4a594b03",
   "metadata": {},
   "outputs": [],
   "source": [
    "from sklearn.preprocessing import StandardScaler\n",
    "sc = StandardScaler()\n",
    "X_train_std = sc.fit_transform(X_train)\n",
    "X_test_std = sc.transform(X_test)"
   ]
  },
  {
   "cell_type": "markdown",
   "id": "48fcef54",
   "metadata": {},
   "source": [
    "# Transforming the target column from categorical to numerical"
   ]
  },
  {
   "cell_type": "code",
   "execution_count": 16,
   "id": "3c24e8bf",
   "metadata": {},
   "outputs": [],
   "source": [
    "df['delamination level'].replace(['Best', 'Worst'],[0, 1], inplace=True)"
   ]
  },
  {
   "cell_type": "markdown",
   "id": "af641859",
   "metadata": {},
   "source": [
    "# Visualizations"
   ]
  },
  {
   "cell_type": "code",
   "execution_count": 17,
   "id": "f4934427",
   "metadata": {},
   "outputs": [
    {
     "data": {
      "text/plain": [
       "1    382\n",
       "0    347\n",
       "Name: delamination level, dtype: int64"
      ]
     },
     "execution_count": 17,
     "metadata": {},
     "output_type": "execute_result"
    }
   ],
   "source": [
    "df['delamination level'].value_counts()"
   ]
  },
  {
   "cell_type": "code",
   "execution_count": 18,
   "id": "feb5184d",
   "metadata": {},
   "outputs": [
    {
     "data": {
      "image/png": "[encoded data removed]",
      "text/plain": [
       "<Figure size 720x432 with 1 Axes>"
      ]
     },
     "metadata": {},
     "output_type": "display_data"
    }
   ],
   "source": [
    "plt.figure(figsize=(10,6))\n",
    "sns.set_style(\"whitegrid\")\n",
    "plt.pie(df['delamination level'].value_counts(),autopct='%1.2f%%', startangle=90)\n",
    "plt.axis('equal')\n",
    "plt.title(\"Best x worst\")\n",
    "plt.show()"
   ]
  },
  {
   "cell_type": "code",
   "execution_count": 19,
   "id": "b07f7bca",
   "metadata": {},
   "outputs": [
    {
     "data": {
      "image/png": "[encoded data removed]",
      "text/plain": [
       "<Figure size 864x432 with 1 Axes>"
      ]
     },
     "metadata": {},
     "output_type": "display_data"
    }
   ],
   "source": [
    "plt.figure(figsize=(12,6))\n",
    "ax = sns.countplot(data=df, x='delamination level')\n",
    "plt.title('Total delamination levels')\n",
    "\n",
    "ax.bar_label(ax.containers[0], label_type='edge')\n",
    "plt.show()"
   ]
  },
  {
   "cell_type": "markdown",
   "id": "49237c85",
   "metadata": {},
   "source": [
    "# Model 1:Logistic Regression"
   ]
  },
  {
   "cell_type": "code",
   "execution_count": 20,
   "id": "bc87cf8d",
   "metadata": {},
   "outputs": [
    {
     "name": "stdout",
     "output_type": "stream",
     "text": [
      "Train Score is:  0.984313725490196\n",
      "Test Score is :  0.9634703196347032\n",
      "    y_test y_predict  Match\n",
      "468   Best      Best   True\n",
      "148   Best      Best   True\n",
      "302  Worst     Worst   True\n",
      "355   Best     Worst  False\n",
      "515   Best      Best   True\n",
      "..     ...       ...    ...\n",
      "332  Worst     Worst   True\n",
      "532   Best      Best   True\n",
      "558   Best      Best   True\n",
      "137   Best      Best   True\n",
      "314  Worst     Worst   True\n",
      "\n",
      "[219 rows x 3 columns]\n",
      "Predicted correctly is:  211 out of 219\n",
      "Accuracy Score is: 0.9634703196347032\n",
      "Precision Score is: 0.9642325025080867\n",
      "Recall Score is: 0.9634703196347032\n",
      "F1 Score is: 0.9635286443344462\n",
      "              precision    recall  f1-score   support\n",
      "\n",
      "        Best       0.98      0.95      0.97       121\n",
      "       Worst       0.94      0.98      0.96        98\n",
      "\n",
      "    accuracy                           0.96       219\n",
      "   macro avg       0.96      0.97      0.96       219\n",
      "weighted avg       0.96      0.96      0.96       219\n",
      "\n"
     ]
    },
    {
     "data": {
      "text/plain": [
       "Best     117\n",
       "Worst    102\n",
       "dtype: int64"
      ]
     },
     "execution_count": 20,
     "metadata": {},
     "output_type": "execute_result"
    },
    {
     "data": {
      "image/png": "[encoded data removed]",
      "text/plain": [
       "<Figure size 432x288 with 2 Axes>"
      ]
     },
     "metadata": {},
     "output_type": "display_data"
    }
   ],
   "source": [
    "logreg = LogisticRegression()\n",
    "logreg.fit(X_train_std, y_train)\n",
    "predictions1 = logreg.predict(X_test_std)\n",
    "\n",
    "print('Train Score is: ' , logreg.score(X_train_std, y_train))\n",
    "\n",
    "print('Test Score is : ' , logreg.score(X_test_std, y_test))\n",
    "\n",
    "print(pd.DataFrame({\"y_test\":y_test,'y_predict':predictions1,'Match':y_test == predictions1}).head(X_test_std.shape[0]))\n",
    "\n",
    "#Calculating Accuracy Score  : ((TP + TN) / float(TP + TN + FP + FN))\n",
    "AccScore = accuracy_score(y_test,predictions1, normalize=False)\n",
    "\n",
    "print('Predicted correctly is: ', AccScore,'out of',X_test_std.shape[0])\n",
    "\n",
    "# Computing Metrics\n",
    "acc_score = accuracy_score(y_test, predictions1)\n",
    "precision = precision_score(y_test, predictions1, average='weighted')\n",
    "recall = recall_score(y_test, predictions1, average='weighted')\n",
    "f1score = f1_score(y_test, predictions1, average='weighted')\n",
    "\n",
    "# Printing Metrics\n",
    "print('Accuracy Score is:', acc_score)\n",
    "print('Precision Score is:', precision)\n",
    "print('Recall Score is:', recall)\n",
    "print('F1 Score is:', f1score)\n",
    "\n",
    "\n",
    "print(classification_report(y_test,predictions1))\n",
    "\n",
    "cm = confusion_matrix(y_test,predictions1, labels=['Best','Worst'])\n",
    "disp = ConfusionMatrixDisplay(confusion_matrix=cm,display_labels=['Best', 'Worst'])\n",
    "disp.plot()\n",
    "\n",
    "pd.value_counts(predictions1)"
   ]
  },
  {
   "cell_type": "code",
   "execution_count": 21,
   "id": "8beed6da",
   "metadata": {},
   "outputs": [
    {
     "data": {
      "text/plain": [
       "array(['Best'], dtype=object)"
      ]
     },
     "execution_count": 21,
     "metadata": {},
     "output_type": "execute_result"
    }
   ],
   "source": [
    "y_lrpred= logreg.predict([[-1.20469962, -1.54798117, -0.41339627]])\n",
    "y_lrpred"
   ]
  },
  {
   "cell_type": "code",
   "execution_count": 22,
   "id": "4ea235ed",
   "metadata": {},
   "outputs": [
    {
     "data": {
      "text/plain": [
       "array([[ 0.33029761,  1.12846948, -1.5918642 ],\n",
       "       [-1.21230113,  1.12846948, -0.04326956],\n",
       "       [-0.41014979,  0.7470782 ,  0.34387911],\n",
       "       [-0.03992609, -0.39709562, -0.04326956],\n",
       "       [ 0.70052131, -0.39709562, -0.81756688],\n",
       "       [-0.41014979, -0.7784869 ,  0.34387911],\n",
       "       [-1.58252483,  1.50986075, -1.5918642 ],\n",
       "       [-1.21230113, -1.54126944, -1.5918642 ],\n",
       "       [-1.21230113,  0.36568693,  1.11817643],\n",
       "       [-0.03992609, -0.7784869 , -1.5918642 ],\n",
       "       [-0.03992609, -0.7784869 , -0.81756688],\n",
       "       [ 1.50267266,  0.7470782 ,  1.11817643],\n",
       "       [-1.58252483,  1.50986075,  0.73102777],\n",
       "       [ 0.33029761, -0.39709562, -1.20471554],\n",
       "       [-0.78037348, -0.01570435,  0.73102777],\n",
       "       [-1.21230113, -1.54126944,  0.34387911],\n",
       "       [ 0.33029761,  0.7470782 ,  0.34387911],\n",
       "       [-1.58252483, -0.39709562,  0.73102777],\n",
       "       [ 1.13244896, -0.7784869 , -0.81756688],\n",
       "       [-1.21230113, -0.01570435, -1.20471554],\n",
       "       [-0.03992609,  0.7470782 , -0.04326956],\n",
       "       [ 0.33029761, -0.7784869 ,  1.11817643],\n",
       "       [-0.41014979, -1.15987817, -0.81756688],\n",
       "       [ 0.33029761,  1.50986075,  0.73102777],\n",
       "       [-0.78037348, -0.01570435, -1.20471554],\n",
       "       [-0.78037348,  0.7470782 , -0.04326956],\n",
       "       [-0.41014979,  0.7470782 , -0.81756688],\n",
       "       [-1.58252483, -0.01570435, -0.43041822],\n",
       "       [-0.78037348,  1.12846948,  0.73102777],\n",
       "       [-0.03992609, -0.01570435, -0.43041822],\n",
       "       [-0.03992609, -0.7784869 , -0.04326956],\n",
       "       [-0.41014979, -1.15987817,  1.11817643],\n",
       "       [-1.58252483,  0.7470782 , -1.5918642 ],\n",
       "       [-1.58252483,  1.12846948, -0.81756688],\n",
       "       [ 0.33029761, -0.01570435,  0.73102777],\n",
       "       [-0.78037348, -0.39709562, -0.43041822],\n",
       "       [-0.03992609,  0.36568693,  0.73102777],\n",
       "       [-1.21230113, -0.7784869 , -0.81756688],\n",
       "       [-1.58252483, -1.15987817, -1.20471554],\n",
       "       [ 1.13244896,  1.12846948,  0.34387911],\n",
       "       [-0.03992609, -0.39709562,  0.34387911],\n",
       "       [ 1.50267266,  1.12846948, -0.04326956],\n",
       "       [-0.78037348, -1.15987817, -0.43041822],\n",
       "       [ 1.50267266, -1.54126944, -1.5918642 ],\n",
       "       [-0.78037348, -0.39709562,  1.11817643],\n",
       "       [-0.41014979, -0.39709562,  0.34387911],\n",
       "       [ 0.70052131, -0.7784869 ,  1.50532509],\n",
       "       [ 0.33029761, -0.39709562, -0.04326956],\n",
       "       [-0.78037348,  1.50986075, -1.20471554],\n",
       "       [ 0.70052131, -0.01570435, -1.5918642 ],\n",
       "       [ 0.33029761, -0.39709562, -0.81756688],\n",
       "       [-1.21230113, -0.39709562, -1.20471554],\n",
       "       [ 1.50267266, -0.39709562, -0.43041822],\n",
       "       [ 1.50267266, -0.01570435, -0.43041822],\n",
       "       [ 1.50267266,  0.36568693, -0.81756688],\n",
       "       [ 1.13244896, -0.7784869 ,  1.50532509],\n",
       "       [ 0.33029761, -0.7784869 ,  0.73102777],\n",
       "       [ 0.33029761,  0.36568693,  1.11817643],\n",
       "       [-0.78037348,  0.36568693,  1.50532509],\n",
       "       [-0.78037348,  0.36568693, -1.20471554],\n",
       "       [ 1.50267266,  1.12846948,  1.50532509],\n",
       "       [-0.78037348,  0.36568693,  0.73102777],\n",
       "       [-1.21230113,  1.50986075, -0.81756688],\n",
       "       [-0.78037348,  1.12846948, -0.81756688],\n",
       "       [ 0.33029761, -1.54126944, -1.5918642 ],\n",
       "       [-0.03992609, -0.7784869 ,  1.50532509],\n",
       "       [-1.58252483,  1.12846948, -1.5918642 ],\n",
       "       [ 1.13244896,  0.7470782 , -1.20471554],\n",
       "       [-1.58252483,  1.50986075,  0.34387911],\n",
       "       [-1.58252483,  0.36568693, -0.04326956],\n",
       "       [ 0.33029761,  1.50986075, -0.81756688],\n",
       "       [ 1.50267266,  0.36568693, -1.5918642 ],\n",
       "       [-0.03992609, -1.54126944, -1.5918642 ],\n",
       "       [-1.21230113, -1.15987817,  1.11817643],\n",
       "       [ 1.13244896, -1.54126944, -1.20471554],\n",
       "       [ 0.33029761, -1.54126944, -0.04326956],\n",
       "       [-1.58252483, -0.7784869 ,  0.34387911],\n",
       "       [-0.78037348,  0.7470782 ,  1.11817643],\n",
       "       [-0.03992609, -0.39709562, -1.5918642 ],\n",
       "       [ 0.33029761, -0.01570435,  1.11817643],\n",
       "       [ 0.70052131, -0.7784869 ,  1.11817643],\n",
       "       [ 0.33029761, -0.39709562, -1.5918642 ],\n",
       "       [-0.03992609, -0.01570435,  1.50532509],\n",
       "       [-0.41014979, -1.54126944, -1.20471554],\n",
       "       [-0.41014979, -0.7784869 , -0.04326956],\n",
       "       [-0.41014979,  0.7470782 , -0.43041822],\n",
       "       [ 1.13244896, -1.15987817, -0.43041822],\n",
       "       [-1.21230113, -0.01570435, -0.43041822],\n",
       "       [-1.58252483, -0.39709562, -0.43041822],\n",
       "       [ 1.13244896, -0.01570435, -1.20471554],\n",
       "       [ 1.50267266, -0.39709562, -1.20471554],\n",
       "       [ 0.33029761, -0.7784869 , -1.20471554],\n",
       "       [-0.03992609, -1.15987817, -1.20471554],\n",
       "       [-0.03992609,  1.50986075, -0.81756688],\n",
       "       [-0.78037348, -1.54126944, -0.43041822],\n",
       "       [-0.03992609, -0.7784869 ,  1.11817643],\n",
       "       [ 1.13244896,  1.12846948, -1.20471554],\n",
       "       [ 0.70052131,  0.7470782 , -0.81756688],\n",
       "       [-1.21230113,  1.50986075,  0.34387911],\n",
       "       [-1.21230113, -1.54126944, -0.43041822],\n",
       "       [-1.58252483,  1.50986075,  1.11817643],\n",
       "       [ 0.70052131, -0.01570435,  0.73102777],\n",
       "       [-0.41014979, -0.01570435,  1.11817643],\n",
       "       [-0.03992609, -1.54126944, -0.81756688],\n",
       "       [ 1.50267266,  1.50986075,  0.34387911],\n",
       "       [-1.58252483, -0.39709562, -0.04326956],\n",
       "       [ 0.33029761, -1.15987817,  1.50532509],\n",
       "       [-0.41014979, -1.54126944,  0.34387911],\n",
       "       [ 1.50267266,  1.12846948,  0.34387911],\n",
       "       [ 0.33029761, -1.15987817, -0.43041822],\n",
       "       [ 0.33029761,  0.7470782 ,  1.50532509],\n",
       "       [ 1.13244896, -1.54126944, -0.04326956],\n",
       "       [-1.58252483,  0.7470782 , -1.20471554],\n",
       "       [ 1.13244896, -0.39709562, -1.5918642 ],\n",
       "       [ 0.70052131, -1.54126944, -1.20471554],\n",
       "       [-0.03992609, -0.01570435, -1.20471554],\n",
       "       [ 1.13244896, -0.39709562,  0.34387911],\n",
       "       [ 0.33029761, -0.01570435,  1.50532509],\n",
       "       [-1.58252483,  1.50986075, -0.04326956],\n",
       "       [-1.58252483, -1.54126944, -0.81756688],\n",
       "       [ 0.33029761,  1.12846948, -0.81756688],\n",
       "       [ 0.70052131, -1.15987817, -0.81756688],\n",
       "       [ 0.70052131,  0.36568693, -0.04326956],\n",
       "       [-1.58252483,  0.7470782 ,  0.73102777],\n",
       "       [ 1.50267266,  1.50986075, -0.04326956],\n",
       "       [ 0.33029761, -0.7784869 ,  1.50532509],\n",
       "       [-0.03992609, -0.01570435,  1.11817643],\n",
       "       [ 0.33029761,  1.50986075, -0.04326956],\n",
       "       [ 1.13244896, -0.7784869 , -0.04326956],\n",
       "       [ 1.50267266, -0.7784869 ,  1.11817643],\n",
       "       [-0.78037348, -1.54126944, -0.81756688],\n",
       "       [-0.78037348,  1.50986075, -1.5918642 ],\n",
       "       [ 0.70052131, -0.39709562, -0.04326956],\n",
       "       [-1.21230113, -1.15987817, -1.5918642 ],\n",
       "       [-0.03992609, -1.15987817, -0.43041822],\n",
       "       [ 1.13244896, -0.39709562, -0.81756688],\n",
       "       [-1.58252483,  1.12846948,  0.73102777],\n",
       "       [-0.78037348,  0.36568693, -0.43041822],\n",
       "       [-1.21230113,  0.36568693,  0.34387911],\n",
       "       [-1.58252483, -0.01570435,  1.50532509],\n",
       "       [-1.58252483,  1.12846948,  1.11817643],\n",
       "       [-0.03992609,  1.50986075,  1.50532509],\n",
       "       [-0.03992609,  1.12846948, -0.43041822],\n",
       "       [-0.78037348,  0.7470782 , -0.81756688],\n",
       "       [-1.21230113,  0.7470782 , -1.5918642 ],\n",
       "       [-0.41014979, -1.15987817,  1.50532509],\n",
       "       [-0.41014979, -1.54126944, -0.04326956],\n",
       "       [-0.03992609, -1.15987817, -0.81756688],\n",
       "       [ 1.50267266,  0.36568693,  1.50532509],\n",
       "       [ 0.33029761, -0.39709562,  1.50532509],\n",
       "       [-1.21230113,  0.7470782 , -1.20471554],\n",
       "       [ 1.50267266, -1.15987817,  1.50532509],\n",
       "       [-1.58252483, -1.54126944,  0.73102777],\n",
       "       [-0.03992609,  1.12846948,  0.73102777],\n",
       "       [-0.41014979, -1.54126944,  1.11817643],\n",
       "       [-0.78037348, -0.7784869 , -1.20471554],\n",
       "       [ 1.50267266, -1.15987817, -0.81756688],\n",
       "       [-1.21230113,  1.12846948, -1.20471554],\n",
       "       [ 0.70052131,  1.12846948, -1.5918642 ],\n",
       "       [-1.21230113,  0.36568693,  0.73102777],\n",
       "       [ 1.13244896, -1.15987817,  0.34387911],\n",
       "       [ 0.33029761,  0.36568693, -1.5918642 ],\n",
       "       [-1.58252483, -0.01570435,  0.34387911],\n",
       "       [-1.21230113, -0.39709562, -1.5918642 ],\n",
       "       [-0.41014979, -0.01570435, -0.81756688],\n",
       "       [-1.58252483,  0.7470782 , -0.81756688],\n",
       "       [ 0.70052131,  0.7470782 , -0.04326956],\n",
       "       [ 1.13244896, -0.01570435, -0.81756688],\n",
       "       [-0.03992609, -1.15987817,  0.34387911],\n",
       "       [ 0.70052131,  0.36568693,  1.50532509],\n",
       "       [-1.58252483, -0.7784869 ,  0.73102777],\n",
       "       [-0.41014979,  0.36568693, -0.81756688],\n",
       "       [-0.78037348, -0.01570435, -1.5918642 ],\n",
       "       [ 1.13244896, -0.01570435, -0.43041822],\n",
       "       [-0.03992609,  0.36568693, -0.81756688],\n",
       "       [-0.41014979,  0.36568693, -0.04326956],\n",
       "       [-1.21230113, -0.39709562, -0.81756688],\n",
       "       [-1.21230113, -1.54126944, -1.20471554],\n",
       "       [-1.58252483,  0.36568693,  0.73102777],\n",
       "       [-0.03992609,  1.50986075, -0.43041822],\n",
       "       [ 1.13244896, -1.15987817,  1.50532509],\n",
       "       [ 0.70052131, -1.15987817,  1.50532509],\n",
       "       [-0.41014979,  0.36568693,  0.73102777],\n",
       "       [ 1.50267266, -1.54126944, -0.04326956],\n",
       "       [ 1.50267266, -0.7784869 , -1.20471554],\n",
       "       [ 1.50267266, -0.39709562,  0.34387911],\n",
       "       [-0.78037348,  0.36568693,  0.34387911],\n",
       "       [-1.58252483, -0.7784869 , -1.5918642 ],\n",
       "       [ 0.70052131, -0.01570435,  1.50532509],\n",
       "       [-0.41014979, -0.7784869 , -0.43041822],\n",
       "       [-0.41014979,  0.36568693, -0.43041822],\n",
       "       [ 0.33029761,  1.50986075, -0.43041822],\n",
       "       [-1.21230113, -1.54126944, -0.81756688],\n",
       "       [-1.58252483,  0.7470782 ,  1.11817643],\n",
       "       [ 0.70052131,  0.7470782 , -1.20471554],\n",
       "       [ 0.33029761, -0.7784869 , -1.5918642 ],\n",
       "       [-1.58252483, -0.39709562, -0.81756688],\n",
       "       [ 0.33029761, -0.01570435, -0.81756688],\n",
       "       [-0.78037348,  0.36568693, -0.04326956],\n",
       "       [-0.41014979,  0.36568693,  1.50532509],\n",
       "       [ 1.13244896,  0.7470782 ,  0.73102777],\n",
       "       [-0.78037348, -0.7784869 , -0.81756688],\n",
       "       [ 0.70052131, -0.39709562,  1.50532509],\n",
       "       [-0.41014979,  1.50986075, -0.04326956],\n",
       "       [ 1.50267266,  0.7470782 , -0.04326956],\n",
       "       [-0.03992609, -0.39709562, -1.20471554],\n",
       "       [ 1.13244896, -1.15987817,  1.11817643],\n",
       "       [-0.78037348,  1.50986075,  0.34387911],\n",
       "       [-0.03992609, -1.54126944, -0.43041822],\n",
       "       [-0.78037348,  0.36568693, -0.81756688],\n",
       "       [-0.03992609,  0.36568693, -1.5918642 ],\n",
       "       [ 1.50267266,  0.7470782 ,  0.34387911],\n",
       "       [-0.78037348, -1.15987817,  0.34387911],\n",
       "       [-0.03992609,  0.7470782 , -0.43041822],\n",
       "       [-0.03992609, -1.54126944,  1.50532509],\n",
       "       [ 0.70052131,  0.36568693, -1.20471554],\n",
       "       [ 0.70052131,  1.50986075, -1.5918642 ],\n",
       "       [-1.21230113,  0.7470782 , -0.81756688],\n",
       "       [-0.41014979,  1.12846948,  1.50532509]])"
      ]
     },
     "execution_count": 22,
     "metadata": {},
     "output_type": "execute_result"
    }
   ],
   "source": [
    "X_test_std"
   ]
  },
  {
   "cell_type": "code",
   "execution_count": 23,
   "id": "fce5e56d",
   "metadata": {},
   "outputs": [
    {
     "data": {
      "text/plain": [
       "468     Best\n",
       "148     Best\n",
       "302    Worst\n",
       "355     Best\n",
       "515     Best\n",
       "       ...  \n",
       "332    Worst\n",
       "532     Best\n",
       "558     Best\n",
       "137     Best\n",
       "314    Worst\n",
       "Name: delamination level, Length: 219, dtype: category\n",
       "Categories (2, object): ['Best' < 'Worst']"
      ]
     },
     "execution_count": 23,
     "metadata": {},
     "output_type": "execute_result"
    }
   ],
   "source": [
    "y_test"
   ]
  },
  {
   "cell_type": "markdown",
   "id": "a6422224",
   "metadata": {},
   "source": [
    "# Model 2:K-Nearest Neighbors"
   ]
  },
  {
   "cell_type": "code",
   "execution_count": 24,
   "id": "7864afb3",
   "metadata": {},
   "outputs": [
    {
     "name": "stdout",
     "output_type": "stream",
     "text": [
      "Train Score is:  0.984313725490196\n",
      "Test Score is :  0.9771689497716894\n",
      "    y_test y_predict  Match\n",
      "468   Best      Best   True\n",
      "148   Best      Best   True\n",
      "302  Worst     Worst   True\n",
      "355   Best      Best   True\n",
      "515   Best      Best   True\n",
      "..     ...       ...    ...\n",
      "332  Worst     Worst   True\n",
      "532   Best      Best   True\n",
      "558   Best      Best   True\n",
      "137   Best      Best   True\n",
      "314  Worst     Worst   True\n",
      "\n",
      "[219 rows x 3 columns]\n",
      "Predicted correctly  is:  214 out of 219\n",
      "Accuracy Score is: 0.9771689497716894\n",
      "Precision Score is: 0.9775953796912081\n",
      "Recall Score is: 0.9771689497716894\n",
      "F1 Score is: 0.9771977520048994\n",
      "              precision    recall  f1-score   support\n",
      "\n",
      "        Best       0.99      0.97      0.98       121\n",
      "       Worst       0.96      0.99      0.97        98\n",
      "\n",
      "    accuracy                           0.98       219\n",
      "   macro avg       0.98      0.98      0.98       219\n",
      "weighted avg       0.98      0.98      0.98       219\n",
      "\n"
     ]
    },
    {
     "data": {
      "text/plain": [
       "Best     118\n",
       "Worst    101\n",
       "dtype: int64"
      ]
     },
     "execution_count": 24,
     "metadata": {},
     "output_type": "execute_result"
    },
    {
     "data": {
      "image/png": "[encoded data removed]",
      "text/plain": [
       "<Figure size 432x288 with 2 Axes>"
      ]
     },
     "metadata": {},
     "output_type": "display_data"
    }
   ],
   "source": [
    "knn = KNeighborsClassifier(n_neighbors=9)\n",
    "knn.fit(X_train_std, y_train)\n",
    "predictions2 = knn.predict(X_test_std)\n",
    "print('Train Score is: ' , knn.score(X_train_std, y_train))\n",
    "print('Test Score is : ' , knn.score(X_test_std, y_test))\n",
    "print(pd.DataFrame({\"y_test\":y_test,'y_predict':predictions2,'Match':y_test == predictions2}).head(X_test_std.shape[0]))\n",
    "\n",
    "#Calculating Accuracy Score  : ((TP + TN) / float(TP + TN + FP + FN))\n",
    "AccScore = accuracy_score(y_test,predictions2, normalize=False)\n",
    "print('Predicted correctly  is: ', AccScore,'out of',X_test_std.shape[0])\n",
    "# Computing Metrics\n",
    "acc_score = accuracy_score(y_test, predictions2)\n",
    "precision = precision_score(y_test, predictions2, average='weighted')\n",
    "recall = recall_score(y_test, predictions2, average='weighted')\n",
    "f1score = f1_score(y_test, predictions2, average='weighted')\n",
    "\n",
    "# Printing Metrics\n",
    "print('Accuracy Score is:', acc_score)\n",
    "print('Precision Score is:', precision)\n",
    "print('Recall Score is:', recall)\n",
    "print('F1 Score is:', f1score)\n",
    "\n",
    "\n",
    "print(classification_report(y_test,predictions2))\n",
    "\n",
    "cm = confusion_matrix(y_test,predictions2, labels=['Best','Worst'])\n",
    "disp = ConfusionMatrixDisplay(confusion_matrix=cm,display_labels=['Best', 'Worst'])\n",
    "disp.plot()\n",
    "\n",
    "pd.value_counts(predictions2)\n"
   ]
  },
  {
   "cell_type": "markdown",
   "id": "ce022001",
   "metadata": {},
   "source": [
    "# Sample check"
   ]
  },
  {
   "cell_type": "code",
   "execution_count": 25,
   "id": "167cd5dd",
   "metadata": {},
   "outputs": [],
   "source": [
    "check_predictions2 = knn.predict(X_test_std)"
   ]
  },
  {
   "cell_type": "code",
   "execution_count": 26,
   "id": "3f4cd70c",
   "metadata": {},
   "outputs": [
    {
     "data": {
      "text/plain": [
       "array(['Best'], dtype=object)"
      ]
     },
     "execution_count": 26,
     "metadata": {},
     "output_type": "execute_result"
    }
   ],
   "source": [
    "#468[81,0.225,0.04]\n",
    "check_predictions2=knn.predict([[0.33029761,  1.12846948, -1.5918642]])\n",
    "check_predictions2"
   ]
  },
  {
   "cell_type": "code",
   "execution_count": 27,
   "id": "f3ba41a1",
   "metadata": {},
   "outputs": [
    {
     "data": {
      "text/plain": [
       "array(['Worst'], dtype=object)"
      ]
     },
     "execution_count": 27,
     "metadata": {},
     "output_type": "execute_result"
    }
   ],
   "source": [
    "#302 [69,0.200,0.09]\n",
    "check_predictions2=knn.predict([[-0.41014979,  0.7470782 ,  0.34387911]])\n",
    "check_predictions2"
   ]
  },
  {
   "cell_type": "markdown",
   "id": "0631dfa1",
   "metadata": {},
   "source": [
    "# Model 3:Random Forest"
   ]
  },
  {
   "cell_type": "code",
   "execution_count": 28,
   "id": "2d0d79ac",
   "metadata": {},
   "outputs": [
    {
     "name": "stdout",
     "output_type": "stream",
     "text": [
      "Train Score is:  1.0\n",
      "Test Score is :  0.9634703196347032\n",
      "    y_test y_predict  Match\n",
      "468   Best      Best   True\n",
      "148   Best      Best   True\n",
      "302  Worst     Worst   True\n",
      "355   Best     Worst  False\n",
      "515   Best      Best   True\n",
      "..     ...       ...    ...\n",
      "332  Worst     Worst   True\n",
      "532   Best      Best   True\n",
      "558   Best      Best   True\n",
      "137   Best      Best   True\n",
      "314  Worst     Worst   True\n",
      "\n",
      "[219 rows x 3 columns]\n",
      "Predicted correctly is:  211 out of 219\n",
      "Accuracy Score is: 0.9634703196347032\n",
      "Precision Score is: 0.965076128953437\n",
      "Recall Score is: 0.9634703196347032\n",
      "F1 Score is: 0.9635484792965018\n",
      "              precision    recall  f1-score   support\n",
      "\n",
      "        Best       0.99      0.94      0.97       121\n",
      "       Worst       0.93      0.99      0.96        98\n",
      "\n",
      "    accuracy                           0.96       219\n",
      "   macro avg       0.96      0.97      0.96       219\n",
      "weighted avg       0.97      0.96      0.96       219\n",
      "\n"
     ]
    },
    {
     "data": {
      "text/plain": [
       "Best     115\n",
       "Worst    104\n",
       "dtype: int64"
      ]
     },
     "execution_count": 28,
     "metadata": {},
     "output_type": "execute_result"
    },
    {
     "data": {
      "image/png": "[encoded data removed]",
      "text/plain": [
       "<Figure size 432x288 with 2 Axes>"
      ]
     },
     "metadata": {},
     "output_type": "display_data"
    }
   ],
   "source": [
    "rfc = RandomForestClassifier(n_estimators=300)\n",
    "rfc.fit(X_train_std, y_train)\n",
    "predictions3 = rfc.predict(X_test_std)\n",
    "print('Train Score is: ' , rfc.score(X_train_std, y_train))\n",
    "print('Test Score is : ' , rfc.score(X_test_std, y_test))\n",
    "\n",
    "print(pd.DataFrame({\"y_test\":y_test,'y_predict':predictions3,'Match':y_test == predictions3}).head(X_test_std.shape[0]))\n",
    "\n",
    "#Calculating Accuracy Score  : ((TP + TN) / float(TP + TN + FP + FN))\n",
    "AccScore = accuracy_score(y_test,predictions3, normalize=False)\n",
    "print('Predicted correctly is: ', AccScore,'out of',X_test_std.shape[0])\n",
    "# Computing Metrics\n",
    "acc_score = accuracy_score(y_test, predictions3)\n",
    "precision = precision_score(y_test, predictions3, average='weighted')\n",
    "recall = recall_score(y_test, predictions3, average='weighted')\n",
    "f1score = f1_score(y_test, predictions3, average='weighted')\n",
    "\n",
    "# Printing Metrics\n",
    "print('Accuracy Score is:', acc_score)\n",
    "print('Precision Score is:', precision)\n",
    "print('Recall Score is:', recall)\n",
    "print('F1 Score is:', f1score)\n",
    "\n",
    "\n",
    "print(classification_report(y_test,predictions3))\n",
    "\n",
    "cm = confusion_matrix(y_test,predictions3, labels=['Best','Worst'])\n",
    "disp = ConfusionMatrixDisplay(confusion_matrix=cm,display_labels=['Best', 'Worst'])\n",
    "disp.plot()\n",
    "\n",
    "pd.value_counts(predictions3)"
   ]
  },
  {
   "cell_type": "markdown",
   "id": "26d20a01",
   "metadata": {},
   "source": [
    "# Model 4:Support Vector Machine"
   ]
  },
  {
   "cell_type": "code",
   "execution_count": 29,
   "id": "43590333",
   "metadata": {},
   "outputs": [
    {
     "name": "stdout",
     "output_type": "stream",
     "text": [
      "Train Score is:  0.9823529411764705\n",
      "Test Score is :  0.9680365296803652\n",
      "    y_test y_predict  Match\n",
      "468   Best      Best   True\n",
      "148   Best      Best   True\n",
      "302  Worst     Worst   True\n",
      "355   Best     Worst  False\n",
      "515   Best      Best   True\n",
      "..     ...       ...    ...\n",
      "332  Worst     Worst   True\n",
      "532   Best      Best   True\n",
      "558   Best      Best   True\n",
      "137   Best      Best   True\n",
      "314  Worst     Worst   True\n",
      "\n",
      "[219 rows x 3 columns]\n",
      "Predicted correctly is:  212 out of 219\n",
      "Accuracy Score is: 0.9680365296803652\n",
      "Precision Score is: 0.969169674372815\n",
      "Recall Score is: 0.9680365296803652\n",
      "F1 Score is: 0.9680969178729208\n",
      "              precision    recall  f1-score   support\n",
      "\n",
      "        Best       0.99      0.95      0.97       121\n",
      "       Worst       0.94      0.99      0.97        98\n",
      "\n",
      "    accuracy                           0.97       219\n",
      "   macro avg       0.97      0.97      0.97       219\n",
      "weighted avg       0.97      0.97      0.97       219\n",
      "\n"
     ]
    },
    {
     "data": {
      "text/plain": [
       "Best     116\n",
       "Worst    103\n",
       "dtype: int64"
      ]
     },
     "execution_count": 29,
     "metadata": {},
     "output_type": "execute_result"
    },
    {
     "data": {
      "image/png": "[encoded data removed]",
      "text/plain": [
       "<Figure size 432x288 with 2 Axes>"
      ]
     },
     "metadata": {},
     "output_type": "display_data"
    }
   ],
   "source": [
    "svc_model = SVC(kernel='linear')\n",
    "svc_model.fit(X_train_std, y_train)\n",
    "predictions4 = svc_model.predict(X_test_std)\n",
    "\n",
    "print('Train Score is: ' , svc_model.score(X_train_std, y_train))\n",
    "print('Test Score is : ' , svc_model.score(X_test_std, y_test))\n",
    "\n",
    "print(pd.DataFrame({\"y_test\":y_test,'y_predict':predictions4,'Match':y_test == predictions4}).head(X_test_std.shape[0]))\n",
    "\n",
    "#Calculating Accuracy Score  : ((TP + TN) / float(TP + TN + FP + FN))\n",
    "AccScore = accuracy_score(y_test,predictions4, normalize=False)\n",
    "print('Predicted correctly is: ', AccScore,'out of',X_test_std.shape[0])\n",
    "# Computing Metrics\n",
    "acc_score = accuracy_score(y_test, predictions4)\n",
    "precision = precision_score(y_test, predictions4, average='weighted')\n",
    "recall = recall_score(y_test, predictions4, average='weighted')\n",
    "f1score = f1_score(y_test, predictions4, average='weighted')\n",
    "\n",
    "# Printing Metrics\n",
    "print('Accuracy Score is:', acc_score)\n",
    "print('Precision Score is:', precision)\n",
    "print('Recall Score is:', recall)\n",
    "print('F1 Score is:', f1score)\n",
    "\n",
    "\n",
    "print(classification_report(y_test,predictions4))\n",
    "\n",
    "cm = confusion_matrix(y_test,predictions4, labels=['Best','Worst'])\n",
    "disp = ConfusionMatrixDisplay(confusion_matrix=cm,display_labels=['Best', 'Worst'])\n",
    "disp.plot()\n",
    "\n",
    "pd.value_counts(predictions4)\n"
   ]
  },
  {
   "cell_type": "markdown",
   "id": "e08b73cd",
   "metadata": {},
   "source": [
    "# Model 5:Decision Tree classification"
   ]
  },
  {
   "cell_type": "code",
   "execution_count": 30,
   "id": "55c384c7",
   "metadata": {},
   "outputs": [
    {
     "name": "stdout",
     "output_type": "stream",
     "text": [
      "Train Score is:  1.0\n",
      "Test Score is :  0.9726027397260274\n",
      "    y_test y_predict  Match\n",
      "468   Best      Best   True\n",
      "148   Best      Best   True\n",
      "302  Worst     Worst   True\n",
      "355   Best     Worst  False\n",
      "515   Best      Best   True\n",
      "..     ...       ...    ...\n",
      "332  Worst     Worst   True\n",
      "532   Best      Best   True\n",
      "558   Best      Best   True\n",
      "137   Best      Best   True\n",
      "314  Worst     Worst   True\n",
      "\n",
      "[219 rows x 3 columns]\n",
      "Predicted correctly is:  213 out of 219\n",
      "Accuracy Score is: 0.9726027397260274\n",
      "Precision Score is: 0.9733419652839475\n",
      "Recall Score is: 0.9726027397260274\n",
      "F1 Score is: 0.9726464832508347\n",
      "              precision    recall  f1-score   support\n",
      "\n",
      "        Best       0.99      0.96      0.97       121\n",
      "       Worst       0.95      0.99      0.97        98\n",
      "\n",
      "    accuracy                           0.97       219\n",
      "   macro avg       0.97      0.97      0.97       219\n",
      "weighted avg       0.97      0.97      0.97       219\n",
      "\n"
     ]
    },
    {
     "data": {
      "text/plain": [
       "Best     117\n",
       "Worst    102\n",
       "dtype: int64"
      ]
     },
     "execution_count": 30,
     "metadata": {},
     "output_type": "execute_result"
    },
    {
     "data": {
      "image/png": "[encoded data removed]",
      "text/plain": [
       "<Figure size 432x288 with 2 Axes>"
      ]
     },
     "metadata": {},
     "output_type": "display_data"
    }
   ],
   "source": [
    "dtc_model = DecisionTreeClassifier(criterion='gini',max_depth=10,random_state=42)\n",
    "dtc_model.fit(X_train_std, y_train)\n",
    "predictions5 =dtc_model.predict(X_test_std)\n",
    "\n",
    "print('Train Score is: ' , dtc_model.score(X_train_std, y_train))\n",
    "print('Test Score is : ' , dtc_model.score(X_test_std, y_test))\n",
    "\n",
    "print(pd.DataFrame({\"y_test\":y_test,'y_predict':predictions5,'Match':y_test == predictions5}).head(X_test_std.shape[0]))\n",
    "\n",
    "#Calculating Accuracy Score  : ((TP + TN) / float(TP + TN + FP + FN))\n",
    "AccScore = accuracy_score(y_test,predictions5, normalize=False)\n",
    "print('Predicted correctly is: ', AccScore,'out of',X_test_std.shape[0])\n",
    "# Computing Metrics\n",
    "acc_score = accuracy_score(y_test, predictions5)\n",
    "precision = precision_score(y_test, predictions5, average='weighted')\n",
    "recall = recall_score(y_test, predictions5, average='weighted')\n",
    "f1score = f1_score(y_test, predictions5, average='weighted')\n",
    "\n",
    "# Printing Metrics\n",
    "print('Accuracy Score is:', acc_score)\n",
    "print('Precision Score is:', precision)\n",
    "print('Recall Score is:', recall)\n",
    "print('F1 Score is:', f1score)\n",
    "\n",
    "\n",
    "print(classification_report(y_test,predictions5))\n",
    "\n",
    "cm = confusion_matrix(y_test,predictions5, labels=['Best','Worst'])\n",
    "disp = ConfusionMatrixDisplay(confusion_matrix=cm,display_labels=['Best', 'Worst'])\n",
    "disp.plot()\n",
    "\n",
    "pd.value_counts(predictions5)\n"
   ]
  },
  {
   "cell_type": "markdown",
   "id": "d5849c9d",
   "metadata": {},
   "source": [
    "# Model 6:Gradient Boosting Classification"
   ]
  },
  {
   "cell_type": "code",
   "execution_count": 31,
   "id": "a10da679",
   "metadata": {},
   "outputs": [
    {
     "name": "stdout",
     "output_type": "stream",
     "text": [
      "Train Score is:  1.0\n",
      "Test Score is :  0.9726027397260274\n",
      "    y_test y_predict  Match\n",
      "468   Best      Best   True\n",
      "148   Best      Best   True\n",
      "302  Worst     Worst   True\n",
      "355   Best     Worst  False\n",
      "515   Best      Best   True\n",
      "..     ...       ...    ...\n",
      "332  Worst     Worst   True\n",
      "532   Best      Best   True\n",
      "558   Best      Best   True\n",
      "137   Best      Best   True\n",
      "314  Worst     Worst   True\n",
      "\n",
      "[219 rows x 3 columns]\n",
      "Predicted correctly is:  213 out of 219\n",
      "Accuracy Score is: 0.9726027397260274\n",
      "Precision Score is: 0.9733419652839475\n",
      "Recall Score is: 0.9726027397260274\n",
      "F1 Score is: 0.9726464832508347\n",
      "              precision    recall  f1-score   support\n",
      "\n",
      "        Best       0.99      0.96      0.97       121\n",
      "       Worst       0.95      0.99      0.97        98\n",
      "\n",
      "    accuracy                           0.97       219\n",
      "   macro avg       0.97      0.97      0.97       219\n",
      "weighted avg       0.97      0.97      0.97       219\n",
      "\n"
     ]
    },
    {
     "data": {
      "text/plain": [
       "Best     117\n",
       "Worst    102\n",
       "dtype: int64"
      ]
     },
     "execution_count": 31,
     "metadata": {},
     "output_type": "execute_result"
    },
    {
     "data": {
      "image/png": "[encoded data removed]",
      "text/plain": [
       "<Figure size 432x288 with 2 Axes>"
      ]
     },
     "metadata": {},
     "output_type": "display_data"
    }
   ],
   "source": [
    "gbc_model = GradientBoostingClassifier(n_estimators=500,max_depth=100,random_state=33) \n",
    "gbc_model.fit(X_train_std, y_train)\n",
    "predictions6 =gbc_model.predict(X_test_std)\n",
    "\n",
    "print('Train Score is: ' , gbc_model.score(X_train_std, y_train))\n",
    "print('Test Score is : ' , gbc_model.score(X_test_std, y_test))\n",
    "\n",
    "print(pd.DataFrame({\"y_test\":y_test,'y_predict':predictions6,'Match':y_test == predictions6}).head(X_test_std.shape[0]))\n",
    "\n",
    "#Calculating Accuracy Score  : ((TP + TN) / float(TP + TN + FP + FN))\n",
    "AccScore = accuracy_score(y_test,predictions6, normalize=False)\n",
    "print('Predicted correctly is: ', AccScore,'out of',X_test_std.shape[0])\n",
    "# Computing Metrics\n",
    "acc_score = accuracy_score(y_test, predictions6)\n",
    "precision = precision_score(y_test, predictions6, average='weighted')\n",
    "recall = recall_score(y_test, predictions6, average='weighted')\n",
    "f1score = f1_score(y_test, predictions6, average='weighted')\n",
    "\n",
    "# Printing Metrics\n",
    "print('Accuracy Score is:', acc_score)\n",
    "print('Precision Score is:', precision)\n",
    "print('Recall Score is:', recall)\n",
    "print('F1 Score is:', f1score)\n",
    "\n",
    "print(classification_report(y_test,predictions6))\n",
    "\n",
    "cm = confusion_matrix(y_test,predictions6, labels=['Best','Worst'])\n",
    "disp = ConfusionMatrixDisplay(confusion_matrix=cm,display_labels=['Best', 'Worst'])\n",
    "disp.plot()\n",
    "\n",
    "pd.value_counts(predictions6)\n"
   ]
  },
  {
   "cell_type": "markdown",
   "id": "8d8e07bc",
   "metadata": {},
   "source": [
    "# Model 7:Linear Discriminant Analysis"
   ]
  },
  {
   "cell_type": "code",
   "execution_count": 32,
   "id": "d457c76d",
   "metadata": {},
   "outputs": [
    {
     "name": "stdout",
     "output_type": "stream",
     "text": [
      "Train Score is:  0.9764705882352941\n",
      "Test Score is :  0.954337899543379\n",
      "Predicted Value for LDA: \n",
      "    y_test y_predict  Match\n",
      "468   Best      Best   True\n",
      "148   Best      Best   True\n",
      "302  Worst     Worst   True\n",
      "355   Best     Worst  False\n",
      "515   Best      Best   True\n",
      "..     ...       ...    ...\n",
      "332  Worst     Worst   True\n",
      "532   Best      Best   True\n",
      "558   Best      Best   True\n",
      "137   Best      Best   True\n",
      "314  Worst     Worst   True\n",
      "\n",
      "[219 rows x 3 columns]\n",
      "Predicted correctly is:  209 out of 219\n",
      "Accuracy Score is: 0.954337899543379\n",
      "Precision Score is: 0.9559689070111941\n",
      "Recall Score is: 0.954337899543379\n",
      "F1 Score is: 0.9544355991206274\n",
      "              precision    recall  f1-score   support\n",
      "\n",
      "        Best       0.98      0.93      0.96       121\n",
      "       Worst       0.92      0.98      0.95        98\n",
      "\n",
      "    accuracy                           0.95       219\n",
      "   macro avg       0.95      0.96      0.95       219\n",
      "weighted avg       0.96      0.95      0.95       219\n",
      "\n"
     ]
    },
    {
     "data": {
      "text/plain": [
       "Best     115\n",
       "Worst    104\n",
       "dtype: int64"
      ]
     },
     "execution_count": 32,
     "metadata": {},
     "output_type": "execute_result"
    },
    {
     "data": {
      "image/png": "[encoded data removed]",
      "text/plain": [
       "<Figure size 432x288 with 2 Axes>"
      ]
     },
     "metadata": {},
     "output_type": "display_data"
    }
   ],
   "source": [
    "lda_model = LinearDiscriminantAnalysis(n_components=1,solver='svd',tol=0.0001)\n",
    "lda_model.fit(X_train_std, y_train)\n",
    "predictions7 =lda_model.predict(X_test_std)\n",
    "probas = lda_model.predict_proba(X_test_std)\n",
    "print('Train Score is: ' , lda_model.score(X_train_std, y_train))\n",
    "print('Test Score is : ' , lda_model.score(X_test_std, y_test))\n",
    "print('Predicted Value for LDA: ')\n",
    "print(pd.DataFrame({\"y_test\":y_test,'y_predict':predictions7,'Match':y_test ==predictions7 }).head(X_test_std.shape[0]))\n",
    "\n",
    "#Calculating Accuracy Score  : ((TP + TN) / float(TP + TN + FP + FN))\n",
    "AccScore = accuracy_score(y_test,predictions7, normalize=False)\n",
    "print('Predicted correctly is: ', AccScore,'out of',X_test_std.shape[0])\n",
    "# Computing Metrics\n",
    "acc_score = accuracy_score(y_test, predictions7)\n",
    "precision = precision_score(y_test, predictions7, average='weighted')\n",
    "recall = recall_score(y_test, predictions7, average='weighted')\n",
    "f1score = f1_score(y_test, predictions7, average='weighted')\n",
    "\n",
    "# Printing Metrics\n",
    "print('Accuracy Score is:', acc_score)\n",
    "print('Precision Score is:', precision)\n",
    "print('Recall Score is:', recall)\n",
    "print('F1 Score is:', f1score)\n",
    "print(classification_report(y_test, predictions7))\n",
    "\n",
    "\n",
    "cm = confusion_matrix(y_test,predictions7, labels=['Best','Worst'])\n",
    "disp = ConfusionMatrixDisplay(confusion_matrix=cm,display_labels=['Best', 'Worst'])\n",
    "disp.plot()\n",
    "\n",
    "pd.value_counts(predictions7)\n",
    "\n"
   ]
  },
  {
   "cell_type": "markdown",
   "id": "9b920c8c",
   "metadata": {},
   "source": [
    "# Model 8:Quadratic Discriminant Analysis"
   ]
  },
  {
   "cell_type": "code",
   "execution_count": 33,
   "id": "db031993",
   "metadata": {},
   "outputs": [
    {
     "name": "stdout",
     "output_type": "stream",
     "text": [
      "Train Score is:  0.9725490196078431\n",
      "Test Score is :  0.958904109589041\n",
      "Predicted Value for QDA: \n",
      "    y_test y_predict  Match\n",
      "468   Best      Best   True\n",
      "148   Best      Best   True\n",
      "302  Worst     Worst   True\n",
      "355   Best     Worst  False\n",
      "515   Best      Best   True\n",
      "..     ...       ...    ...\n",
      "332  Worst     Worst   True\n",
      "532   Best      Best   True\n",
      "558   Best      Best   True\n",
      "137   Best      Best   True\n",
      "314  Worst     Worst   True\n",
      "\n",
      "[219 rows x 3 columns]\n",
      "Predicted correctly is:  210 out of 219\n",
      "Accuracy Score is: 0.954337899543379\n",
      "Precision Score is: 0.9559689070111941\n",
      "Recall Score is: 0.954337899543379\n",
      "F1 Score is: 0.9544355991206274\n",
      "              precision    recall  f1-score   support\n",
      "\n",
      "        Best       0.99      0.93      0.96       121\n",
      "       Worst       0.92      0.99      0.96        98\n",
      "\n",
      "    accuracy                           0.96       219\n",
      "   macro avg       0.96      0.96      0.96       219\n",
      "weighted avg       0.96      0.96      0.96       219\n",
      "\n"
     ]
    },
    {
     "data": {
      "text/plain": [
       "Best     114\n",
       "Worst    105\n",
       "dtype: int64"
      ]
     },
     "execution_count": 33,
     "metadata": {},
     "output_type": "execute_result"
    },
    {
     "data": {
      "image/png": "[encoded data removed]",
      "text/plain": [
       "<Figure size 432x288 with 2 Axes>"
      ]
     },
     "metadata": {},
     "output_type": "display_data"
    }
   ],
   "source": [
    "qda_model = QuadraticDiscriminantAnalysis(tol=0.0001)\n",
    "qda_model.fit(X_train_std, y_train)\n",
    "predictions8 =qda_model.predict(X_test_std)\n",
    "probas = qda_model.predict_proba(X_test_std)\n",
    "\n",
    "print('Train Score is: ' , qda_model.score(X_train_std, y_train))\n",
    "print('Test Score is : ' , qda_model.score(X_test_std, y_test))\n",
    "print('Predicted Value for QDA: ')\n",
    "print(pd.DataFrame({\"y_test\":y_test,'y_predict':predictions8,'Match':y_test ==predictions8}).head(X_test_std.shape[0]))\n",
    "\n",
    "#Calculating Accuracy Score  : ((TP + TN) / float(TP + TN + FP + FN))\n",
    "AccScore = accuracy_score(y_test,predictions8, normalize=False)\n",
    "print('Predicted correctly is: ', AccScore,'out of',X_test_std.shape[0])\n",
    "# Computing Metrics\n",
    "acc_score = accuracy_score(y_test, predictions7)\n",
    "precision = precision_score(y_test, predictions7, average='weighted')\n",
    "recall = recall_score(y_test, predictions7, average='weighted')\n",
    "f1score = f1_score(y_test, predictions7, average='weighted')\n",
    "\n",
    "# Printing Metrics\n",
    "print('Accuracy Score is:', acc_score)\n",
    "print('Precision Score is:', precision)\n",
    "print('Recall Score is:', recall)\n",
    "print('F1 Score is:', f1score)\n",
    "\n",
    "print(classification_report(y_test,predictions8))\n",
    "\n",
    "cm = confusion_matrix(y_test,predictions8, labels=['Best','Worst'])\n",
    "disp = ConfusionMatrixDisplay(confusion_matrix=cm,display_labels=['Best', 'Worst'])\n",
    "disp.plot()\n",
    "\n",
    "pd.value_counts(predictions8)\n"
   ]
  },
  {
   "cell_type": "markdown",
   "id": "59680b2d",
   "metadata": {},
   "source": [
    "# Tabulating the accuracies of different models"
   ]
  },
  {
   "cell_type": "code",
   "execution_count": 34,
   "id": "9a6d699a",
   "metadata": {},
   "outputs": [
    {
     "data": {
      "text/html": [
       "<div>\n",
       "<style scoped>\n",
       "    .dataframe tbody tr th:only-of-type {\n",
       "        vertical-align: middle;\n",
       "    }\n",
       "\n",
       "    .dataframe tbody tr th {\n",
       "        vertical-align: top;\n",
       "    }\n",
       "\n",
       "    .dataframe thead th {\n",
       "        text-align: right;\n",
       "    }\n",
       "</style>\n",
       "<table border=\"1\" class=\"dataframe\">\n",
       "  <thead>\n",
       "    <tr style=\"text-align: right;\">\n",
       "      <th></th>\n",
       "      <th>Model</th>\n",
       "      <th>Accuracy Score</th>\n",
       "      <th>Precission Score</th>\n",
       "      <th>Recall Score</th>\n",
       "      <th>F1 Score</th>\n",
       "    </tr>\n",
       "  </thead>\n",
       "  <tbody>\n",
       "    <tr>\n",
       "      <th>0</th>\n",
       "      <td>Logistic Regression</td>\n",
       "      <td>0.963470</td>\n",
       "      <td>0.964233</td>\n",
       "      <td>0.963470</td>\n",
       "      <td>0.963529</td>\n",
       "    </tr>\n",
       "    <tr>\n",
       "      <th>1</th>\n",
       "      <td>K-Nearest Neighbors</td>\n",
       "      <td>0.977169</td>\n",
       "      <td>0.977595</td>\n",
       "      <td>0.977169</td>\n",
       "      <td>0.977198</td>\n",
       "    </tr>\n",
       "    <tr>\n",
       "      <th>2</th>\n",
       "      <td>Random Forest</td>\n",
       "      <td>0.968037</td>\n",
       "      <td>0.969170</td>\n",
       "      <td>0.968037</td>\n",
       "      <td>0.968097</td>\n",
       "    </tr>\n",
       "    <tr>\n",
       "      <th>3</th>\n",
       "      <td>Support Vector Machine</td>\n",
       "      <td>0.968037</td>\n",
       "      <td>0.969170</td>\n",
       "      <td>0.968037</td>\n",
       "      <td>0.968097</td>\n",
       "    </tr>\n",
       "    <tr>\n",
       "      <th>4</th>\n",
       "      <td>Decision Tree classification</td>\n",
       "      <td>0.972603</td>\n",
       "      <td>0.973342</td>\n",
       "      <td>0.972603</td>\n",
       "      <td>0.972646</td>\n",
       "    </tr>\n",
       "    <tr>\n",
       "      <th>5</th>\n",
       "      <td>Gradient Boosting Classification</td>\n",
       "      <td>0.972603</td>\n",
       "      <td>0.973342</td>\n",
       "      <td>0.972603</td>\n",
       "      <td>0.972646</td>\n",
       "    </tr>\n",
       "    <tr>\n",
       "      <th>6</th>\n",
       "      <td>Linear Discriminant Analysis</td>\n",
       "      <td>0.954338</td>\n",
       "      <td>0.955969</td>\n",
       "      <td>0.954338</td>\n",
       "      <td>0.954436</td>\n",
       "    </tr>\n",
       "    <tr>\n",
       "      <th>7</th>\n",
       "      <td>Quadratic Discriminant Analysis</td>\n",
       "      <td>0.954338</td>\n",
       "      <td>0.955969</td>\n",
       "      <td>0.954338</td>\n",
       "      <td>0.954436</td>\n",
       "    </tr>\n",
       "  </tbody>\n",
       "</table>\n",
       "</div>"
      ],
      "text/plain": [
       "                              Model  Accuracy Score  Precission Score  \\\n",
       "0               Logistic Regression        0.963470          0.964233   \n",
       "1               K-Nearest Neighbors        0.977169          0.977595   \n",
       "2                     Random Forest        0.968037          0.969170   \n",
       "3            Support Vector Machine        0.968037          0.969170   \n",
       "4      Decision Tree classification        0.972603          0.973342   \n",
       "5  Gradient Boosting Classification        0.972603          0.973342   \n",
       "6      Linear Discriminant Analysis        0.954338          0.955969   \n",
       "7   Quadratic Discriminant Analysis        0.954338          0.955969   \n",
       "\n",
       "   Recall Score  F1 Score  \n",
       "0      0.963470  0.963529  \n",
       "1      0.977169  0.977198  \n",
       "2      0.968037  0.968097  \n",
       "3      0.968037  0.968097  \n",
       "4      0.972603  0.972646  \n",
       "5      0.972603  0.972646  \n",
       "6      0.954338  0.954436  \n",
       "7      0.954338  0.954436  "
      ]
     },
     "execution_count": 34,
     "metadata": {},
     "output_type": "execute_result"
    }
   ],
   "source": [
    "# create a list of model names\n",
    "model_names = [\"Logistic Regression\", \"K-Nearest Neighbors\", \"Random Forest\", \"Support Vector Machine\", \"Decision Tree classification\", \"Gradient Boosting Classification\", \"Linear Discriminant Analysis\",'Quadratic Discriminant Analysis']\n",
    "\n",
    "# create a list of accuracy scores for each model\n",
    "accuracy_scores = [0.9634703196347032,0.9771689497716894,0.9680365296803652,0.9680365296803652,0.9726027397260274,0.9726027397260274,0.954337899543379,0.954337899543379]\n",
    "precission_scores=[0.9642325025080867,0.9775953796912081,0.969169674372815,0.969169674372815,0.9733419652839475,0.9733419652839475,0.9559689070111941,0.9559689070111941]\n",
    "recall_scores=[0.9634703196347032,0.9771689497716894,0.9680365296803652,0.9680365296803652,0.9726027397260274,0.9726027397260274,0.954337899543379,0.954337899543379]\n",
    "f1scores=[0.9635286443344462,0.9771977520048994,0.9680969178729208,0.9680969178729208,0.9726464832508347,0.9726464832508347,0.9544355991206274,0.9544355991206274]\n",
    "\n",
    "# create a dictionary to store the model names and accuracy scores\n",
    "data = {\"Model\": model_names, \"Accuracy Score\": accuracy_scores,\"Precission Score\":precission_scores,'Recall Score':recall_scores,\"F1 Score\":f1scores}\n",
    "\n",
    "# create a pandas DataFrame using the dictionary\n",
    "accuracy_df = pd.DataFrame(data)\n",
    "\n",
    "# display the DataFrame\n",
    "accuracy_df"
   ]
  },
  {
   "cell_type": "markdown",
   "id": "e94d1948",
   "metadata": {},
   "source": [
    "# Arranging the accuracies in descending order"
   ]
  },
  {
   "cell_type": "code",
   "execution_count": 35,
   "id": "5fdb8641",
   "metadata": {},
   "outputs": [
    {
     "data": {
      "text/html": [
       "<div>\n",
       "<style scoped>\n",
       "    .dataframe tbody tr th:only-of-type {\n",
       "        vertical-align: middle;\n",
       "    }\n",
       "\n",
       "    .dataframe tbody tr th {\n",
       "        vertical-align: top;\n",
       "    }\n",
       "\n",
       "    .dataframe thead th {\n",
       "        text-align: right;\n",
       "    }\n",
       "</style>\n",
       "<table border=\"1\" class=\"dataframe\">\n",
       "  <thead>\n",
       "    <tr style=\"text-align: right;\">\n",
       "      <th></th>\n",
       "      <th>Model</th>\n",
       "      <th>Accuracy Score</th>\n",
       "      <th>Precission Score</th>\n",
       "      <th>Recall Score</th>\n",
       "      <th>F1 Score</th>\n",
       "    </tr>\n",
       "  </thead>\n",
       "  <tbody>\n",
       "    <tr>\n",
       "      <th>1</th>\n",
       "      <td>K-Nearest Neighbors</td>\n",
       "      <td>0.977169</td>\n",
       "      <td>0.977595</td>\n",
       "      <td>0.977169</td>\n",
       "      <td>0.977198</td>\n",
       "    </tr>\n",
       "    <tr>\n",
       "      <th>4</th>\n",
       "      <td>Decision Tree classification</td>\n",
       "      <td>0.972603</td>\n",
       "      <td>0.973342</td>\n",
       "      <td>0.972603</td>\n",
       "      <td>0.972646</td>\n",
       "    </tr>\n",
       "    <tr>\n",
       "      <th>5</th>\n",
       "      <td>Gradient Boosting Classification</td>\n",
       "      <td>0.972603</td>\n",
       "      <td>0.973342</td>\n",
       "      <td>0.972603</td>\n",
       "      <td>0.972646</td>\n",
       "    </tr>\n",
       "    <tr>\n",
       "      <th>2</th>\n",
       "      <td>Random Forest</td>\n",
       "      <td>0.968037</td>\n",
       "      <td>0.969170</td>\n",
       "      <td>0.968037</td>\n",
       "      <td>0.968097</td>\n",
       "    </tr>\n",
       "    <tr>\n",
       "      <th>3</th>\n",
       "      <td>Support Vector Machine</td>\n",
       "      <td>0.968037</td>\n",
       "      <td>0.969170</td>\n",
       "      <td>0.968037</td>\n",
       "      <td>0.968097</td>\n",
       "    </tr>\n",
       "    <tr>\n",
       "      <th>0</th>\n",
       "      <td>Logistic Regression</td>\n",
       "      <td>0.963470</td>\n",
       "      <td>0.964233</td>\n",
       "      <td>0.963470</td>\n",
       "      <td>0.963529</td>\n",
       "    </tr>\n",
       "    <tr>\n",
       "      <th>6</th>\n",
       "      <td>Linear Discriminant Analysis</td>\n",
       "      <td>0.954338</td>\n",
       "      <td>0.955969</td>\n",
       "      <td>0.954338</td>\n",
       "      <td>0.954436</td>\n",
       "    </tr>\n",
       "    <tr>\n",
       "      <th>7</th>\n",
       "      <td>Quadratic Discriminant Analysis</td>\n",
       "      <td>0.954338</td>\n",
       "      <td>0.955969</td>\n",
       "      <td>0.954338</td>\n",
       "      <td>0.954436</td>\n",
       "    </tr>\n",
       "  </tbody>\n",
       "</table>\n",
       "</div>"
      ],
      "text/plain": [
       "                              Model  Accuracy Score  Precission Score  \\\n",
       "1               K-Nearest Neighbors        0.977169          0.977595   \n",
       "4      Decision Tree classification        0.972603          0.973342   \n",
       "5  Gradient Boosting Classification        0.972603          0.973342   \n",
       "2                     Random Forest        0.968037          0.969170   \n",
       "3            Support Vector Machine        0.968037          0.969170   \n",
       "0               Logistic Regression        0.963470          0.964233   \n",
       "6      Linear Discriminant Analysis        0.954338          0.955969   \n",
       "7   Quadratic Discriminant Analysis        0.954338          0.955969   \n",
       "\n",
       "   Recall Score  F1 Score  \n",
       "1      0.977169  0.977198  \n",
       "4      0.972603  0.972646  \n",
       "5      0.972603  0.972646  \n",
       "2      0.968037  0.968097  \n",
       "3      0.968037  0.968097  \n",
       "0      0.963470  0.963529  \n",
       "6      0.954338  0.954436  \n",
       "7      0.954338  0.954436  "
      ]
     },
     "execution_count": 35,
     "metadata": {},
     "output_type": "execute_result"
    }
   ],
   "source": [
    "accuracy_df=accuracy_df.sort_values('Accuracy Score',ascending=False)\n",
    "accuracy_df"
   ]
  },
  {
   "cell_type": "code",
   "execution_count": 36,
   "id": "9a1c771c",
   "metadata": {},
   "outputs": [
    {
     "data": {
      "text/html": [
       "<div>\n",
       "<style scoped>\n",
       "    .dataframe tbody tr th:only-of-type {\n",
       "        vertical-align: middle;\n",
       "    }\n",
       "\n",
       "    .dataframe tbody tr th {\n",
       "        vertical-align: top;\n",
       "    }\n",
       "\n",
       "    .dataframe thead th {\n",
       "        text-align: right;\n",
       "    }\n",
       "</style>\n",
       "<table border=\"1\" class=\"dataframe\">\n",
       "  <thead>\n",
       "    <tr style=\"text-align: right;\">\n",
       "      <th></th>\n",
       "      <th>Model</th>\n",
       "      <th>Accuracy Score</th>\n",
       "      <th>Precission Score</th>\n",
       "      <th>Recall Score</th>\n",
       "      <th>F1 Score</th>\n",
       "    </tr>\n",
       "  </thead>\n",
       "  <tbody>\n",
       "    <tr>\n",
       "      <th>1</th>\n",
       "      <td>K-Nearest Neighbors</td>\n",
       "      <td>0.977169</td>\n",
       "      <td>0.977595</td>\n",
       "      <td>0.977169</td>\n",
       "      <td>0.977198</td>\n",
       "    </tr>\n",
       "    <tr>\n",
       "      <th>4</th>\n",
       "      <td>Decision Tree classification</td>\n",
       "      <td>0.972603</td>\n",
       "      <td>0.973342</td>\n",
       "      <td>0.972603</td>\n",
       "      <td>0.972646</td>\n",
       "    </tr>\n",
       "    <tr>\n",
       "      <th>5</th>\n",
       "      <td>Gradient Boosting Classification</td>\n",
       "      <td>0.972603</td>\n",
       "      <td>0.973342</td>\n",
       "      <td>0.972603</td>\n",
       "      <td>0.972646</td>\n",
       "    </tr>\n",
       "    <tr>\n",
       "      <th>2</th>\n",
       "      <td>Random Forest</td>\n",
       "      <td>0.968037</td>\n",
       "      <td>0.969170</td>\n",
       "      <td>0.968037</td>\n",
       "      <td>0.968097</td>\n",
       "    </tr>\n",
       "    <tr>\n",
       "      <th>3</th>\n",
       "      <td>Support Vector Machine</td>\n",
       "      <td>0.968037</td>\n",
       "      <td>0.969170</td>\n",
       "      <td>0.968037</td>\n",
       "      <td>0.968097</td>\n",
       "    </tr>\n",
       "    <tr>\n",
       "      <th>0</th>\n",
       "      <td>Logistic Regression</td>\n",
       "      <td>0.963470</td>\n",
       "      <td>0.964233</td>\n",
       "      <td>0.963470</td>\n",
       "      <td>0.963529</td>\n",
       "    </tr>\n",
       "    <tr>\n",
       "      <th>6</th>\n",
       "      <td>Linear Discriminant Analysis</td>\n",
       "      <td>0.954338</td>\n",
       "      <td>0.955969</td>\n",
       "      <td>0.954338</td>\n",
       "      <td>0.954436</td>\n",
       "    </tr>\n",
       "    <tr>\n",
       "      <th>7</th>\n",
       "      <td>Quadratic Discriminant Analysis</td>\n",
       "      <td>0.954338</td>\n",
       "      <td>0.955969</td>\n",
       "      <td>0.954338</td>\n",
       "      <td>0.954436</td>\n",
       "    </tr>\n",
       "  </tbody>\n",
       "</table>\n",
       "</div>"
      ],
      "text/plain": [
       "                              Model  Accuracy Score  Precission Score  \\\n",
       "1               K-Nearest Neighbors        0.977169          0.977595   \n",
       "4      Decision Tree classification        0.972603          0.973342   \n",
       "5  Gradient Boosting Classification        0.972603          0.973342   \n",
       "2                     Random Forest        0.968037          0.969170   \n",
       "3            Support Vector Machine        0.968037          0.969170   \n",
       "0               Logistic Regression        0.963470          0.964233   \n",
       "6      Linear Discriminant Analysis        0.954338          0.955969   \n",
       "7   Quadratic Discriminant Analysis        0.954338          0.955969   \n",
       "\n",
       "   Recall Score  F1 Score  \n",
       "1      0.977169  0.977198  \n",
       "4      0.972603  0.972646  \n",
       "5      0.972603  0.972646  \n",
       "2      0.968037  0.968097  \n",
       "3      0.968037  0.968097  \n",
       "0      0.963470  0.963529  \n",
       "6      0.954338  0.954436  \n",
       "7      0.954338  0.954436  "
      ]
     },
     "execution_count": 36,
     "metadata": {},
     "output_type": "execute_result"
    }
   ],
   "source": [
    "accuracy_df=accuracy_df.sort_values('Precission Score',ascending=False)\n",
    "accuracy_df"
   ]
  },
  {
   "cell_type": "code",
   "execution_count": 37,
   "id": "dc3fc50b",
   "metadata": {},
   "outputs": [
    {
     "data": {
      "text/html": [
       "<div>\n",
       "<style scoped>\n",
       "    .dataframe tbody tr th:only-of-type {\n",
       "        vertical-align: middle;\n",
       "    }\n",
       "\n",
       "    .dataframe tbody tr th {\n",
       "        vertical-align: top;\n",
       "    }\n",
       "\n",
       "    .dataframe thead th {\n",
       "        text-align: right;\n",
       "    }\n",
       "</style>\n",
       "<table border=\"1\" class=\"dataframe\">\n",
       "  <thead>\n",
       "    <tr style=\"text-align: right;\">\n",
       "      <th></th>\n",
       "      <th>Model</th>\n",
       "      <th>Accuracy Score</th>\n",
       "      <th>Precission Score</th>\n",
       "      <th>Recall Score</th>\n",
       "      <th>F1 Score</th>\n",
       "    </tr>\n",
       "  </thead>\n",
       "  <tbody>\n",
       "    <tr>\n",
       "      <th>1</th>\n",
       "      <td>K-Nearest Neighbors</td>\n",
       "      <td>0.977169</td>\n",
       "      <td>0.977595</td>\n",
       "      <td>0.977169</td>\n",
       "      <td>0.977198</td>\n",
       "    </tr>\n",
       "    <tr>\n",
       "      <th>4</th>\n",
       "      <td>Decision Tree classification</td>\n",
       "      <td>0.972603</td>\n",
       "      <td>0.973342</td>\n",
       "      <td>0.972603</td>\n",
       "      <td>0.972646</td>\n",
       "    </tr>\n",
       "    <tr>\n",
       "      <th>5</th>\n",
       "      <td>Gradient Boosting Classification</td>\n",
       "      <td>0.972603</td>\n",
       "      <td>0.973342</td>\n",
       "      <td>0.972603</td>\n",
       "      <td>0.972646</td>\n",
       "    </tr>\n",
       "    <tr>\n",
       "      <th>2</th>\n",
       "      <td>Random Forest</td>\n",
       "      <td>0.968037</td>\n",
       "      <td>0.969170</td>\n",
       "      <td>0.968037</td>\n",
       "      <td>0.968097</td>\n",
       "    </tr>\n",
       "    <tr>\n",
       "      <th>3</th>\n",
       "      <td>Support Vector Machine</td>\n",
       "      <td>0.968037</td>\n",
       "      <td>0.969170</td>\n",
       "      <td>0.968037</td>\n",
       "      <td>0.968097</td>\n",
       "    </tr>\n",
       "    <tr>\n",
       "      <th>0</th>\n",
       "      <td>Logistic Regression</td>\n",
       "      <td>0.963470</td>\n",
       "      <td>0.964233</td>\n",
       "      <td>0.963470</td>\n",
       "      <td>0.963529</td>\n",
       "    </tr>\n",
       "    <tr>\n",
       "      <th>6</th>\n",
       "      <td>Linear Discriminant Analysis</td>\n",
       "      <td>0.954338</td>\n",
       "      <td>0.955969</td>\n",
       "      <td>0.954338</td>\n",
       "      <td>0.954436</td>\n",
       "    </tr>\n",
       "    <tr>\n",
       "      <th>7</th>\n",
       "      <td>Quadratic Discriminant Analysis</td>\n",
       "      <td>0.954338</td>\n",
       "      <td>0.955969</td>\n",
       "      <td>0.954338</td>\n",
       "      <td>0.954436</td>\n",
       "    </tr>\n",
       "  </tbody>\n",
       "</table>\n",
       "</div>"
      ],
      "text/plain": [
       "                              Model  Accuracy Score  Precission Score  \\\n",
       "1               K-Nearest Neighbors        0.977169          0.977595   \n",
       "4      Decision Tree classification        0.972603          0.973342   \n",
       "5  Gradient Boosting Classification        0.972603          0.973342   \n",
       "2                     Random Forest        0.968037          0.969170   \n",
       "3            Support Vector Machine        0.968037          0.969170   \n",
       "0               Logistic Regression        0.963470          0.964233   \n",
       "6      Linear Discriminant Analysis        0.954338          0.955969   \n",
       "7   Quadratic Discriminant Analysis        0.954338          0.955969   \n",
       "\n",
       "   Recall Score  F1 Score  \n",
       "1      0.977169  0.977198  \n",
       "4      0.972603  0.972646  \n",
       "5      0.972603  0.972646  \n",
       "2      0.968037  0.968097  \n",
       "3      0.968037  0.968097  \n",
       "0      0.963470  0.963529  \n",
       "6      0.954338  0.954436  \n",
       "7      0.954338  0.954436  "
      ]
     },
     "execution_count": 37,
     "metadata": {},
     "output_type": "execute_result"
    }
   ],
   "source": [
    "accuracy_df=accuracy_df.sort_values('Recall Score',ascending=False)\n",
    "accuracy_df"
   ]
  },
  {
   "cell_type": "code",
   "execution_count": 38,
   "id": "6d6aa705",
   "metadata": {},
   "outputs": [
    {
     "data": {
      "text/html": [
       "<div>\n",
       "<style scoped>\n",
       "    .dataframe tbody tr th:only-of-type {\n",
       "        vertical-align: middle;\n",
       "    }\n",
       "\n",
       "    .dataframe tbody tr th {\n",
       "        vertical-align: top;\n",
       "    }\n",
       "\n",
       "    .dataframe thead th {\n",
       "        text-align: right;\n",
       "    }\n",
       "</style>\n",
       "<table border=\"1\" class=\"dataframe\">\n",
       "  <thead>\n",
       "    <tr style=\"text-align: right;\">\n",
       "      <th></th>\n",
       "      <th>Model</th>\n",
       "      <th>Accuracy Score</th>\n",
       "      <th>Precission Score</th>\n",
       "      <th>Recall Score</th>\n",
       "      <th>F1 Score</th>\n",
       "    </tr>\n",
       "  </thead>\n",
       "  <tbody>\n",
       "    <tr>\n",
       "      <th>1</th>\n",
       "      <td>K-Nearest Neighbors</td>\n",
       "      <td>0.977169</td>\n",
       "      <td>0.977595</td>\n",
       "      <td>0.977169</td>\n",
       "      <td>0.977198</td>\n",
       "    </tr>\n",
       "    <tr>\n",
       "      <th>4</th>\n",
       "      <td>Decision Tree classification</td>\n",
       "      <td>0.972603</td>\n",
       "      <td>0.973342</td>\n",
       "      <td>0.972603</td>\n",
       "      <td>0.972646</td>\n",
       "    </tr>\n",
       "    <tr>\n",
       "      <th>5</th>\n",
       "      <td>Gradient Boosting Classification</td>\n",
       "      <td>0.972603</td>\n",
       "      <td>0.973342</td>\n",
       "      <td>0.972603</td>\n",
       "      <td>0.972646</td>\n",
       "    </tr>\n",
       "    <tr>\n",
       "      <th>2</th>\n",
       "      <td>Random Forest</td>\n",
       "      <td>0.968037</td>\n",
       "      <td>0.969170</td>\n",
       "      <td>0.968037</td>\n",
       "      <td>0.968097</td>\n",
       "    </tr>\n",
       "    <tr>\n",
       "      <th>3</th>\n",
       "      <td>Support Vector Machine</td>\n",
       "      <td>0.968037</td>\n",
       "      <td>0.969170</td>\n",
       "      <td>0.968037</td>\n",
       "      <td>0.968097</td>\n",
       "    </tr>\n",
       "    <tr>\n",
       "      <th>0</th>\n",
       "      <td>Logistic Regression</td>\n",
       "      <td>0.963470</td>\n",
       "      <td>0.964233</td>\n",
       "      <td>0.963470</td>\n",
       "      <td>0.963529</td>\n",
       "    </tr>\n",
       "    <tr>\n",
       "      <th>6</th>\n",
       "      <td>Linear Discriminant Analysis</td>\n",
       "      <td>0.954338</td>\n",
       "      <td>0.955969</td>\n",
       "      <td>0.954338</td>\n",
       "      <td>0.954436</td>\n",
       "    </tr>\n",
       "    <tr>\n",
       "      <th>7</th>\n",
       "      <td>Quadratic Discriminant Analysis</td>\n",
       "      <td>0.954338</td>\n",
       "      <td>0.955969</td>\n",
       "      <td>0.954338</td>\n",
       "      <td>0.954436</td>\n",
       "    </tr>\n",
       "  </tbody>\n",
       "</table>\n",
       "</div>"
      ],
      "text/plain": [
       "                              Model  Accuracy Score  Precission Score  \\\n",
       "1               K-Nearest Neighbors        0.977169          0.977595   \n",
       "4      Decision Tree classification        0.972603          0.973342   \n",
       "5  Gradient Boosting Classification        0.972603          0.973342   \n",
       "2                     Random Forest        0.968037          0.969170   \n",
       "3            Support Vector Machine        0.968037          0.969170   \n",
       "0               Logistic Regression        0.963470          0.964233   \n",
       "6      Linear Discriminant Analysis        0.954338          0.955969   \n",
       "7   Quadratic Discriminant Analysis        0.954338          0.955969   \n",
       "\n",
       "   Recall Score  F1 Score  \n",
       "1      0.977169  0.977198  \n",
       "4      0.972603  0.972646  \n",
       "5      0.972603  0.972646  \n",
       "2      0.968037  0.968097  \n",
       "3      0.968037  0.968097  \n",
       "0      0.963470  0.963529  \n",
       "6      0.954338  0.954436  \n",
       "7      0.954338  0.954436  "
      ]
     },
     "execution_count": 38,
     "metadata": {},
     "output_type": "execute_result"
    }
   ],
   "source": [
    "accuracy_df=accuracy_df.sort_values('F1 Score',ascending=False)\n",
    "accuracy_df"
   ]
  },
  {
   "cell_type": "code",
   "execution_count": null,
   "id": "2b1194aa",
   "metadata": {},
   "outputs": [],
   "source": []
  }
 ],
 "metadata": {
  "kernelspec": {
   "display_name": "Python 3 (ipykernel)",
   "language": "python",
   "name": "python3"
  },
  "language_info": {
   "codemirror_mode": {
    "name": "ipython",
    "version": 3
   },
   "file_extension": ".py",
   "mimetype": "text/x-python",
   "name": "python",
   "nbconvert_exporter": "python",
   "pygments_lexer": "ipython3",
   "version": "3.9.12"
  }
 },
 "nbformat": 4,
 "nbformat_minor": 5
}
