{
 "cells": [
  {
   "cell_type": "markdown",
   "id": "05733df4",
   "metadata": {},
   "source": [
    "# PREDICTION OF DELAMINATION FACTOR USING VARIOUS REGRESSION MODELS"
   ]
  },
  {
   "cell_type": "markdown",
   "id": "8a27121d",
   "metadata": {},
   "source": [
    "# Importing required libraries"
   ]
  },
  {
   "cell_type": "code",
   "execution_count": 1,
   "id": "0c67345f",
   "metadata": {},
   "outputs": [],
   "source": [
    "import pandas as pd\n",
    "import numpy as np\n",
    "import seaborn as sns\n",
    "import matplotlib.pyplot as plt\n",
    "\n",
    "%matplotlib inline"
   ]
  },
  {
   "cell_type": "markdown",
   "id": "99cdf648",
   "metadata": {},
   "source": [
    "# Reading the csv file"
   ]
  },
  {
   "cell_type": "code",
   "execution_count": 2,
   "id": "9f056430",
   "metadata": {},
   "outputs": [
    {
     "data": {
      "text/html": [
       "<div>\n",
       "<style scoped>\n",
       "    .dataframe tbody tr th:only-of-type {\n",
       "        vertical-align: middle;\n",
       "    }\n",
       "\n",
       "    .dataframe tbody tr th {\n",
       "        vertical-align: top;\n",
       "    }\n",
       "\n",
       "    .dataframe thead th {\n",
       "        text-align: right;\n",
       "    }\n",
       "</style>\n",
       "<table border=\"1\" class=\"dataframe\">\n",
       "  <thead>\n",
       "    <tr style=\"text-align: right;\">\n",
       "      <th></th>\n",
       "      <th>cutting speed</th>\n",
       "      <th>depth of cut</th>\n",
       "      <th>feed rate</th>\n",
       "      <th>Delamination Factor</th>\n",
       "    </tr>\n",
       "  </thead>\n",
       "  <tbody>\n",
       "    <tr>\n",
       "      <th>0</th>\n",
       "      <td>50</td>\n",
       "      <td>0.05</td>\n",
       "      <td>0.04</td>\n",
       "      <td>1.000699</td>\n",
       "    </tr>\n",
       "    <tr>\n",
       "      <th>1</th>\n",
       "      <td>50</td>\n",
       "      <td>0.05</td>\n",
       "      <td>0.05</td>\n",
       "      <td>1.006140</td>\n",
       "    </tr>\n",
       "    <tr>\n",
       "      <th>2</th>\n",
       "      <td>50</td>\n",
       "      <td>0.05</td>\n",
       "      <td>0.06</td>\n",
       "      <td>1.011477</td>\n",
       "    </tr>\n",
       "    <tr>\n",
       "      <th>3</th>\n",
       "      <td>50</td>\n",
       "      <td>0.05</td>\n",
       "      <td>0.07</td>\n",
       "      <td>1.016711</td>\n",
       "    </tr>\n",
       "    <tr>\n",
       "      <th>4</th>\n",
       "      <td>50</td>\n",
       "      <td>0.05</td>\n",
       "      <td>0.08</td>\n",
       "      <td>1.021840</td>\n",
       "    </tr>\n",
       "  </tbody>\n",
       "</table>\n",
       "</div>"
      ],
      "text/plain": [
       "   cutting speed  depth of cut  feed rate  Delamination Factor\n",
       "0             50          0.05       0.04             1.000699\n",
       "1             50          0.05       0.05             1.006140\n",
       "2             50          0.05       0.06             1.011477\n",
       "3             50          0.05       0.07             1.016711\n",
       "4             50          0.05       0.08             1.021840"
      ]
     },
     "execution_count": 2,
     "metadata": {},
     "output_type": "execute_result"
    }
   ],
   "source": [
    "data = pd.read_csv('C:/Users/hp/Documents/mini_project_data.csv')\n",
    "data.head()"
   ]
  },
  {
   "cell_type": "markdown",
   "id": "ed73b59c",
   "metadata": {},
   "source": [
    "# Explotary data analysis"
   ]
  },
  {
   "cell_type": "code",
   "execution_count": 3,
   "id": "5ab2c156",
   "metadata": {},
   "outputs": [
    {
     "name": "stdout",
     "output_type": "stream",
     "text": [
      "<class 'pandas.core.frame.DataFrame'>\n",
      "RangeIndex: 729 entries, 0 to 728\n",
      "Data columns (total 4 columns):\n",
      " #   Column               Non-Null Count  Dtype  \n",
      "---  ------               --------------  -----  \n",
      " 0   cutting speed        729 non-null    int64  \n",
      " 1   depth of cut         729 non-null    float64\n",
      " 2   feed rate            729 non-null    float64\n",
      " 3   Delamination Factor  729 non-null    float64\n",
      "dtypes: float64(3), int64(1)\n",
      "memory usage: 22.9 KB\n"
     ]
    }
   ],
   "source": [
    "data.info()"
   ]
  },
  {
   "cell_type": "code",
   "execution_count": 4,
   "id": "fe4500a3",
   "metadata": {},
   "outputs": [
    {
     "data": {
      "text/html": [
       "<div>\n",
       "<style scoped>\n",
       "    .dataframe tbody tr th:only-of-type {\n",
       "        vertical-align: middle;\n",
       "    }\n",
       "\n",
       "    .dataframe tbody tr th {\n",
       "        vertical-align: top;\n",
       "    }\n",
       "\n",
       "    .dataframe thead th {\n",
       "        text-align: right;\n",
       "    }\n",
       "</style>\n",
       "<table border=\"1\" class=\"dataframe\">\n",
       "  <thead>\n",
       "    <tr style=\"text-align: right;\">\n",
       "      <th></th>\n",
       "      <th>cutting speed</th>\n",
       "      <th>depth of cut</th>\n",
       "      <th>feed rate</th>\n",
       "      <th>Delamination Factor</th>\n",
       "    </tr>\n",
       "  </thead>\n",
       "  <tbody>\n",
       "    <tr>\n",
       "      <th>count</th>\n",
       "      <td>729.00000</td>\n",
       "      <td>729.000000</td>\n",
       "      <td>729.000000</td>\n",
       "      <td>729.000000</td>\n",
       "    </tr>\n",
       "    <tr>\n",
       "      <th>mean</th>\n",
       "      <td>75.00000</td>\n",
       "      <td>0.150000</td>\n",
       "      <td>0.080000</td>\n",
       "      <td>1.031074</td>\n",
       "    </tr>\n",
       "    <tr>\n",
       "      <th>std</th>\n",
       "      <td>16.10798</td>\n",
       "      <td>0.064594</td>\n",
       "      <td>0.025838</td>\n",
       "      <td>0.015199</td>\n",
       "    </tr>\n",
       "    <tr>\n",
       "      <th>min</th>\n",
       "      <td>50.00000</td>\n",
       "      <td>0.050000</td>\n",
       "      <td>0.040000</td>\n",
       "      <td>1.000699</td>\n",
       "    </tr>\n",
       "    <tr>\n",
       "      <th>25%</th>\n",
       "      <td>63.00000</td>\n",
       "      <td>0.100000</td>\n",
       "      <td>0.060000</td>\n",
       "      <td>1.018504</td>\n",
       "    </tr>\n",
       "    <tr>\n",
       "      <th>50%</th>\n",
       "      <td>75.00000</td>\n",
       "      <td>0.150000</td>\n",
       "      <td>0.080000</td>\n",
       "      <td>1.031078</td>\n",
       "    </tr>\n",
       "    <tr>\n",
       "      <th>75%</th>\n",
       "      <td>87.00000</td>\n",
       "      <td>0.200000</td>\n",
       "      <td>0.100000</td>\n",
       "      <td>1.043352</td>\n",
       "    </tr>\n",
       "    <tr>\n",
       "      <th>max</th>\n",
       "      <td>100.00000</td>\n",
       "      <td>0.250000</td>\n",
       "      <td>0.120000</td>\n",
       "      <td>1.066019</td>\n",
       "    </tr>\n",
       "  </tbody>\n",
       "</table>\n",
       "</div>"
      ],
      "text/plain": [
       "       cutting speed  depth of cut   feed rate  Delamination Factor\n",
       "count      729.00000    729.000000  729.000000           729.000000\n",
       "mean        75.00000      0.150000    0.080000             1.031074\n",
       "std         16.10798      0.064594    0.025838             0.015199\n",
       "min         50.00000      0.050000    0.040000             1.000699\n",
       "25%         63.00000      0.100000    0.060000             1.018504\n",
       "50%         75.00000      0.150000    0.080000             1.031078\n",
       "75%         87.00000      0.200000    0.100000             1.043352\n",
       "max        100.00000      0.250000    0.120000             1.066019"
      ]
     },
     "execution_count": 4,
     "metadata": {},
     "output_type": "execute_result"
    }
   ],
   "source": [
    "data.describe()"
   ]
  },
  {
   "cell_type": "code",
   "execution_count": 5,
   "id": "25094f31",
   "metadata": {},
   "outputs": [
    {
     "data": {
      "text/plain": [
       "<seaborn.axisgrid.PairGrid at 0x1c45614a8b0>"
      ]
     },
     "execution_count": 5,
     "metadata": {},
     "output_type": "execute_result"
    },
    {
     "data": {
      "image/png": "[encoded data removed]",
      "text/plain": [
       "<Figure size 720x720 with 20 Axes>"
      ]
     },
     "metadata": {
      "needs_background": "light"
     },
     "output_type": "display_data"
    }
   ],
   "source": [
    "sns.pairplot(data)"
   ]
  },
  {
   "cell_type": "code",
   "execution_count": 6,
   "id": "de36de87",
   "metadata": {},
   "outputs": [
    {
     "name": "stderr",
     "output_type": "stream",
     "text": [
      "C:\\Users\\hp\\anaconda3\\lib\\site-packages\\seaborn\\distributions.py:2619: FutureWarning: `distplot` is a deprecated function and will be removed in a future version. Please adapt your code to use either `displot` (a figure-level function with similar flexibility) or `histplot` (an axes-level function for histograms).\n",
      "  warnings.warn(msg, FutureWarning)\n"
     ]
    },
    {
     "data": {
      "text/plain": [
       "<AxesSubplot:xlabel='Delamination Factor', ylabel='Density'>"
      ]
     },
     "execution_count": 6,
     "metadata": {},
     "output_type": "execute_result"
    },
    {
     "data": {
      "image/png": "[encoded data removed]",
      "text/plain": [
       "<Figure size 432x288 with 1 Axes>"
      ]
     },
     "metadata": {
      "needs_background": "light"
     },
     "output_type": "display_data"
    }
   ],
   "source": [
    "sns.distplot(data['Delamination Factor'])"
   ]
  },
  {
   "cell_type": "code",
   "execution_count": 7,
   "id": "629f475d",
   "metadata": {},
   "outputs": [
    {
     "data": {
      "text/plain": [
       "<AxesSubplot:>"
      ]
     },
     "execution_count": 7,
     "metadata": {},
     "output_type": "execute_result"
    },
    {
     "data": {
      "image/png": "[encoded data removed]",
      "text/plain": [
       "<Figure size 432x288 with 2 Axes>"
      ]
     },
     "metadata": {
      "needs_background": "light"
     },
     "output_type": "display_data"
    }
   ],
   "source": [
    "sns.heatmap(data.corr(), annot=True)"
   ]
  },
  {
   "cell_type": "markdown",
   "id": "6ddb9f39",
   "metadata": {},
   "source": [
    "# Dataset Preparation"
   ]
  },
  {
   "cell_type": "code",
   "execution_count": 8,
   "id": "92c0de86",
   "metadata": {},
   "outputs": [],
   "source": [
    "#define x and y\n",
    "x=data.iloc[:, :-1]\n",
    "y=data.iloc[:, 3]"
   ]
  },
  {
   "cell_type": "code",
   "execution_count": 9,
   "id": "813b0d7f",
   "metadata": {},
   "outputs": [
    {
     "data": {
      "text/plain": [
       "(729, 3)"
      ]
     },
     "execution_count": 9,
     "metadata": {},
     "output_type": "execute_result"
    }
   ],
   "source": [
    "x.shape"
   ]
  },
  {
   "cell_type": "code",
   "execution_count": 10,
   "id": "dc5f5ec4",
   "metadata": {},
   "outputs": [
    {
     "data": {
      "text/plain": [
       "(729,)"
      ]
     },
     "execution_count": 10,
     "metadata": {},
     "output_type": "execute_result"
    }
   ],
   "source": [
    "y.shape"
   ]
  },
  {
   "cell_type": "code",
   "execution_count": 11,
   "id": "6e502a2d",
   "metadata": {},
   "outputs": [
    {
     "data": {
      "text/plain": [
       "0      1.000699\n",
       "1      1.006140\n",
       "2      1.011477\n",
       "3      1.016711\n",
       "4      1.021840\n",
       "         ...   \n",
       "724    1.043141\n",
       "725    1.049016\n",
       "726    1.054788\n",
       "727    1.060455\n",
       "728    1.066019\n",
       "Name: Delamination Factor, Length: 729, dtype: float64"
      ]
     },
     "execution_count": 11,
     "metadata": {},
     "output_type": "execute_result"
    }
   ],
   "source": [
    "y"
   ]
  },
  {
   "cell_type": "code",
   "execution_count": 12,
   "id": "a0a741b1",
   "metadata": {},
   "outputs": [],
   "source": [
    "from sklearn.model_selection import train_test_split\n",
    "X_train,X_test,y_train,y_test = train_test_split(x,y,test_size=0.3,random_state=42)"
   ]
  },
  {
   "cell_type": "code",
   "execution_count": 13,
   "id": "c2deed91",
   "metadata": {},
   "outputs": [
    {
     "data": {
      "text/plain": [
       "(510, 3)"
      ]
     },
     "execution_count": 13,
     "metadata": {},
     "output_type": "execute_result"
    }
   ],
   "source": [
    "X_train.shape"
   ]
  },
  {
   "cell_type": "code",
   "execution_count": 14,
   "id": "08e4ba7a",
   "metadata": {},
   "outputs": [
    {
     "data": {
      "text/plain": [
       "(510,)"
      ]
     },
     "execution_count": 14,
     "metadata": {},
     "output_type": "execute_result"
    }
   ],
   "source": [
    "y_train.shape"
   ]
  },
  {
   "cell_type": "code",
   "execution_count": 15,
   "id": "6e40f131",
   "metadata": {},
   "outputs": [
    {
     "data": {
      "text/plain": [
       "(219, 3)"
      ]
     },
     "execution_count": 15,
     "metadata": {},
     "output_type": "execute_result"
    }
   ],
   "source": [
    "X_test.shape"
   ]
  },
  {
   "cell_type": "code",
   "execution_count": 16,
   "id": "001c1d93",
   "metadata": {},
   "outputs": [
    {
     "data": {
      "text/plain": [
       "(219,)"
      ]
     },
     "execution_count": 16,
     "metadata": {},
     "output_type": "execute_result"
    }
   ],
   "source": [
    "y_test.shape"
   ]
  },
  {
   "cell_type": "markdown",
   "id": "cf31380e",
   "metadata": {},
   "source": [
    "# Model 1:Multiple Linear Regression"
   ]
  },
  {
   "cell_type": "code",
   "execution_count": 17,
   "id": "0ae34f17",
   "metadata": {},
   "outputs": [
    {
     "data": {
      "text/plain": [
       "LinearRegression()"
      ]
     },
     "execution_count": 17,
     "metadata": {},
     "output_type": "execute_result"
    }
   ],
   "source": [
    "#from sklearn library imprtin linear regression\n",
    "#fiting the training set into the model\n",
    "from sklearn.linear_model import LinearRegression\n",
    "lm = LinearRegression()\n",
    "lm.fit(X_train,y_train)"
   ]
  },
  {
   "cell_type": "code",
   "execution_count": 18,
   "id": "2ce0ed0d",
   "metadata": {},
   "outputs": [
    {
     "name": "stdout",
     "output_type": "stream",
     "text": [
      "0.959844858830968\n"
     ]
    }
   ],
   "source": [
    "#evaluate the modelintercept\n",
    "print(lm.intercept_)"
   ]
  },
  {
   "cell_type": "code",
   "execution_count": 19,
   "id": "d23d0c4b",
   "metadata": {},
   "outputs": [
    {
     "name": "stdout",
     "output_type": "stream",
     "text": [
      "[2.96294018e-04 3.28255577e-02 5.50862226e-01]\n"
     ]
    }
   ],
   "source": [
    "print(lm.coef_)"
   ]
  },
  {
   "cell_type": "code",
   "execution_count": 20,
   "id": "7b27894f",
   "metadata": {},
   "outputs": [
    {
     "data": {
      "text/plain": [
       "array([1.01326491, 1.02789205, 1.03643186, 1.03023908, 1.02277737,\n",
       "       1.0331493 , 1.00490044, 1.00011309, 1.04277664, 1.00738395,\n",
       "       1.0184012 , 1.05663422, 1.03795217, 1.01549098, 1.03852144,\n",
       "       1.0276562 , 1.03998739, 1.03384898, 1.02403079, 1.00890427,\n",
       "       1.032701  , 1.04772207, 1.0158028 , 1.04713729, 1.01097833,\n",
       "       1.02914547, 1.01990599, 1.01814375, 1.04098336, 1.0255511 ,\n",
       "       1.02941844, 1.04334591, 1.00325916, 1.01509704, 1.04385473,\n",
       "       1.02117493, 1.04289761, 1.01277161, 1.00466459, 1.04465985,\n",
       "       1.03574771, 1.04092899, 1.01953365, 1.01315003, 1.04320942,\n",
       "       1.03396994, 1.05500846, 1.03201685, 1.01426088, 1.01258076,\n",
       "       1.0209996 , 1.00808363, 1.03213781, 1.03295845, 1.02827047,\n",
       "       1.05708252, 1.04221345, 1.05018399, 1.05035932, 1.01179897,\n",
       "       1.06296348, 1.03934208, 1.01769545, 1.01894887, 1.00752044,\n",
       "       1.05145293, 1.0040798 , 1.02180472, 1.03244355, 1.02447301,\n",
       "       1.0251028 , 1.01725322, 1.00574268, 1.03949409, 1.01688089,\n",
       "       1.02955493, 1.02751972, 1.04567134, 1.00820459, 1.04936335,\n",
       "       1.04949984, 1.00998236, 1.05309421, 1.00947354, 1.02764068,\n",
       "       1.02541461, 1.02871877, 1.01992151, 1.01732311, 1.02016344,\n",
       "       1.02112057, 1.01467034, 1.01207194, 1.02332503, 1.01871302,\n",
       "       1.04594431, 1.02262536, 1.02523928, 1.03422131, 1.01663896,\n",
       "       1.04346079, 1.04563249, 1.04580782, 1.01675992, 1.04725825,\n",
       "       1.02283173, 1.05241006, 1.03150802, 1.04643761, 1.02486695,\n",
       "       1.05651325, 1.03340675, 1.00876778, 1.01383418, 1.01480683,\n",
       "       1.01453386, 1.04137729, 1.05487198, 1.02693493, 1.00935257,\n",
       "       1.02428216, 1.02113609, 1.03543589, 1.03631089, 1.04174963,\n",
       "       1.0532307 , 1.04758559, 1.03612004, 1.03504803, 1.05335166,\n",
       "       1.01320439, 1.00875226, 1.03379461, 1.00093373, 1.02308918,\n",
       "       1.02485142, 1.03713153, 1.02281621, 1.0317594 , 1.04568686,\n",
       "       1.04264016, 1.05637677, 1.02801302, 1.01812823, 1.00503692,\n",
       "       1.04885453, 1.0259994 , 1.01758056, 1.0613222 , 1.05405134,\n",
       "       1.01054555, 1.05803964, 1.03138706, 1.04453888, 1.04252527,\n",
       "       1.00933705, 1.02498791, 1.01136619, 1.01504268, 1.03726802,\n",
       "       1.03973601, 1.01162364, 1.02916099, 1.00257501, 1.01826471,\n",
       "       1.0142764 , 1.03625653, 1.02567206, 1.03410643, 1.05747038,\n",
       "       1.03302834, 1.01908535, 1.0054697 , 1.03118069, 1.02086312,\n",
       "       1.0301026 , 1.01359225, 1.00562171, 1.03549025, 1.02883366,\n",
       "       1.05626188, 1.05418782, 1.04111984, 1.03518452, 1.02029993,\n",
       "       1.04315506, 1.03383345, 0.9999766 , 1.05664974, 1.02213206,\n",
       "       1.02459397, 1.03061142, 1.01113034, 1.04181952, 1.01973066,\n",
       "       1.00916172, 1.01181449, 1.02182024, 1.02832483, 1.05213709,\n",
       "       1.04934783, 1.01484567, 1.0558291 , 1.03256451, 1.04010835,\n",
       "       1.01371322, 1.05075326, 1.03629537, 1.02226854, 1.01730759,\n",
       "       1.00984587, 1.04561697, 1.0305509 , 1.02719238, 1.04981166,\n",
       "       1.01891002, 1.01586332, 1.01605417, 1.05377836])"
      ]
     },
     "execution_count": 20,
     "metadata": {},
     "output_type": "execute_result"
    }
   ],
   "source": [
    "#predicting the test set result\n",
    "prediction1 = lm.predict(X_test)\n",
    "prediction1"
   ]
  },
  {
   "cell_type": "code",
   "execution_count": 21,
   "id": "aef75ffd",
   "metadata": {},
   "outputs": [
    {
     "data": {
      "image/png": "[encoded data removed]",
      "text/plain": [
       "<Figure size 1080x720 with 1 Axes>"
      ]
     },
     "metadata": {
      "needs_background": "light"
     },
     "output_type": "display_data"
    }
   ],
   "source": [
    "#to scatter the plots which evaluated\n",
    "plt.figure(figsize=(15,10))\n",
    "plt.plot(y_test,prediction1,'o',color='green')\n",
    "m,b =np.polyfit(y_test,prediction1,1)\n",
    "plt.plot(y_test,m*y_test+b,color='red',)\n",
    "plt.xlabel('Actual delamination factor')\n",
    "plt.ylabel('Predicted delamination factor')\n",
    "plt.title('Actual delamination factor vs Predicted delamination factor')\n",
    "plt.show()"
   ]
  },
  {
   "cell_type": "code",
   "execution_count": 22,
   "id": "dd50301c",
   "metadata": {},
   "outputs": [
    {
     "name": "stderr",
     "output_type": "stream",
     "text": [
      "C:\\Users\\hp\\anaconda3\\lib\\site-packages\\seaborn\\distributions.py:2619: FutureWarning: `distplot` is a deprecated function and will be removed in a future version. Please adapt your code to use either `displot` (a figure-level function with similar flexibility) or `histplot` (an axes-level function for histograms).\n",
      "  warnings.warn(msg, FutureWarning)\n"
     ]
    },
    {
     "data": {
      "text/plain": [
       "<AxesSubplot:xlabel='Delamination Factor', ylabel='Density'>"
      ]
     },
     "execution_count": 22,
     "metadata": {},
     "output_type": "execute_result"
    },
    {
     "data": {
      "image/png": "[encoded data removed]",
      "text/plain": [
       "<Figure size 720x360 with 1 Axes>"
      ]
     },
     "metadata": {
      "needs_background": "light"
     },
     "output_type": "display_data"
    }
   ],
   "source": [
    "# visualizing residuals\n",
    "fig = plt.figure(figsize=(10,5))\n",
    "residuals = (y_test- prediction1)\n",
    "sns.distplot(residuals)"
   ]
  },
  {
   "cell_type": "code",
   "execution_count": 23,
   "id": "d213ea7c",
   "metadata": {},
   "outputs": [
    {
     "data": {
      "text/html": [
       "<div>\n",
       "<style scoped>\n",
       "    .dataframe tbody tr th:only-of-type {\n",
       "        vertical-align: middle;\n",
       "    }\n",
       "\n",
       "    .dataframe tbody tr th {\n",
       "        vertical-align: top;\n",
       "    }\n",
       "\n",
       "    .dataframe thead th {\n",
       "        text-align: right;\n",
       "    }\n",
       "</style>\n",
       "<table border=\"1\" class=\"dataframe\">\n",
       "  <thead>\n",
       "    <tr style=\"text-align: right;\">\n",
       "      <th></th>\n",
       "      <th>Actual delamination factor</th>\n",
       "      <th>Predicted delamination factor</th>\n",
       "      <th>difference</th>\n",
       "    </tr>\n",
       "  </thead>\n",
       "  <tbody>\n",
       "    <tr>\n",
       "      <th>468</th>\n",
       "      <td>1.010562</td>\n",
       "      <td>1.013265</td>\n",
       "      <td>-0.002703</td>\n",
       "    </tr>\n",
       "    <tr>\n",
       "      <th>148</th>\n",
       "      <td>1.028898</td>\n",
       "      <td>1.027892</td>\n",
       "      <td>0.001006</td>\n",
       "    </tr>\n",
       "    <tr>\n",
       "      <th>302</th>\n",
       "      <td>1.035888</td>\n",
       "      <td>1.036432</td>\n",
       "      <td>-0.000543</td>\n",
       "    </tr>\n",
       "    <tr>\n",
       "      <th>355</th>\n",
       "      <td>1.029603</td>\n",
       "      <td>1.030239</td>\n",
       "      <td>-0.000636</td>\n",
       "    </tr>\n",
       "    <tr>\n",
       "      <th>515</th>\n",
       "      <td>1.022615</td>\n",
       "      <td>1.022777</td>\n",
       "      <td>-0.000162</td>\n",
       "    </tr>\n",
       "    <tr>\n",
       "      <th>...</th>\n",
       "      <td>...</td>\n",
       "      <td>...</td>\n",
       "      <td>...</td>\n",
       "    </tr>\n",
       "    <tr>\n",
       "      <th>332</th>\n",
       "      <td>1.046240</td>\n",
       "      <td>1.049812</td>\n",
       "      <td>-0.003571</td>\n",
       "    </tr>\n",
       "    <tr>\n",
       "      <th>532</th>\n",
       "      <td>1.018102</td>\n",
       "      <td>1.018910</td>\n",
       "      <td>-0.000808</td>\n",
       "    </tr>\n",
       "    <tr>\n",
       "      <th>558</th>\n",
       "      <td>1.012736</td>\n",
       "      <td>1.015863</td>\n",
       "      <td>-0.003128</td>\n",
       "    </tr>\n",
       "    <tr>\n",
       "      <th>137</th>\n",
       "      <td>1.017245</td>\n",
       "      <td>1.016054</td>\n",
       "      <td>0.001191</td>\n",
       "    </tr>\n",
       "    <tr>\n",
       "      <th>314</th>\n",
       "      <td>1.052528</td>\n",
       "      <td>1.053778</td>\n",
       "      <td>-0.001250</td>\n",
       "    </tr>\n",
       "  </tbody>\n",
       "</table>\n",
       "<p>219 rows × 3 columns</p>\n",
       "</div>"
      ],
      "text/plain": [
       "     Actual delamination factor  Predicted delamination factor  difference\n",
       "468                    1.010562                       1.013265   -0.002703\n",
       "148                    1.028898                       1.027892    0.001006\n",
       "302                    1.035888                       1.036432   -0.000543\n",
       "355                    1.029603                       1.030239   -0.000636\n",
       "515                    1.022615                       1.022777   -0.000162\n",
       "..                          ...                            ...         ...\n",
       "332                    1.046240                       1.049812   -0.003571\n",
       "532                    1.018102                       1.018910   -0.000808\n",
       "558                    1.012736                       1.015863   -0.003128\n",
       "137                    1.017245                       1.016054    0.001191\n",
       "314                    1.052528                       1.053778   -0.001250\n",
       "\n",
       "[219 rows x 3 columns]"
      ]
     },
     "execution_count": 23,
     "metadata": {},
     "output_type": "execute_result"
    }
   ],
   "source": [
    "#compare actual output values with predicted values\n",
    "pred_y_df=pd.DataFrame({'Actual delamination factor':y_test,'Predicted delamination factor':prediction1,'difference':y_test-prediction1})\n",
    "pred_y_df[0:]"
   ]
  },
  {
   "cell_type": "code",
   "execution_count": 24,
   "id": "0f4acdb8",
   "metadata": {},
   "outputs": [
    {
     "name": "stdout",
     "output_type": "stream",
     "text": [
      "MAE: 0.001235212825086487\n",
      "MSE: 2.1898638839887856e-06\n",
      "RMSE: 0.0014798188686419651\n",
      "R2 Score: 0.9905532400847042\n",
      "Variance score: 99.06\n"
     ]
    }
   ],
   "source": [
    "# evaluate the performance of the algorithm (MAE - MSE - RMSE)\n",
    "from sklearn import metrics\n",
    "from sklearn.metrics import r2_score\n",
    "print('MAE:', metrics.mean_absolute_error(y_test, prediction1))  \n",
    "print('MSE:', metrics.mean_squared_error(y_test, prediction1))  \n",
    "print('RMSE:', np.sqrt(metrics.mean_squared_error(y_test, prediction1)))\n",
    "print('R2 Score:',metrics.explained_variance_score(y_test,prediction1))\n",
    "print('Variance score: {:.2f}'.format(metrics.explained_variance_score(y_test,prediction1)*100))"
   ]
  },
  {
   "cell_type": "markdown",
   "id": "f8ee7aa9",
   "metadata": {},
   "source": [
    "# Model 2:Ridge Regression"
   ]
  },
  {
   "cell_type": "code",
   "execution_count": 25,
   "id": "b4e70128",
   "metadata": {},
   "outputs": [],
   "source": [
    "# import ridge regression from sklearn library\n",
    "from sklearn.linear_model import Ridge"
   ]
  },
  {
   "cell_type": "code",
   "execution_count": 26,
   "id": "f2a4f032",
   "metadata": {},
   "outputs": [
    {
     "data": {
      "text/plain": [
       "Ridge(alpha=0.01)"
      ]
     },
     "execution_count": 26,
     "metadata": {},
     "output_type": "execute_result"
    }
   ],
   "source": [
    "# Train the model\n",
    "ridgeR = Ridge(alpha = 0.01)\n",
    "ridgeR.fit(X_train, y_train)"
   ]
  },
  {
   "cell_type": "code",
   "execution_count": 27,
   "id": "857ce0da",
   "metadata": {},
   "outputs": [
    {
     "name": "stdout",
     "output_type": "stream",
     "text": [
      "0.9612101356225937\n"
     ]
    }
   ],
   "source": [
    "#evaluate the modelintercept\n",
    "print(ridgeR.intercept_)"
   ]
  },
  {
   "cell_type": "code",
   "execution_count": 28,
   "id": "4c9b4ac9",
   "metadata": {},
   "outputs": [
    {
     "data": {
      "text/plain": [
       "array([1.01389343, 1.02790977, 1.03628722, 1.0302624 , 1.02310647,\n",
       "       1.03302475, 1.00554756, 1.0007958 , 1.04233201, 1.00804215,\n",
       "       1.01874447, 1.05615104, 1.03765451, 1.01598212, 1.03823395,\n",
       "       1.0275516 , 1.03983361, 1.03357642, 1.02435957, 1.00940944,\n",
       "       1.03270926, 1.04727345, 1.01615565, 1.04681601, 1.01147816,\n",
       "       1.02916287, 1.02023375, 1.01833856, 1.04068081, 1.02572686,\n",
       "       1.02944678, 1.04291145, 1.00391632, 1.01543426, 1.04355353,\n",
       "       1.02136486, 1.04259596, 1.01312936, 1.00518939, 1.04449114,\n",
       "       1.03561356, 1.04091318, 1.01973362, 1.01379921, 1.04276949,\n",
       "       1.03384037, 1.0543978 , 1.03203559, 1.01474063, 1.01321977,\n",
       "       1.02133328, 1.00859382, 1.03229954, 1.03311516, 1.02857962,\n",
       "       1.05646653, 1.04192229, 1.04972031, 1.04975189, 1.01229378,\n",
       "       1.06231781, 1.03904957, 1.01802307, 1.01927618, 1.0081841 ,\n",
       "       1.05085142, 1.00473194, 1.02227089, 1.03230335, 1.02450534,\n",
       "       1.02541137, 1.0178773 , 1.00641091, 1.03906953, 1.01737718,\n",
       "       1.02958874, 1.02740964, 1.04521635, 1.00885777, 1.04890469,\n",
       "       1.04904664, 1.01063096, 1.05248266, 1.00998888, 1.02767359,\n",
       "       1.02558491, 1.02889511, 1.02011175, 1.01752294, 1.02063965,\n",
       "       1.02159723, 1.0151665 , 1.01257769, 1.02363818, 1.018918  ,\n",
       "       1.04550026, 1.02308651, 1.02555332, 1.03407655, 1.01684928,\n",
       "       1.04300567, 1.04532672, 1.04535831, 1.01711323, 1.04707995,\n",
       "       1.0228741 , 1.05180899, 1.03139351, 1.04626434, 1.0250532 ,\n",
       "       1.05588709, 1.03343065, 1.00926748, 1.01447287, 1.01530845,\n",
       "       1.01502454, 1.04122867, 1.05425585, 1.0269522 , 1.00972493,\n",
       "       1.02459575, 1.02147523, 1.03544002, 1.03602328, 1.0417288 ,\n",
       "       1.05262461, 1.0471315 , 1.03611369, 1.03506189, 1.05288856,\n",
       "       1.01356684, 1.00938948, 1.03380879, 1.00161142, 1.02328001,\n",
       "       1.02517519, 1.03683889, 1.0229961 , 1.03162969, 1.04509436,\n",
       "       1.04219005, 1.05574513, 1.02817372, 1.01846056, 1.00568951,\n",
       "       1.04826261, 1.02604235, 1.01792885, 1.06068658, 1.05344023,\n",
       "       1.01104067, 1.0574241 , 1.03112956, 1.04422719, 1.04209583,\n",
       "       1.00984692, 1.02531715, 1.01185629, 1.01566663, 1.03698085,\n",
       "       1.03959743, 1.0122622 , 1.02904088, 1.00324266, 1.01860251,\n",
       "       1.01461864, 1.03625564, 1.02599081, 1.03398232, 1.05684466,\n",
       "       1.0327608 , 1.01941813, 1.006127  , 1.03134197, 1.02119132,\n",
       "       1.03012045, 1.01394498, 1.00614696, 1.03520766, 1.02898934,\n",
       "       1.05565091, 1.05358218, 1.04082277, 1.03520385, 1.02078161,\n",
       "       1.04300186, 1.03369841, 1.00065385, 1.05602904, 1.02232243,\n",
       "       1.02476929, 1.03076253, 1.01149812, 1.04137443, 1.02020217,\n",
       "       1.00981534, 1.01217178, 1.02214889, 1.02834726, 1.05152508,\n",
       "       1.04902668, 1.01519808, 1.05521342, 1.0325673 , 1.04009756,\n",
       "       1.01420893, 1.05029975, 1.03614527, 1.02246439, 1.01764494,\n",
       "       1.010489  , 1.04544872, 1.03043594, 1.0273581 , 1.04922018,\n",
       "       1.01938655, 1.01648224, 1.01639183, 1.05315632])"
      ]
     },
     "execution_count": 28,
     "metadata": {},
     "output_type": "execute_result"
    }
   ],
   "source": [
    "#predict the test results\n",
    "y_rdpred = ridgeR.predict(X_test)\n",
    "y_rdpred"
   ]
  },
  {
   "cell_type": "code",
   "execution_count": 29,
   "id": "2edb6c56",
   "metadata": {
    "scrolled": false
   },
   "outputs": [
    {
     "data": {
      "image/png": "[encoded data removed]",
      "text/plain": [
       "<Figure size 1080x720 with 1 Axes>"
      ]
     },
     "metadata": {
      "needs_background": "light"
     },
     "output_type": "display_data"
    }
   ],
   "source": [
    "#to scatter the plots which evaluated\n",
    "plt.figure(figsize=(15,10))\n",
    "plt.plot(y_test,y_rdpred,'o',color='green')\n",
    "m,b =np.polyfit(y_test,y_rdpred,1)\n",
    "plt.plot(y_test,m*y_test+b,color='red',)\n",
    "plt.xlabel('Actual delamination factor')\n",
    "plt.ylabel('Predicted delamination factor')\n",
    "plt.title('Actual delamination factor vs Predicted delamination factor')\n",
    "plt.show()"
   ]
  },
  {
   "cell_type": "code",
   "execution_count": 30,
   "id": "ab916cd3",
   "metadata": {},
   "outputs": [
    {
     "name": "stderr",
     "output_type": "stream",
     "text": [
      "C:\\Users\\hp\\anaconda3\\lib\\site-packages\\seaborn\\distributions.py:2619: FutureWarning: `distplot` is a deprecated function and will be removed in a future version. Please adapt your code to use either `displot` (a figure-level function with similar flexibility) or `histplot` (an axes-level function for histograms).\n",
      "  warnings.warn(msg, FutureWarning)\n"
     ]
    },
    {
     "data": {
      "text/plain": [
       "<AxesSubplot:xlabel='Delamination Factor', ylabel='Density'>"
      ]
     },
     "execution_count": 30,
     "metadata": {},
     "output_type": "execute_result"
    },
    {
     "data": {
      "image/png": "[encoded data removed]",
      "text/plain": [
       "<Figure size 720x360 with 1 Axes>"
      ]
     },
     "metadata": {
      "needs_background": "light"
     },
     "output_type": "display_data"
    }
   ],
   "source": [
    "# visualizing residuals\n",
    "fig = plt.figure(figsize=(10,5))\n",
    "residuals = (y_test- y_rdpred)\n",
    "sns.distplot(residuals)"
   ]
  },
  {
   "cell_type": "code",
   "execution_count": 31,
   "id": "418baf8d",
   "metadata": {
    "scrolled": true
   },
   "outputs": [
    {
     "data": {
      "text/html": [
       "<div>\n",
       "<style scoped>\n",
       "    .dataframe tbody tr th:only-of-type {\n",
       "        vertical-align: middle;\n",
       "    }\n",
       "\n",
       "    .dataframe tbody tr th {\n",
       "        vertical-align: top;\n",
       "    }\n",
       "\n",
       "    .dataframe thead th {\n",
       "        text-align: right;\n",
       "    }\n",
       "</style>\n",
       "<table border=\"1\" class=\"dataframe\">\n",
       "  <thead>\n",
       "    <tr style=\"text-align: right;\">\n",
       "      <th></th>\n",
       "      <th>Actual delamination factor</th>\n",
       "      <th>Predicted delamination factor</th>\n",
       "      <th>difference</th>\n",
       "    </tr>\n",
       "  </thead>\n",
       "  <tbody>\n",
       "    <tr>\n",
       "      <th>468</th>\n",
       "      <td>1.010562</td>\n",
       "      <td>1.013893</td>\n",
       "      <td>-0.003331</td>\n",
       "    </tr>\n",
       "    <tr>\n",
       "      <th>148</th>\n",
       "      <td>1.028898</td>\n",
       "      <td>1.027910</td>\n",
       "      <td>0.000988</td>\n",
       "    </tr>\n",
       "    <tr>\n",
       "      <th>302</th>\n",
       "      <td>1.035888</td>\n",
       "      <td>1.036287</td>\n",
       "      <td>-0.000399</td>\n",
       "    </tr>\n",
       "    <tr>\n",
       "      <th>355</th>\n",
       "      <td>1.029603</td>\n",
       "      <td>1.030262</td>\n",
       "      <td>-0.000660</td>\n",
       "    </tr>\n",
       "    <tr>\n",
       "      <th>515</th>\n",
       "      <td>1.022615</td>\n",
       "      <td>1.023106</td>\n",
       "      <td>-0.000491</td>\n",
       "    </tr>\n",
       "    <tr>\n",
       "      <th>...</th>\n",
       "      <td>...</td>\n",
       "      <td>...</td>\n",
       "      <td>...</td>\n",
       "    </tr>\n",
       "    <tr>\n",
       "      <th>332</th>\n",
       "      <td>1.046240</td>\n",
       "      <td>1.049220</td>\n",
       "      <td>-0.002980</td>\n",
       "    </tr>\n",
       "    <tr>\n",
       "      <th>532</th>\n",
       "      <td>1.018102</td>\n",
       "      <td>1.019387</td>\n",
       "      <td>-0.001284</td>\n",
       "    </tr>\n",
       "    <tr>\n",
       "      <th>558</th>\n",
       "      <td>1.012736</td>\n",
       "      <td>1.016482</td>\n",
       "      <td>-0.003746</td>\n",
       "    </tr>\n",
       "    <tr>\n",
       "      <th>137</th>\n",
       "      <td>1.017245</td>\n",
       "      <td>1.016392</td>\n",
       "      <td>0.000853</td>\n",
       "    </tr>\n",
       "    <tr>\n",
       "      <th>314</th>\n",
       "      <td>1.052528</td>\n",
       "      <td>1.053156</td>\n",
       "      <td>-0.000628</td>\n",
       "    </tr>\n",
       "  </tbody>\n",
       "</table>\n",
       "<p>219 rows × 3 columns</p>\n",
       "</div>"
      ],
      "text/plain": [
       "     Actual delamination factor  Predicted delamination factor  difference\n",
       "468                    1.010562                       1.013893   -0.003331\n",
       "148                    1.028898                       1.027910    0.000988\n",
       "302                    1.035888                       1.036287   -0.000399\n",
       "355                    1.029603                       1.030262   -0.000660\n",
       "515                    1.022615                       1.023106   -0.000491\n",
       "..                          ...                            ...         ...\n",
       "332                    1.046240                       1.049220   -0.002980\n",
       "532                    1.018102                       1.019387   -0.001284\n",
       "558                    1.012736                       1.016482   -0.003746\n",
       "137                    1.017245                       1.016392    0.000853\n",
       "314                    1.052528                       1.053156   -0.000628\n",
       "\n",
       "[219 rows x 3 columns]"
      ]
     },
     "execution_count": 31,
     "metadata": {},
     "output_type": "execute_result"
    }
   ],
   "source": [
    "#compare actual output values with predicted values\n",
    "pred_y_df=pd.DataFrame({'Actual delamination factor':y_test,'Predicted delamination factor':y_rdpred,'difference':y_test-y_rdpred})\n",
    "pred_y_df[0:]"
   ]
  },
  {
   "cell_type": "code",
   "execution_count": 32,
   "id": "256ca2df",
   "metadata": {},
   "outputs": [
    {
     "name": "stdout",
     "output_type": "stream",
     "text": [
      "MAE: 0.0012423898771182324\n",
      "MSE: 2.3108315565752862e-06\n",
      "RMSE: 0.0015201419527712818\n",
      "R2 Score: 0.9900220503349842\n",
      "Variance score: 99.00\n"
     ]
    }
   ],
   "source": [
    "# evaluate the performance of the algorithm (MAE - MSE - RMSE)\n",
    "from sklearn import metrics\n",
    "print('MAE:', metrics.mean_absolute_error(y_test,y_rdpred))  \n",
    "print('MSE:', metrics.mean_squared_error(y_test, y_rdpred))  \n",
    "print('RMSE:', np.sqrt(metrics.mean_squared_error(y_test,y_rdpred)))\n",
    "print('R2 Score:',metrics.explained_variance_score(y_test,y_rdpred))\n",
    "print('Variance score: {:.2f}'.format(metrics.explained_variance_score(y_test,y_rdpred)*100))"
   ]
  },
  {
   "cell_type": "markdown",
   "id": "0fbd8ca0",
   "metadata": {},
   "source": [
    "# Model 3:Decision Tree Regression Model"
   ]
  },
  {
   "cell_type": "code",
   "execution_count": 33,
   "id": "c5a7a40a",
   "metadata": {},
   "outputs": [
    {
     "data": {
      "text/plain": [
       "DecisionTreeRegressor(random_state=42)"
      ]
     },
     "execution_count": 33,
     "metadata": {},
     "output_type": "execute_result"
    }
   ],
   "source": [
    "# import DecisionTree RGRESSOR from sklearn libraery\n",
    "from sklearn.tree import DecisionTreeRegressor  \n",
    "# create a regressor object\n",
    "regressor = DecisionTreeRegressor(random_state = 42)\n",
    "# fit the regressor with x and y data\n",
    "regressor.fit(X_train, y_train)"
   ]
  },
  {
   "cell_type": "code",
   "execution_count": 34,
   "id": "4e8d9d50",
   "metadata": {},
   "outputs": [
    {
     "data": {
      "text/plain": [
       "array([1.0103322 , 1.02860946, 1.0364289 , 1.02803431, 1.02169343,\n",
       "       1.03387747, 1.00610563, 1.00069851, 1.04431989, 1.00517426,\n",
       "       1.01850376, 1.06001419, 1.0402155 , 1.01534301, 1.03734795,\n",
       "       1.0268658 , 1.03876836, 1.03635107, 1.02376865, 1.01020997,\n",
       "       1.03237189, 1.04498158, 1.01370583, 1.04551097, 1.01020997,\n",
       "       1.02972522, 1.01939391, 1.02199939, 1.04006517, 1.02410519,\n",
       "       1.02733168, 1.04285797, 1.00597039, 1.01764219, 1.04233647,\n",
       "       1.02233339, 1.04292633, 1.0139219 , 1.00613993, 1.04502046,\n",
       "       1.03596705, 1.04188776, 1.0204017 , 1.0152043 , 1.04138696,\n",
       "       1.03436421, 1.05813781, 1.03051013, 1.01252004, 1.0120845 ,\n",
       "       1.01943081, 1.00941405, 1.03366815, 1.03607937, 1.02956802,\n",
       "       1.05867741, 1.03986287, 1.0503428 , 1.05048542, 1.01103055,\n",
       "       1.064875  , 1.04006517, 1.01771012, 1.01859351, 1.00696711,\n",
       "       1.04782545, 1.00597039, 1.02113283, 1.03403419, 1.02659474,\n",
       "       1.02228369, 1.01754541, 1.00262773, 1.03818617, 1.01802768,\n",
       "       1.02931353, 1.03005216, 1.0459946 , 1.00560963, 1.04756924,\n",
       "       1.04749319, 1.00942934, 1.05055268, 1.00968361, 1.02573784,\n",
       "       1.02517621, 1.03051758, 1.02226627, 1.02061952, 1.02113283,\n",
       "       1.0210965 , 1.01534301, 1.00941749, 1.02081675, 1.01908891,\n",
       "       1.04251558, 1.02191058, 1.02482647, 1.03437006, 1.01671082,\n",
       "       1.0430341 , 1.04663254, 1.04376105, 1.01711802, 1.04759218,\n",
       "       1.02596734, 1.04842385, 1.03119698, 1.04759218, 1.02502246,\n",
       "       1.05632879, 1.03493865, 1.0117114 , 1.01312358, 1.0149378 ,\n",
       "       1.01413623, 1.04159369, 1.05055268, 1.02926146, 1.01277349,\n",
       "       1.02228369, 1.02169343, 1.03479177, 1.0391129 , 1.04188776,\n",
       "       1.04842385, 1.04547114, 1.03427724, 1.03712888, 1.05426614,\n",
       "       1.01385026, 1.00657702, 1.03286725, 1.00188058, 1.0231006 ,\n",
       "       1.02376865, 1.03973807, 1.02365495, 1.0322225 , 1.04750128,\n",
       "       1.0430341 , 1.05423444, 1.02517621, 1.01859351, 1.00597039,\n",
       "       1.04749283, 1.02573784, 1.01834828, 1.06314037, 1.05055268,\n",
       "       1.0117114 , 1.06081484, 1.0322597 , 1.04292633, 1.0413298 ,\n",
       "       1.00868103, 1.02792688, 1.0117114 , 1.01244932, 1.0391129 ,\n",
       "       1.04159369, 1.00942934, 1.0327247 , 1.00380154, 1.01702992,\n",
       "       1.01764219, 1.03657061, 1.02376865, 1.03097   , 1.05813781,\n",
       "       1.035135  , 1.01702992, 1.00467831, 1.03296705, 1.02046009,\n",
       "       1.02896096, 1.01600792, 1.00714194, 1.0391129 , 1.02545493,\n",
       "       1.05867741, 1.05813781, 1.04130174, 1.03814922, 1.0210965 ,\n",
       "       1.04483876, 1.03314939, 1.0030783 , 1.05813781, 1.02042094,\n",
       "       1.0256712 , 1.02850441, 1.01304412, 1.0430341 , 1.01753288,\n",
       "       1.00942934, 1.01577554, 1.01943081, 1.02779338, 1.05181649,\n",
       "       1.0511751 , 1.01606962, 1.05813781, 1.03085455, 1.04188776,\n",
       "       1.01190783, 1.05225389, 1.03525233, 1.0225956 , 1.0167004 ,\n",
       "       1.00767474, 1.04759218, 1.02874541, 1.02517621, 1.04782545,\n",
       "       1.01753288, 1.01244932, 1.01764219, 1.05181649])"
      ]
     },
     "execution_count": 34,
     "metadata": {},
     "output_type": "execute_result"
    }
   ],
   "source": [
    "y_DTRpred=regressor.predict(X_test)\n",
    "y_DTRpred"
   ]
  },
  {
   "cell_type": "code",
   "execution_count": 35,
   "id": "93179a73",
   "metadata": {},
   "outputs": [
    {
     "data": {
      "image/png": "[encoded data removed]",
      "text/plain": [
       "<Figure size 1080x720 with 1 Axes>"
      ]
     },
     "metadata": {
      "needs_background": "light"
     },
     "output_type": "display_data"
    }
   ],
   "source": [
    "#to scatter the plots which evaluated\n",
    "plt.figure(figsize=(15,10))\n",
    "plt.plot(y_test,y_DTRpred,'o',color='green')\n",
    "m,b =np.polyfit(y_test,y_DTRpred,1)\n",
    "plt.plot(y_test,m*y_test+b,color='red',)\n",
    "plt.xlabel('Actual delamination factor')\n",
    "plt.ylabel('Predicted delamination factor')\n",
    "plt.title('Actual delamination factor vs Predicted delamination factor')\n",
    "plt.show()"
   ]
  },
  {
   "cell_type": "code",
   "execution_count": 36,
   "id": "21ed3dc5",
   "metadata": {},
   "outputs": [
    {
     "name": "stderr",
     "output_type": "stream",
     "text": [
      "C:\\Users\\hp\\anaconda3\\lib\\site-packages\\seaborn\\distributions.py:2619: FutureWarning: `distplot` is a deprecated function and will be removed in a future version. Please adapt your code to use either `displot` (a figure-level function with similar flexibility) or `histplot` (an axes-level function for histograms).\n",
      "  warnings.warn(msg, FutureWarning)\n"
     ]
    },
    {
     "data": {
      "text/plain": [
       "<AxesSubplot:xlabel='Delamination Factor', ylabel='Density'>"
      ]
     },
     "execution_count": 36,
     "metadata": {},
     "output_type": "execute_result"
    },
    {
     "data": {
      "image/png": "[encoded data removed]",
      "text/plain": [
       "<Figure size 720x360 with 1 Axes>"
      ]
     },
     "metadata": {
      "needs_background": "light"
     },
     "output_type": "display_data"
    }
   ],
   "source": [
    "# visualizing residuals\n",
    "fig = plt.figure(figsize=(10,5))\n",
    "residuals = (y_test- y_DTRpred)\n",
    "sns.distplot(residuals)"
   ]
  },
  {
   "cell_type": "code",
   "execution_count": 37,
   "id": "6acf61d2",
   "metadata": {},
   "outputs": [
    {
     "data": {
      "text/html": [
       "<div>\n",
       "<style scoped>\n",
       "    .dataframe tbody tr th:only-of-type {\n",
       "        vertical-align: middle;\n",
       "    }\n",
       "\n",
       "    .dataframe tbody tr th {\n",
       "        vertical-align: top;\n",
       "    }\n",
       "\n",
       "    .dataframe thead th {\n",
       "        text-align: right;\n",
       "    }\n",
       "</style>\n",
       "<table border=\"1\" class=\"dataframe\">\n",
       "  <thead>\n",
       "    <tr style=\"text-align: right;\">\n",
       "      <th></th>\n",
       "      <th>Actual delamination factor</th>\n",
       "      <th>Predicted delamination factor</th>\n",
       "      <th>difference</th>\n",
       "    </tr>\n",
       "  </thead>\n",
       "  <tbody>\n",
       "    <tr>\n",
       "      <th>468</th>\n",
       "      <td>1.010562</td>\n",
       "      <td>1.010332</td>\n",
       "      <td>0.000230</td>\n",
       "    </tr>\n",
       "    <tr>\n",
       "      <th>148</th>\n",
       "      <td>1.028898</td>\n",
       "      <td>1.028609</td>\n",
       "      <td>0.000289</td>\n",
       "    </tr>\n",
       "    <tr>\n",
       "      <th>302</th>\n",
       "      <td>1.035888</td>\n",
       "      <td>1.036429</td>\n",
       "      <td>-0.000541</td>\n",
       "    </tr>\n",
       "    <tr>\n",
       "      <th>355</th>\n",
       "      <td>1.029603</td>\n",
       "      <td>1.028034</td>\n",
       "      <td>0.001568</td>\n",
       "    </tr>\n",
       "    <tr>\n",
       "      <th>515</th>\n",
       "      <td>1.022615</td>\n",
       "      <td>1.021693</td>\n",
       "      <td>0.000922</td>\n",
       "    </tr>\n",
       "    <tr>\n",
       "      <th>...</th>\n",
       "      <td>...</td>\n",
       "      <td>...</td>\n",
       "      <td>...</td>\n",
       "    </tr>\n",
       "    <tr>\n",
       "      <th>332</th>\n",
       "      <td>1.046240</td>\n",
       "      <td>1.047825</td>\n",
       "      <td>-0.001585</td>\n",
       "    </tr>\n",
       "    <tr>\n",
       "      <th>532</th>\n",
       "      <td>1.018102</td>\n",
       "      <td>1.017533</td>\n",
       "      <td>0.000570</td>\n",
       "    </tr>\n",
       "    <tr>\n",
       "      <th>558</th>\n",
       "      <td>1.012736</td>\n",
       "      <td>1.012449</td>\n",
       "      <td>0.000286</td>\n",
       "    </tr>\n",
       "    <tr>\n",
       "      <th>137</th>\n",
       "      <td>1.017245</td>\n",
       "      <td>1.017642</td>\n",
       "      <td>-0.000397</td>\n",
       "    </tr>\n",
       "    <tr>\n",
       "      <th>314</th>\n",
       "      <td>1.052528</td>\n",
       "      <td>1.051816</td>\n",
       "      <td>0.000712</td>\n",
       "    </tr>\n",
       "  </tbody>\n",
       "</table>\n",
       "<p>219 rows × 3 columns</p>\n",
       "</div>"
      ],
      "text/plain": [
       "     Actual delamination factor  Predicted delamination factor  difference\n",
       "468                    1.010562                       1.010332    0.000230\n",
       "148                    1.028898                       1.028609    0.000289\n",
       "302                    1.035888                       1.036429   -0.000541\n",
       "355                    1.029603                       1.028034    0.001568\n",
       "515                    1.022615                       1.021693    0.000922\n",
       "..                          ...                            ...         ...\n",
       "332                    1.046240                       1.047825   -0.001585\n",
       "532                    1.018102                       1.017533    0.000570\n",
       "558                    1.012736                       1.012449    0.000286\n",
       "137                    1.017245                       1.017642   -0.000397\n",
       "314                    1.052528                       1.051816    0.000712\n",
       "\n",
       "[219 rows x 3 columns]"
      ]
     },
     "execution_count": 37,
     "metadata": {},
     "output_type": "execute_result"
    }
   ],
   "source": [
    "#compare actual output values with predicted values\n",
    "pred_y_df=pd.DataFrame({'Actual delamination factor':y_test,'Predicted delamination factor':y_DTRpred,'difference':y_test-y_DTRpred})\n",
    "pred_y_df[0:]"
   ]
  },
  {
   "cell_type": "code",
   "execution_count": 38,
   "id": "29adbb51",
   "metadata": {},
   "outputs": [
    {
     "name": "stdout",
     "output_type": "stream",
     "text": [
      "MAE: 0.0009503888447488588\n",
      "MSE: 1.3575759582489531e-06\n",
      "RMSE: 0.0011651506161217756\n",
      "R2 Score: 0.9941377032989308\n",
      "Variance score: 99.41\n"
     ]
    }
   ],
   "source": [
    "# evaluate the performance of the algorithm (MAE - MSE - RMSE)\n",
    "from sklearn import metrics\n",
    "print('MAE:', metrics.mean_absolute_error(y_test,y_DTRpred))  \n",
    "print('MSE:', metrics.mean_squared_error(y_test, y_DTRpred))  \n",
    "print('RMSE:', np.sqrt(metrics.mean_squared_error(y_test,y_DTRpred)))\n",
    "print('R2 Score:',metrics.explained_variance_score(y_test,y_DTRpred))\n",
    "print('Variance score: {:.2f}'.format(metrics.explained_variance_score(y_test,y_DTRpred)*100))"
   ]
  },
  {
   "cell_type": "code",
   "execution_count": 39,
   "id": "4ab7b088",
   "metadata": {},
   "outputs": [
    {
     "name": "stderr",
     "output_type": "stream",
     "text": [
      "C:\\Users\\hp\\anaconda3\\lib\\site-packages\\sklearn\\base.py:450: UserWarning: X does not have valid feature names, but DecisionTreeRegressor was fitted with feature names\n",
      "  warnings.warn(\n"
     ]
    },
    {
     "data": {
      "text/plain": [
       "array([1.01754541])"
      ]
     },
     "execution_count": 39,
     "metadata": {},
     "output_type": "execute_result"
    }
   ],
   "source": [
    "#checking the predictions\n",
    "regressor.predict([[100,0.150,0.04]])"
   ]
  },
  {
   "cell_type": "markdown",
   "id": "478d8eb9",
   "metadata": {},
   "source": [
    "# Model 4:Random Forest Regression Model"
   ]
  },
  {
   "cell_type": "code",
   "execution_count": 40,
   "id": "cdc3d2fc",
   "metadata": {},
   "outputs": [
    {
     "data": {
      "text/plain": [
       "RandomForestRegressor(n_estimators=500, random_state=42)"
      ]
     },
     "execution_count": 40,
     "metadata": {},
     "output_type": "execute_result"
    }
   ],
   "source": [
    "#importing random forest regression\n",
    "from sklearn.ensemble import RandomForestRegressor\n",
    "lr=RandomForestRegressor(n_estimators = 500, random_state = 42)\n",
    "lr.fit(X_train, y_train)"
   ]
  },
  {
   "cell_type": "code",
   "execution_count": 41,
   "id": "f2e1e0c9",
   "metadata": {},
   "outputs": [
    {
     "data": {
      "text/plain": [
       "array([1.01047872, 1.0287806 , 1.03608311, 1.02890459, 1.02213295,\n",
       "       1.03230199, 1.00587093, 1.00129321, 1.04384204, 1.00597273,\n",
       "       1.01806258, 1.05919449, 1.03993334, 1.01458997, 1.03809012,\n",
       "       1.02796314, 1.03934692, 1.03648063, 1.02534384, 1.01065718,\n",
       "       1.03197763, 1.04523156, 1.01447281, 1.04509095, 1.0113275 ,\n",
       "       1.02931417, 1.01915373, 1.02206122, 1.04045303, 1.02477569,\n",
       "       1.02787019, 1.04188039, 1.0057811 , 1.01777486, 1.0427225 ,\n",
       "       1.02181091, 1.04204031, 1.01434222, 1.00767366, 1.0451897 ,\n",
       "       1.03482138, 1.04126511, 1.01992895, 1.01482081, 1.0425381 ,\n",
       "       1.0333327 , 1.05388184, 1.03080322, 1.01260559, 1.01126952,\n",
       "       1.01943953, 1.00959535, 1.03322082, 1.03516933, 1.02967304,\n",
       "       1.05850948, 1.04026097, 1.04992541, 1.04933829, 1.01181373,\n",
       "       1.06440962, 1.03880076, 1.01784501, 1.01859727, 1.00706428,\n",
       "       1.04780049, 1.00583469, 1.02139508, 1.0343244 , 1.02738053,\n",
       "       1.02213046, 1.0175495 , 1.0045852 , 1.03888616, 1.01790887,\n",
       "       1.02885743, 1.02985886, 1.04558755, 1.00675124, 1.0486172 ,\n",
       "       1.04823993, 1.00940016, 1.05095683, 1.00896163, 1.02616804,\n",
       "       1.02444249, 1.0304652 , 1.02219497, 1.02071019, 1.02093738,\n",
       "       1.02194089, 1.01375764, 1.01076434, 1.02074412, 1.01911664,\n",
       "       1.0430418 , 1.02166734, 1.0244913 , 1.03452287, 1.01791784,\n",
       "       1.04506058, 1.04601094, 1.04466749, 1.01650919, 1.04721595,\n",
       "       1.02593403, 1.04851622, 1.03057303, 1.04713176, 1.02432064,\n",
       "       1.05584005, 1.03546225, 1.01165731, 1.01360994, 1.01417881,\n",
       "       1.01358854, 1.04216594, 1.05266663, 1.02895417, 1.01311175,\n",
       "       1.02203492, 1.02139587, 1.03483134, 1.03911026, 1.04130997,\n",
       "       1.04896476, 1.04632622, 1.0342512 , 1.03663264, 1.05447641,\n",
       "       1.01388616, 1.0065665 , 1.0331663 , 1.0023386 , 1.02208764,\n",
       "       1.02596344, 1.03943691, 1.02280455, 1.0327805 , 1.04723746,\n",
       "       1.04471298, 1.05402311, 1.02601707, 1.01836469, 1.00593998,\n",
       "       1.04606712, 1.02464578, 1.01713129, 1.06293223, 1.0510604 ,\n",
       "       1.01178084, 1.05914738, 1.03268614, 1.04313051, 1.0407331 ,\n",
       "       1.00924095, 1.02658597, 1.01191632, 1.01216247, 1.03796556,\n",
       "       1.04155267, 1.01001074, 1.0324762 , 1.00401717, 1.01740411,\n",
       "       1.01755195, 1.0358072 , 1.02660149, 1.03282924, 1.05754026,\n",
       "       1.0351453 , 1.01774471, 1.0054126 , 1.0326237 , 1.02003881,\n",
       "       1.02925906, 1.01580078, 1.00685493, 1.03768873, 1.0261352 ,\n",
       "       1.05705833, 1.05270344, 1.04018722, 1.03740089, 1.02093656,\n",
       "       1.04461099, 1.03359191, 1.00296357, 1.05646637, 1.02094218,\n",
       "       1.02400633, 1.02836905, 1.01319258, 1.04423326, 1.01808752,\n",
       "       1.0086006 , 1.01556448, 1.02050889, 1.0282031 , 1.05082271,\n",
       "       1.05073785, 1.01501135, 1.05517268, 1.03071986, 1.04123557,\n",
       "       1.01213783, 1.05182507, 1.03540541, 1.02151345, 1.01695817,\n",
       "       1.00799447, 1.04706643, 1.02963595, 1.02579295, 1.04657184,\n",
       "       1.01736522, 1.01211195, 1.01758791, 1.0521298 ])"
      ]
     },
     "execution_count": 41,
     "metadata": {},
     "output_type": "execute_result"
    }
   ],
   "source": [
    "#predict the test results\n",
    "y_RFRpred=lr.predict(X_test)\n",
    "y_RFRpred"
   ]
  },
  {
   "cell_type": "markdown",
   "id": "0c633b0d",
   "metadata": {},
   "source": [
    "# Sample check"
   ]
  },
  {
   "cell_type": "code",
   "execution_count": 42,
   "id": "4159b391",
   "metadata": {},
   "outputs": [
    {
     "name": "stderr",
     "output_type": "stream",
     "text": [
      "C:\\Users\\hp\\anaconda3\\lib\\site-packages\\sklearn\\base.py:450: UserWarning: X does not have valid feature names, but RandomForestRegressor was fitted with feature names\n",
      "  warnings.warn(\n"
     ]
    },
    {
     "data": {
      "text/plain": [
       "array([1.01841776])"
      ]
     },
     "execution_count": 42,
     "metadata": {},
     "output_type": "execute_result"
    }
   ],
   "source": [
    "CHECK_y_RFRpred=lr.predict([[100,0.225,0.04]])\n",
    "CHECK_y_RFRpred"
   ]
  },
  {
   "cell_type": "code",
   "execution_count": 43,
   "id": "ff48c3de",
   "metadata": {},
   "outputs": [
    {
     "data": {
      "image/png": "[encoded data removed]",
      "text/plain": [
       "<Figure size 1080x720 with 1 Axes>"
      ]
     },
     "metadata": {
      "needs_background": "light"
     },
     "output_type": "display_data"
    }
   ],
   "source": [
    "#to scatter the plots which evaluated\n",
    "plt.figure(figsize=(15,10))\n",
    "plt.plot(y_test,y_RFRpred,'o',color='green')\n",
    "m,b =np.polyfit(y_test,y_RFRpred,1)\n",
    "plt.plot(y_test,m*y_test+b,color='red',)\n",
    "plt.xlabel('Actual delamination factor')\n",
    "plt.ylabel('Predicted delamination factor')\n",
    "plt.title('Actual delamination factor vs Predicted delamination factor')\n",
    "plt.show()"
   ]
  },
  {
   "cell_type": "code",
   "execution_count": 44,
   "id": "68ae848a",
   "metadata": {},
   "outputs": [
    {
     "name": "stderr",
     "output_type": "stream",
     "text": [
      "C:\\Users\\hp\\anaconda3\\lib\\site-packages\\seaborn\\distributions.py:2619: FutureWarning: `distplot` is a deprecated function and will be removed in a future version. Please adapt your code to use either `displot` (a figure-level function with similar flexibility) or `histplot` (an axes-level function for histograms).\n",
      "  warnings.warn(msg, FutureWarning)\n"
     ]
    },
    {
     "data": {
      "text/plain": [
       "<AxesSubplot:xlabel='Delamination Factor', ylabel='Density'>"
      ]
     },
     "execution_count": 44,
     "metadata": {},
     "output_type": "execute_result"
    },
    {
     "data": {
      "image/png": "[encoded data removed]",
      "text/plain": [
       "<Figure size 720x360 with 1 Axes>"
      ]
     },
     "metadata": {
      "needs_background": "light"
     },
     "output_type": "display_data"
    }
   ],
   "source": [
    "# visualizing residuals\n",
    "fig = plt.figure(figsize=(10,5))\n",
    "residuals = (y_test- y_RFRpred)\n",
    "sns.distplot(residuals)"
   ]
  },
  {
   "cell_type": "code",
   "execution_count": 45,
   "id": "f21d1e82",
   "metadata": {},
   "outputs": [
    {
     "data": {
      "text/html": [
       "<div>\n",
       "<style scoped>\n",
       "    .dataframe tbody tr th:only-of-type {\n",
       "        vertical-align: middle;\n",
       "    }\n",
       "\n",
       "    .dataframe tbody tr th {\n",
       "        vertical-align: top;\n",
       "    }\n",
       "\n",
       "    .dataframe thead th {\n",
       "        text-align: right;\n",
       "    }\n",
       "</style>\n",
       "<table border=\"1\" class=\"dataframe\">\n",
       "  <thead>\n",
       "    <tr style=\"text-align: right;\">\n",
       "      <th></th>\n",
       "      <th>Actual delamination factor</th>\n",
       "      <th>Predicted delamination factor</th>\n",
       "      <th>difference</th>\n",
       "    </tr>\n",
       "  </thead>\n",
       "  <tbody>\n",
       "    <tr>\n",
       "      <th>468</th>\n",
       "      <td>1.010562</td>\n",
       "      <td>1.010479</td>\n",
       "      <td>0.000083</td>\n",
       "    </tr>\n",
       "    <tr>\n",
       "      <th>148</th>\n",
       "      <td>1.028898</td>\n",
       "      <td>1.028781</td>\n",
       "      <td>0.000117</td>\n",
       "    </tr>\n",
       "    <tr>\n",
       "      <th>302</th>\n",
       "      <td>1.035888</td>\n",
       "      <td>1.036083</td>\n",
       "      <td>-0.000195</td>\n",
       "    </tr>\n",
       "    <tr>\n",
       "      <th>355</th>\n",
       "      <td>1.029603</td>\n",
       "      <td>1.028905</td>\n",
       "      <td>0.000698</td>\n",
       "    </tr>\n",
       "    <tr>\n",
       "      <th>515</th>\n",
       "      <td>1.022615</td>\n",
       "      <td>1.022133</td>\n",
       "      <td>0.000483</td>\n",
       "    </tr>\n",
       "    <tr>\n",
       "      <th>...</th>\n",
       "      <td>...</td>\n",
       "      <td>...</td>\n",
       "      <td>...</td>\n",
       "    </tr>\n",
       "    <tr>\n",
       "      <th>332</th>\n",
       "      <td>1.046240</td>\n",
       "      <td>1.046572</td>\n",
       "      <td>-0.000332</td>\n",
       "    </tr>\n",
       "    <tr>\n",
       "      <th>532</th>\n",
       "      <td>1.018102</td>\n",
       "      <td>1.017365</td>\n",
       "      <td>0.000737</td>\n",
       "    </tr>\n",
       "    <tr>\n",
       "      <th>558</th>\n",
       "      <td>1.012736</td>\n",
       "      <td>1.012112</td>\n",
       "      <td>0.000624</td>\n",
       "    </tr>\n",
       "    <tr>\n",
       "      <th>137</th>\n",
       "      <td>1.017245</td>\n",
       "      <td>1.017588</td>\n",
       "      <td>-0.000343</td>\n",
       "    </tr>\n",
       "    <tr>\n",
       "      <th>314</th>\n",
       "      <td>1.052528</td>\n",
       "      <td>1.052130</td>\n",
       "      <td>0.000398</td>\n",
       "    </tr>\n",
       "  </tbody>\n",
       "</table>\n",
       "<p>219 rows × 3 columns</p>\n",
       "</div>"
      ],
      "text/plain": [
       "     Actual delamination factor  Predicted delamination factor  difference\n",
       "468                    1.010562                       1.010479    0.000083\n",
       "148                    1.028898                       1.028781    0.000117\n",
       "302                    1.035888                       1.036083   -0.000195\n",
       "355                    1.029603                       1.028905    0.000698\n",
       "515                    1.022615                       1.022133    0.000483\n",
       "..                          ...                            ...         ...\n",
       "332                    1.046240                       1.046572   -0.000332\n",
       "532                    1.018102                       1.017365    0.000737\n",
       "558                    1.012736                       1.012112    0.000624\n",
       "137                    1.017245                       1.017588   -0.000343\n",
       "314                    1.052528                       1.052130    0.000398\n",
       "\n",
       "[219 rows x 3 columns]"
      ]
     },
     "execution_count": 45,
     "metadata": {},
     "output_type": "execute_result"
    }
   ],
   "source": [
    "#compare actual output values with predicted values\n",
    "pred_y_df=pd.DataFrame({'Actual delamination factor':y_test,'Predicted delamination factor':y_RFRpred,'difference':y_test-y_RFRpred})\n",
    "pred_y_df[0:]"
   ]
  },
  {
   "cell_type": "code",
   "execution_count": 46,
   "id": "413d19b8",
   "metadata": {},
   "outputs": [
    {
     "name": "stdout",
     "output_type": "stream",
     "text": [
      "MAE: 0.0005093465401288499\n",
      "MSE: 4.5032032153759024e-07\n",
      "RMSE: 0.0006710591043548923\n",
      "R2 Score: 0.9980715042130829\n",
      "Variance score: 99.81\n"
     ]
    }
   ],
   "source": [
    "# evaluate the performance of the algorithm (MAE - MSE - RMSE)\n",
    "from sklearn import metrics\n",
    "print('MAE:', metrics.mean_absolute_error(y_test,y_RFRpred))  \n",
    "print('MSE:', metrics.mean_squared_error(y_test, y_RFRpred))  \n",
    "print('RMSE:', np.sqrt(metrics.mean_squared_error(y_test,y_RFRpred)))\n",
    "print('R2 Score:',metrics.explained_variance_score(y_test,y_RFRpred))\n",
    "print('Variance score: {:.2f}'.format(metrics.explained_variance_score(y_test,y_RFRpred)*100))"
   ]
  },
  {
   "cell_type": "code",
   "execution_count": 47,
   "id": "f148c248",
   "metadata": {},
   "outputs": [
    {
     "name": "stderr",
     "output_type": "stream",
     "text": [
      "C:\\Users\\hp\\anaconda3\\lib\\site-packages\\sklearn\\base.py:450: UserWarning: X does not have valid feature names, but RandomForestRegressor was fitted with feature names\n",
      "  warnings.warn(\n"
     ]
    },
    {
     "data": {
      "text/plain": [
       "array([1.01735055])"
      ]
     },
     "execution_count": 47,
     "metadata": {},
     "output_type": "execute_result"
    }
   ],
   "source": [
    "#checking the predictions\n",
    "lr.predict([[100,0.150,0.04]])"
   ]
  },
  {
   "cell_type": "markdown",
   "id": "28b3f55c",
   "metadata": {},
   "source": [
    "# Model 5:KNN Regression Model"
   ]
  },
  {
   "cell_type": "code",
   "execution_count": 48,
   "id": "6d552733",
   "metadata": {},
   "outputs": [],
   "source": [
    "#importing Knn regression\n",
    "from sklearn.neighbors import KNeighborsRegressor"
   ]
  },
  {
   "cell_type": "code",
   "execution_count": 49,
   "id": "33e56679",
   "metadata": {},
   "outputs": [],
   "source": [
    "# Build the KNN regression model\n",
    "k = 5  # number of neighbors\n",
    "model = KNeighborsRegressor(n_neighbors=k)"
   ]
  },
  {
   "cell_type": "code",
   "execution_count": 50,
   "id": "ffc4ab90",
   "metadata": {},
   "outputs": [
    {
     "data": {
      "text/plain": [
       "KNeighborsRegressor()"
      ]
     },
     "execution_count": 50,
     "metadata": {},
     "output_type": "execute_result"
    }
   ],
   "source": [
    "# Train the model\n",
    "model.fit(X_train, y_train)"
   ]
  },
  {
   "cell_type": "code",
   "execution_count": 51,
   "id": "78ebddfd",
   "metadata": {},
   "outputs": [
    {
     "data": {
      "text/plain": [
       "array([1.01415381, 1.02886678, 1.0379826 , 1.02987564, 1.02022439,\n",
       "       1.0355154 , 1.01756371, 1.01697244, 1.04405777, 1.01655833,\n",
       "       1.02229897, 1.05837078, 1.03720335, 1.01904798, 1.03808675,\n",
       "       1.02879268, 1.03943011, 1.03882758, 1.02126222, 1.01073478,\n",
       "       1.03290135, 1.0421288 , 1.01460646, 1.04902332, 1.01425465,\n",
       "       1.03044771, 1.01674597, 1.01821208, 1.04044942, 1.02711272,\n",
       "       1.02950498, 1.03772854, 1.01335918, 1.01860563, 1.04090859,\n",
       "       1.02114103, 1.04191379, 1.01384867, 1.00946568, 1.0454718 ,\n",
       "       1.03594129, 1.03920448, 1.01806121, 1.02265627, 1.04033143,\n",
       "       1.03347329, 1.04484945, 1.03366416, 1.01842998, 1.01614689,\n",
       "       1.0225338 , 1.01061301, 1.03665671, 1.03545058, 1.03246081,\n",
       "       1.0505894 , 1.03923451, 1.04661563, 1.04544117, 1.01269996,\n",
       "       1.06115335, 1.03919507, 1.01773766, 1.01830199, 1.01418538,\n",
       "       1.04516343, 1.01740653, 1.02509576, 1.03080847, 1.02517704,\n",
       "       1.02257894, 1.02164343, 1.01987223, 1.03665318, 1.0207205 ,\n",
       "       1.0281341 , 1.0285119 , 1.0431513 , 1.01629902, 1.04537833,\n",
       "       1.04484945, 1.01904798, 1.04750396, 1.00972187, 1.02597204,\n",
       "       1.0237982 , 1.02707971, 1.02360756, 1.0221231 , 1.01954646,\n",
       "       1.02536753, 1.01649567, 1.0154396 , 1.0184741 , 1.01939019,\n",
       "       1.04032043, 1.02546338, 1.0220906 , 1.03460241, 1.0219039 ,\n",
       "       1.03720335, 1.04353026, 1.04270954, 1.01987223, 1.04757702,\n",
       "       1.0221231 , 1.04227493, 1.02930184, 1.05200513, 1.02352146,\n",
       "       1.05147825, 1.03378132, 1.01335918, 1.01961375, 1.01529349,\n",
       "       1.01802698, 1.04275411, 1.04537833, 1.02536687, 1.01163261,\n",
       "       1.02369962, 1.02027617, 1.03528033, 1.03750795, 1.04408593,\n",
       "       1.0421288 , 1.04415957, 1.03196542, 1.03823092, 1.05339218,\n",
       "       1.01081864, 1.01723406, 1.03602742, 1.01015754, 1.02387353,\n",
       "       1.0276059 , 1.03377244, 1.01928885, 1.0285881 , 1.04317978,\n",
       "       1.04230989, 1.04697995, 1.02775204, 1.0157546 , 1.01255358,\n",
       "       1.04030425, 1.02482337, 1.0154396 , 1.0595404 , 1.04015143,\n",
       "       1.01484232, 1.05495366, 1.0319882 , 1.04349455, 1.03437299,\n",
       "       1.01176219, 1.02654276, 1.01301818, 1.02114991, 1.03906175,\n",
       "       1.04109621, 1.01456439, 1.0338371 , 1.01061301, 1.01757601,\n",
       "       1.02039449, 1.0373615 , 1.02413499, 1.03461012, 1.0521405 ,\n",
       "       1.03655945, 1.01367407, 1.01198949, 1.03663653, 1.02217077,\n",
       "       1.03047003, 1.01817007, 1.01697244, 1.04056667, 1.02785843,\n",
       "       1.04922415, 1.04477275, 1.03926768, 1.03700209, 1.02552905,\n",
       "       1.0480277 , 1.03604385, 1.00749769, 1.04803323, 1.01951164,\n",
       "       1.02614421, 1.02610503, 1.01697244, 1.04462745, 1.0220906 ,\n",
       "       1.01649567, 1.01027669, 1.02117659, 1.02832604, 1.04587734,\n",
       "       1.05063559, 1.01594829, 1.04579241, 1.03101917, 1.03998278,\n",
       "       1.01629902, 1.04922415, 1.03547277, 1.02610045, 1.01616916,\n",
       "       1.01413377, 1.04686865, 1.03167816, 1.0261105 , 1.03990512,\n",
       "       1.02137001, 1.02371012, 1.02178395, 1.04813691])"
      ]
     },
     "execution_count": 51,
     "metadata": {},
     "output_type": "execute_result"
    }
   ],
   "source": [
    "y_KNNpred = model.predict(X_test)\n",
    "y_KNNpred"
   ]
  },
  {
   "cell_type": "code",
   "execution_count": 52,
   "id": "94290ed4",
   "metadata": {},
   "outputs": [
    {
     "data": {
      "image/png": "[encoded data removed]",
      "text/plain": [
       "<Figure size 1080x720 with 1 Axes>"
      ]
     },
     "metadata": {
      "needs_background": "light"
     },
     "output_type": "display_data"
    }
   ],
   "source": [
    "#to scatter the plots which evaluated\n",
    "plt.figure(figsize=(15,10))\n",
    "plt.plot(y_test,y_KNNpred,'o',color='green')\n",
    "m,b =np.polyfit(y_test,y_KNNpred,1)\n",
    "plt.plot(y_test,m*y_test+b,color='red',)\n",
    "plt.xlabel('Actual delamination factor')\n",
    "plt.ylabel('Predicted delamination factor')\n",
    "plt.title('Actual delamination factor vs Predicted delamination factor')\n",
    "plt.show()"
   ]
  },
  {
   "cell_type": "code",
   "execution_count": 53,
   "id": "95c55c25",
   "metadata": {},
   "outputs": [
    {
     "name": "stderr",
     "output_type": "stream",
     "text": [
      "C:\\Users\\hp\\anaconda3\\lib\\site-packages\\seaborn\\distributions.py:2619: FutureWarning: `distplot` is a deprecated function and will be removed in a future version. Please adapt your code to use either `displot` (a figure-level function with similar flexibility) or `histplot` (an axes-level function for histograms).\n",
      "  warnings.warn(msg, FutureWarning)\n"
     ]
    },
    {
     "data": {
      "text/plain": [
       "<AxesSubplot:xlabel='Delamination Factor', ylabel='Density'>"
      ]
     },
     "execution_count": 53,
     "metadata": {},
     "output_type": "execute_result"
    },
    {
     "data": {
      "image/png": "[encoded data removed]",
      "text/plain": [
       "<Figure size 720x360 with 1 Axes>"
      ]
     },
     "metadata": {
      "needs_background": "light"
     },
     "output_type": "display_data"
    }
   ],
   "source": [
    "# visualizing residuals\n",
    "fig = plt.figure(figsize=(10,5))\n",
    "residuals = (y_test- y_KNNpred)\n",
    "sns.distplot(residuals)"
   ]
  },
  {
   "cell_type": "code",
   "execution_count": 54,
   "id": "fb03aa7c",
   "metadata": {},
   "outputs": [
    {
     "data": {
      "text/html": [
       "<div>\n",
       "<style scoped>\n",
       "    .dataframe tbody tr th:only-of-type {\n",
       "        vertical-align: middle;\n",
       "    }\n",
       "\n",
       "    .dataframe tbody tr th {\n",
       "        vertical-align: top;\n",
       "    }\n",
       "\n",
       "    .dataframe thead th {\n",
       "        text-align: right;\n",
       "    }\n",
       "</style>\n",
       "<table border=\"1\" class=\"dataframe\">\n",
       "  <thead>\n",
       "    <tr style=\"text-align: right;\">\n",
       "      <th></th>\n",
       "      <th>Actual delamination factor</th>\n",
       "      <th>Predicted delamination factor</th>\n",
       "      <th>difference</th>\n",
       "    </tr>\n",
       "  </thead>\n",
       "  <tbody>\n",
       "    <tr>\n",
       "      <th>468</th>\n",
       "      <td>1.010562</td>\n",
       "      <td>1.014154</td>\n",
       "      <td>-0.003592</td>\n",
       "    </tr>\n",
       "    <tr>\n",
       "      <th>148</th>\n",
       "      <td>1.028898</td>\n",
       "      <td>1.028867</td>\n",
       "      <td>0.000031</td>\n",
       "    </tr>\n",
       "    <tr>\n",
       "      <th>302</th>\n",
       "      <td>1.035888</td>\n",
       "      <td>1.037983</td>\n",
       "      <td>-0.002094</td>\n",
       "    </tr>\n",
       "    <tr>\n",
       "      <th>355</th>\n",
       "      <td>1.029603</td>\n",
       "      <td>1.029876</td>\n",
       "      <td>-0.000273</td>\n",
       "    </tr>\n",
       "    <tr>\n",
       "      <th>515</th>\n",
       "      <td>1.022615</td>\n",
       "      <td>1.020224</td>\n",
       "      <td>0.002391</td>\n",
       "    </tr>\n",
       "    <tr>\n",
       "      <th>...</th>\n",
       "      <td>...</td>\n",
       "      <td>...</td>\n",
       "      <td>...</td>\n",
       "    </tr>\n",
       "    <tr>\n",
       "      <th>332</th>\n",
       "      <td>1.046240</td>\n",
       "      <td>1.039905</td>\n",
       "      <td>0.006335</td>\n",
       "    </tr>\n",
       "    <tr>\n",
       "      <th>532</th>\n",
       "      <td>1.018102</td>\n",
       "      <td>1.021370</td>\n",
       "      <td>-0.003268</td>\n",
       "    </tr>\n",
       "    <tr>\n",
       "      <th>558</th>\n",
       "      <td>1.012736</td>\n",
       "      <td>1.023710</td>\n",
       "      <td>-0.010974</td>\n",
       "    </tr>\n",
       "    <tr>\n",
       "      <th>137</th>\n",
       "      <td>1.017245</td>\n",
       "      <td>1.021784</td>\n",
       "      <td>-0.004539</td>\n",
       "    </tr>\n",
       "    <tr>\n",
       "      <th>314</th>\n",
       "      <td>1.052528</td>\n",
       "      <td>1.048137</td>\n",
       "      <td>0.004391</td>\n",
       "    </tr>\n",
       "  </tbody>\n",
       "</table>\n",
       "<p>219 rows × 3 columns</p>\n",
       "</div>"
      ],
      "text/plain": [
       "     Actual delamination factor  Predicted delamination factor  difference\n",
       "468                    1.010562                       1.014154   -0.003592\n",
       "148                    1.028898                       1.028867    0.000031\n",
       "302                    1.035888                       1.037983   -0.002094\n",
       "355                    1.029603                       1.029876   -0.000273\n",
       "515                    1.022615                       1.020224    0.002391\n",
       "..                          ...                            ...         ...\n",
       "332                    1.046240                       1.039905    0.006335\n",
       "532                    1.018102                       1.021370   -0.003268\n",
       "558                    1.012736                       1.023710   -0.010974\n",
       "137                    1.017245                       1.021784   -0.004539\n",
       "314                    1.052528                       1.048137    0.004391\n",
       "\n",
       "[219 rows x 3 columns]"
      ]
     },
     "execution_count": 54,
     "metadata": {},
     "output_type": "execute_result"
    }
   ],
   "source": [
    "#compare actual output values with predicted values\n",
    "pred_y_df=pd.DataFrame({'Actual delamination factor':y_test,'Predicted delamination factor':y_KNNpred,'difference':y_test-y_KNNpred})\n",
    "pred_y_df[0:]"
   ]
  },
  {
   "cell_type": "code",
   "execution_count": 55,
   "id": "a5b820d6",
   "metadata": {},
   "outputs": [
    {
     "name": "stdout",
     "output_type": "stream",
     "text": [
      "MAE: 0.003261082491324207\n",
      "MSE: 1.9728130735581518e-05\n",
      "RMSE: 0.004441636042674086\n",
      "R2 score: 0.9156192496220092\n",
      "Variance score: 91.56\n"
     ]
    }
   ],
   "source": [
    "# evaluate the performance of the algorithm (MAE - MSE - RMSE)\n",
    "from sklearn import metrics\n",
    "print('MAE:', metrics.mean_absolute_error(y_test,y_KNNpred))  \n",
    "print('MSE:', metrics.mean_squared_error(y_test, y_KNNpred))  \n",
    "print('RMSE:', np.sqrt(metrics.mean_squared_error(y_test,y_KNNpred)))\n",
    "print('R2 score:',metrics.explained_variance_score(y_test,y_KNNpred))\n",
    "print('Variance score: {:.2f}'.format(metrics.explained_variance_score(y_test,y_KNNpred)*100))"
   ]
  },
  {
   "cell_type": "code",
   "execution_count": 56,
   "id": "e26b599d",
   "metadata": {},
   "outputs": [
    {
     "name": "stderr",
     "output_type": "stream",
     "text": [
      "C:\\Users\\hp\\anaconda3\\lib\\site-packages\\sklearn\\base.py:450: UserWarning: X does not have valid feature names, but KNeighborsRegressor was fitted with feature names\n",
      "  warnings.warn(\n"
     ]
    },
    {
     "data": {
      "text/plain": [
       "array([1.04143052])"
      ]
     },
     "execution_count": 56,
     "metadata": {},
     "output_type": "execute_result"
    }
   ],
   "source": [
    "#checking the predictions\n",
    "model.predict([[63,0.150,0.11]])"
   ]
  },
  {
   "cell_type": "markdown",
   "id": "90b3c951",
   "metadata": {},
   "source": [
    "# Model 6:Lasso Regression Model"
   ]
  },
  {
   "cell_type": "code",
   "execution_count": 57,
   "id": "cb4018aa",
   "metadata": {},
   "outputs": [],
   "source": [
    "# import lasso regression from sklearn library\n",
    "from sklearn.linear_model import Lasso"
   ]
  },
  {
   "cell_type": "code",
   "execution_count": 58,
   "id": "e8d6fa92",
   "metadata": {},
   "outputs": [
    {
     "data": {
      "text/plain": [
       "Lasso(alpha=0.0001)"
      ]
     },
     "execution_count": 58,
     "metadata": {},
     "output_type": "execute_result"
    }
   ],
   "source": [
    "# Train the model\n",
    "lassoR = Lasso(alpha=0.0001)\n",
    "lassoR.fit(X_train, y_train)"
   ]
  },
  {
   "cell_type": "code",
   "execution_count": 59,
   "id": "4c87dbcd",
   "metadata": {},
   "outputs": [
    {
     "data": {
      "text/plain": [
       "array([1.01766963, 1.02639406, 1.0339613 , 1.03102967, 1.02652168,\n",
       "       1.03305778, 1.00885799, 1.00880015, 1.03795187, 1.01479103,\n",
       "       1.02279741, 1.05100519, 1.03287712, 1.0207693 , 1.03576353,\n",
       "       1.0288161 , 1.03745969, 1.03174773, 1.02833653, 1.01370686,\n",
       "       1.03170731, 1.04456255, 1.02082234, 1.04191464, 1.01574759,\n",
       "       1.02820891, 1.02195173, 1.01996404, 1.03644117, 1.02725236,\n",
       "       1.03080379, 1.04083828, 1.00840623, 1.01663849, 1.04101112,\n",
       "       1.02352809, 1.0394878 , 1.01725829, 1.01128003, 1.04147549,\n",
       "       1.03503286, 1.0392215 , 1.02307633, 1.02162759, 1.03954084,\n",
       "       1.03328366, 1.05031494, 1.03277886, 1.01665111, 1.01874119,\n",
       "       1.02477249, 1.01348098, 1.0343148 , 1.03454068, 1.03076337,\n",
       "       1.05235566, 1.04055936, 1.04524019, 1.04399579, 1.01597347,\n",
       "       1.05523426, 1.03598941, 1.01861357, 1.02042842, 1.01608847,\n",
       "       1.04681654, 1.00863211, 1.02523686, 1.02887394, 1.02419311,\n",
       "       1.02590188, 1.02275699, 1.01433928, 1.03704835, 1.02388159,\n",
       "       1.03210123, 1.02751866, 1.04021848, 1.01501691, 1.04501431,\n",
       "       1.04631175, 1.01676611, 1.0472683 , 1.01659327, 1.02905459,\n",
       "       1.02595492, 1.03211384, 1.02171324, 1.01973816, 1.0247851 ,\n",
       "       1.02630842, 1.02054342, 1.01856834, 1.02415269, 1.02285045,\n",
       "       1.04281335, 1.02546274, 1.02719932, 1.03062313, 1.02080972,\n",
       "       1.03688031, 1.04276032, 1.04151592, 1.02234565, 1.04345057,\n",
       "       1.02374135, 1.04833986, 1.03260602, 1.04322469, 1.02832392,\n",
       "       1.04946926, 1.03589115, 1.01240942, 1.02055604, 1.02184086,\n",
       "       1.01924598, 1.04057198, 1.0490175 , 1.02487075, 1.01505734,\n",
       "       1.025676  , 1.02606992, 1.03497982, 1.03242537, 1.03944738,\n",
       "       1.04856574, 1.04326511, 1.03390826, 1.03634291, 1.05010167,\n",
       "       1.01884726, 1.01264792, 1.03452806, 1.00902603, 1.02657472,\n",
       "       1.02856241, 1.03265124, 1.02397985, 1.02994549, 1.03997998,\n",
       "       1.03665443, 1.04817182, 1.02793   , 1.02020254, 1.01015543,\n",
       "       1.04484147, 1.02860283, 1.02257153, 1.0547825 , 1.04879162,\n",
       "       1.01415862, 1.05387898, 1.03107009, 1.03993956, 1.0406124 ,\n",
       "       1.01529583, 1.02985985, 1.0143845 , 1.01941882, 1.03394868,\n",
       "       1.04012022, 1.01721787, 1.02797042, 1.00947779, 1.02149997,\n",
       "       1.01641261, 1.0352057 , 1.02878829, 1.0345811 , 1.05099257,\n",
       "       1.03152185, 1.02172585, 1.0117444 , 1.03279148, 1.02347505,\n",
       "       1.02973223, 1.01748417, 1.01280334, 1.03219949, 1.02815588,\n",
       "       1.05212979, 1.05008906, 1.03773861, 1.03764035, 1.02608254,\n",
       "       1.04232117, 1.03198622, 1.00750272, 1.05076669, 1.0250514 ,\n",
       "       1.02572904, 1.02990507, 1.01680653, 1.03642855, 1.02319613,\n",
       "       1.01654023, 1.01573497, 1.02499837, 1.02798303, 1.04574498,\n",
       "       1.0452528 , 1.01929902, 1.05054081, 1.03040987, 1.03899562,\n",
       "       1.0190201 , 1.0481266 , 1.03266386, 1.02634884, 1.01997666,\n",
       "       1.01546867, 1.04299881, 1.03108271, 1.02770412, 1.04636478,\n",
       "       1.02297025, 1.0196447 , 1.01816181, 1.04619674])"
      ]
     },
     "execution_count": 59,
     "metadata": {},
     "output_type": "execute_result"
    }
   ],
   "source": [
    "# making a prediction\n",
    "prediction6 = lassoR.predict(X_test)\n",
    "prediction6 "
   ]
  },
  {
   "cell_type": "code",
   "execution_count": 60,
   "id": "ac6d36ab",
   "metadata": {},
   "outputs": [
    {
     "data": {
      "image/png": "[encoded data removed]",
      "text/plain": [
       "<Figure size 1080x720 with 1 Axes>"
      ]
     },
     "metadata": {
      "needs_background": "light"
     },
     "output_type": "display_data"
    }
   ],
   "source": [
    "#to scatter the plots which evaluated\n",
    "plt.figure(figsize=(15,10))\n",
    "plt.plot(y_test,prediction6,'o',color='green')\n",
    "m,b =np.polyfit(y_test,prediction6,1)\n",
    "plt.plot(y_test,m*y_test+b,color='red',)\n",
    "plt.xlabel('Actual delamination factor')\n",
    "plt.ylabel('Predicted delamination factor')\n",
    "plt.title('Actual delamination factor vs Predicted delamination factor')\n",
    "plt.show()"
   ]
  },
  {
   "cell_type": "code",
   "execution_count": 61,
   "id": "125c3b16",
   "metadata": {},
   "outputs": [
    {
     "name": "stderr",
     "output_type": "stream",
     "text": [
      "C:\\Users\\hp\\anaconda3\\lib\\site-packages\\seaborn\\distributions.py:2619: FutureWarning: `distplot` is a deprecated function and will be removed in a future version. Please adapt your code to use either `displot` (a figure-level function with similar flexibility) or `histplot` (an axes-level function for histograms).\n",
      "  warnings.warn(msg, FutureWarning)\n"
     ]
    },
    {
     "data": {
      "text/plain": [
       "<AxesSubplot:xlabel='Delamination Factor', ylabel='Density'>"
      ]
     },
     "execution_count": 61,
     "metadata": {},
     "output_type": "execute_result"
    },
    {
     "data": {
      "image/png": "[encoded data removed]",
      "text/plain": [
       "<Figure size 720x360 with 1 Axes>"
      ]
     },
     "metadata": {
      "needs_background": "light"
     },
     "output_type": "display_data"
    }
   ],
   "source": [
    "# visualizing residuals\n",
    "fig = plt.figure(figsize=(10,5))\n",
    "residuals = (y_test- prediction6)\n",
    "sns.distplot(residuals)"
   ]
  },
  {
   "cell_type": "code",
   "execution_count": 62,
   "id": "627246c8",
   "metadata": {},
   "outputs": [
    {
     "data": {
      "text/html": [
       "<div>\n",
       "<style scoped>\n",
       "    .dataframe tbody tr th:only-of-type {\n",
       "        vertical-align: middle;\n",
       "    }\n",
       "\n",
       "    .dataframe tbody tr th {\n",
       "        vertical-align: top;\n",
       "    }\n",
       "\n",
       "    .dataframe thead th {\n",
       "        text-align: right;\n",
       "    }\n",
       "</style>\n",
       "<table border=\"1\" class=\"dataframe\">\n",
       "  <thead>\n",
       "    <tr style=\"text-align: right;\">\n",
       "      <th></th>\n",
       "      <th>Actual delamination factor</th>\n",
       "      <th>Predicted delamination factor</th>\n",
       "      <th>difference</th>\n",
       "    </tr>\n",
       "  </thead>\n",
       "  <tbody>\n",
       "    <tr>\n",
       "      <th>468</th>\n",
       "      <td>1.010562</td>\n",
       "      <td>1.017670</td>\n",
       "      <td>-0.007108</td>\n",
       "    </tr>\n",
       "    <tr>\n",
       "      <th>148</th>\n",
       "      <td>1.028898</td>\n",
       "      <td>1.026394</td>\n",
       "      <td>0.002504</td>\n",
       "    </tr>\n",
       "    <tr>\n",
       "      <th>302</th>\n",
       "      <td>1.035888</td>\n",
       "      <td>1.033961</td>\n",
       "      <td>0.001927</td>\n",
       "    </tr>\n",
       "    <tr>\n",
       "      <th>355</th>\n",
       "      <td>1.029603</td>\n",
       "      <td>1.031030</td>\n",
       "      <td>-0.001427</td>\n",
       "    </tr>\n",
       "    <tr>\n",
       "      <th>515</th>\n",
       "      <td>1.022615</td>\n",
       "      <td>1.026522</td>\n",
       "      <td>-0.003906</td>\n",
       "    </tr>\n",
       "    <tr>\n",
       "      <th>...</th>\n",
       "      <td>...</td>\n",
       "      <td>...</td>\n",
       "      <td>...</td>\n",
       "    </tr>\n",
       "    <tr>\n",
       "      <th>332</th>\n",
       "      <td>1.046240</td>\n",
       "      <td>1.046365</td>\n",
       "      <td>-0.000125</td>\n",
       "    </tr>\n",
       "    <tr>\n",
       "      <th>532</th>\n",
       "      <td>1.018102</td>\n",
       "      <td>1.022970</td>\n",
       "      <td>-0.004868</td>\n",
       "    </tr>\n",
       "    <tr>\n",
       "      <th>558</th>\n",
       "      <td>1.012736</td>\n",
       "      <td>1.019645</td>\n",
       "      <td>-0.006909</td>\n",
       "    </tr>\n",
       "    <tr>\n",
       "      <th>137</th>\n",
       "      <td>1.017245</td>\n",
       "      <td>1.018162</td>\n",
       "      <td>-0.000917</td>\n",
       "    </tr>\n",
       "    <tr>\n",
       "      <th>314</th>\n",
       "      <td>1.052528</td>\n",
       "      <td>1.046197</td>\n",
       "      <td>0.006331</td>\n",
       "    </tr>\n",
       "  </tbody>\n",
       "</table>\n",
       "<p>219 rows × 3 columns</p>\n",
       "</div>"
      ],
      "text/plain": [
       "     Actual delamination factor  Predicted delamination factor  difference\n",
       "468                    1.010562                       1.017670   -0.007108\n",
       "148                    1.028898                       1.026394    0.002504\n",
       "302                    1.035888                       1.033961    0.001927\n",
       "355                    1.029603                       1.031030   -0.001427\n",
       "515                    1.022615                       1.026522   -0.003906\n",
       "..                          ...                            ...         ...\n",
       "332                    1.046240                       1.046365   -0.000125\n",
       "532                    1.018102                       1.022970   -0.004868\n",
       "558                    1.012736                       1.019645   -0.006909\n",
       "137                    1.017245                       1.018162   -0.000917\n",
       "314                    1.052528                       1.046197    0.006331\n",
       "\n",
       "[219 rows x 3 columns]"
      ]
     },
     "execution_count": 62,
     "metadata": {},
     "output_type": "execute_result"
    }
   ],
   "source": [
    "#compare actual output values with predicted values\n",
    "pred_y_df=pd.DataFrame({'Actual delamination factor':y_test,'Predicted delamination factor':prediction6,'difference':y_test-prediction6})\n",
    "pred_y_df[0:]"
   ]
  },
  {
   "cell_type": "code",
   "execution_count": 63,
   "id": "291a41c7",
   "metadata": {},
   "outputs": [
    {
     "name": "stdout",
     "output_type": "stream",
     "text": [
      "MAE: 0.0037998623419511234\n",
      "MSE: 1.992732450477486e-05\n",
      "RMSE: 0.004464003192737978\n",
      "R2 score: 0.9155274175863483\n",
      "Variance Score: 91.55\n"
     ]
    }
   ],
   "source": [
    "# evaluate the performance of the algorithm (MAE - MSE - RMSE)\n",
    "from sklearn import metrics\n",
    "print('MAE:', metrics.mean_absolute_error(y_test,prediction6))  \n",
    "print('MSE:', metrics.mean_squared_error(y_test, prediction6))  \n",
    "print('RMSE:', np.sqrt(metrics.mean_squared_error(y_test,prediction6)))\n",
    "print('R2 score:',metrics.explained_variance_score(y_test,prediction6))\n",
    "print('Variance Score: {:.2f}'.format(metrics.explained_variance_score(y_test,prediction6)*100))"
   ]
  },
  {
   "cell_type": "markdown",
   "id": "4d07a3e1",
   "metadata": {},
   "source": [
    "# Tabulating the accuracies of different models"
   ]
  },
  {
   "cell_type": "code",
   "execution_count": 64,
   "id": "6e69ffa1",
   "metadata": {},
   "outputs": [
    {
     "data": {
      "text/html": [
       "<div>\n",
       "<style scoped>\n",
       "    .dataframe tbody tr th:only-of-type {\n",
       "        vertical-align: middle;\n",
       "    }\n",
       "\n",
       "    .dataframe tbody tr th {\n",
       "        vertical-align: top;\n",
       "    }\n",
       "\n",
       "    .dataframe thead th {\n",
       "        text-align: right;\n",
       "    }\n",
       "</style>\n",
       "<table border=\"1\" class=\"dataframe\">\n",
       "  <thead>\n",
       "    <tr style=\"text-align: right;\">\n",
       "      <th></th>\n",
       "      <th>Model</th>\n",
       "      <th>Mean Absolute Error</th>\n",
       "      <th>Mean Square Error</th>\n",
       "      <th>Root Mean Square Error</th>\n",
       "      <th>R2 Score</th>\n",
       "    </tr>\n",
       "  </thead>\n",
       "  <tbody>\n",
       "    <tr>\n",
       "      <th>0</th>\n",
       "      <td>Multiple Linear Regression</td>\n",
       "      <td>0.001235</td>\n",
       "      <td>2.189864e-06</td>\n",
       "      <td>0.001480</td>\n",
       "      <td>0.990553</td>\n",
       "    </tr>\n",
       "    <tr>\n",
       "      <th>1</th>\n",
       "      <td>Ridge Regression</td>\n",
       "      <td>0.001242</td>\n",
       "      <td>2.310832e-06</td>\n",
       "      <td>0.001520</td>\n",
       "      <td>0.990022</td>\n",
       "    </tr>\n",
       "    <tr>\n",
       "      <th>2</th>\n",
       "      <td>Decision Tree Regression</td>\n",
       "      <td>0.000950</td>\n",
       "      <td>1.357576e-06</td>\n",
       "      <td>0.001165</td>\n",
       "      <td>0.994138</td>\n",
       "    </tr>\n",
       "    <tr>\n",
       "      <th>3</th>\n",
       "      <td>Random Forest Regression</td>\n",
       "      <td>0.000509</td>\n",
       "      <td>4.503203e-07</td>\n",
       "      <td>0.000671</td>\n",
       "      <td>0.998072</td>\n",
       "    </tr>\n",
       "    <tr>\n",
       "      <th>4</th>\n",
       "      <td>K-Nearest Neighbors</td>\n",
       "      <td>0.003261</td>\n",
       "      <td>1.972813e-05</td>\n",
       "      <td>0.004442</td>\n",
       "      <td>0.915619</td>\n",
       "    </tr>\n",
       "    <tr>\n",
       "      <th>5</th>\n",
       "      <td>Lasso Regression</td>\n",
       "      <td>0.003800</td>\n",
       "      <td>1.992732e-05</td>\n",
       "      <td>0.004464</td>\n",
       "      <td>0.915527</td>\n",
       "    </tr>\n",
       "  </tbody>\n",
       "</table>\n",
       "</div>"
      ],
      "text/plain": [
       "                        Model  Mean Absolute Error  Mean Square Error  \\\n",
       "0  Multiple Linear Regression             0.001235       2.189864e-06   \n",
       "1            Ridge Regression             0.001242       2.310832e-06   \n",
       "2    Decision Tree Regression             0.000950       1.357576e-06   \n",
       "3    Random Forest Regression             0.000509       4.503203e-07   \n",
       "4         K-Nearest Neighbors             0.003261       1.972813e-05   \n",
       "5            Lasso Regression             0.003800       1.992732e-05   \n",
       "\n",
       "   Root Mean Square Error  R2 Score  \n",
       "0                0.001480  0.990553  \n",
       "1                0.001520  0.990022  \n",
       "2                0.001165  0.994138  \n",
       "3                0.000671  0.998072  \n",
       "4                0.004442  0.915619  \n",
       "5                0.004464  0.915527  "
      ]
     },
     "execution_count": 64,
     "metadata": {},
     "output_type": "execute_result"
    }
   ],
   "source": [
    "# create a list of model names\n",
    "model_names = [\"Multiple Linear Regression\",\"Ridge Regression\",\"Decision Tree Regression\",\"Random Forest Regression\" ,\"K-Nearest Neighbors\",'Lasso Regression']\n",
    "\n",
    "# create a list of accuracy scores for each model\n",
    "MAE=[0.001235212825086487,0.0012423898771182324,0.0009503888447488588,0.0005093465401288499,0.003261082491324207,0.0037998623419511234]\n",
    "MSE=[2.1898638839887856e-06,2.3108315565752862e-06,1.3575759582489531e-06,4.5032032153759024e-07,1.9728130735581518e-05,1.992732450477486e-05]\n",
    "RMSE=[0.0014798188686419651,0.0015201419527712818,0.0011651506161217756,0.0006710591043548923,0.004441636042674086,0.004464003192737978]\n",
    "R2Score=[0.9905532400847042,0.9900220503349842,0.9941377032989308,0.9980715042130829,0.9156192496220092,0.9155274175863483]\n",
    "\n",
    "# create a dictionary to store the model names and accuracy scores\n",
    "data = {\"Model\": model_names,'Mean Absolute Error':MAE,\"Mean Square Error\":MSE,\"Root Mean Square Error\":RMSE,\"R2 Score\":R2Score}\n",
    "\n",
    "# create a pandas DataFrame using the dictionary\n",
    "accuracy_df = pd.DataFrame(data)\n",
    "\n",
    "# display the DataFrame\n",
    "accuracy_df"
   ]
  },
  {
   "cell_type": "markdown",
   "id": "5496b31b",
   "metadata": {},
   "source": [
    "# Arranging the accuracies in descending order"
   ]
  },
  {
   "cell_type": "code",
   "execution_count": 65,
   "id": "5640d7ef",
   "metadata": {},
   "outputs": [
    {
     "data": {
      "text/html": [
       "<div>\n",
       "<style scoped>\n",
       "    .dataframe tbody tr th:only-of-type {\n",
       "        vertical-align: middle;\n",
       "    }\n",
       "\n",
       "    .dataframe tbody tr th {\n",
       "        vertical-align: top;\n",
       "    }\n",
       "\n",
       "    .dataframe thead th {\n",
       "        text-align: right;\n",
       "    }\n",
       "</style>\n",
       "<table border=\"1\" class=\"dataframe\">\n",
       "  <thead>\n",
       "    <tr style=\"text-align: right;\">\n",
       "      <th></th>\n",
       "      <th>Model</th>\n",
       "      <th>Mean Absolute Error</th>\n",
       "      <th>Mean Square Error</th>\n",
       "      <th>Root Mean Square Error</th>\n",
       "      <th>R2 Score</th>\n",
       "    </tr>\n",
       "  </thead>\n",
       "  <tbody>\n",
       "    <tr>\n",
       "      <th>5</th>\n",
       "      <td>Lasso Regression</td>\n",
       "      <td>0.003800</td>\n",
       "      <td>1.992732e-05</td>\n",
       "      <td>0.004464</td>\n",
       "      <td>0.915527</td>\n",
       "    </tr>\n",
       "    <tr>\n",
       "      <th>4</th>\n",
       "      <td>K-Nearest Neighbors</td>\n",
       "      <td>0.003261</td>\n",
       "      <td>1.972813e-05</td>\n",
       "      <td>0.004442</td>\n",
       "      <td>0.915619</td>\n",
       "    </tr>\n",
       "    <tr>\n",
       "      <th>1</th>\n",
       "      <td>Ridge Regression</td>\n",
       "      <td>0.001242</td>\n",
       "      <td>2.310832e-06</td>\n",
       "      <td>0.001520</td>\n",
       "      <td>0.990022</td>\n",
       "    </tr>\n",
       "    <tr>\n",
       "      <th>0</th>\n",
       "      <td>Multiple Linear Regression</td>\n",
       "      <td>0.001235</td>\n",
       "      <td>2.189864e-06</td>\n",
       "      <td>0.001480</td>\n",
       "      <td>0.990553</td>\n",
       "    </tr>\n",
       "    <tr>\n",
       "      <th>2</th>\n",
       "      <td>Decision Tree Regression</td>\n",
       "      <td>0.000950</td>\n",
       "      <td>1.357576e-06</td>\n",
       "      <td>0.001165</td>\n",
       "      <td>0.994138</td>\n",
       "    </tr>\n",
       "    <tr>\n",
       "      <th>3</th>\n",
       "      <td>Random Forest Regression</td>\n",
       "      <td>0.000509</td>\n",
       "      <td>4.503203e-07</td>\n",
       "      <td>0.000671</td>\n",
       "      <td>0.998072</td>\n",
       "    </tr>\n",
       "  </tbody>\n",
       "</table>\n",
       "</div>"
      ],
      "text/plain": [
       "                        Model  Mean Absolute Error  Mean Square Error  \\\n",
       "5            Lasso Regression             0.003800       1.992732e-05   \n",
       "4         K-Nearest Neighbors             0.003261       1.972813e-05   \n",
       "1            Ridge Regression             0.001242       2.310832e-06   \n",
       "0  Multiple Linear Regression             0.001235       2.189864e-06   \n",
       "2    Decision Tree Regression             0.000950       1.357576e-06   \n",
       "3    Random Forest Regression             0.000509       4.503203e-07   \n",
       "\n",
       "   Root Mean Square Error  R2 Score  \n",
       "5                0.004464  0.915527  \n",
       "4                0.004442  0.915619  \n",
       "1                0.001520  0.990022  \n",
       "0                0.001480  0.990553  \n",
       "2                0.001165  0.994138  \n",
       "3                0.000671  0.998072  "
      ]
     },
     "execution_count": 65,
     "metadata": {},
     "output_type": "execute_result"
    }
   ],
   "source": [
    "accuracy_df=accuracy_df.sort_values('Mean Absolute Error',ascending=False)\n",
    "accuracy_df"
   ]
  },
  {
   "cell_type": "code",
   "execution_count": 66,
   "id": "d2d9df67",
   "metadata": {},
   "outputs": [
    {
     "data": {
      "text/html": [
       "<div>\n",
       "<style scoped>\n",
       "    .dataframe tbody tr th:only-of-type {\n",
       "        vertical-align: middle;\n",
       "    }\n",
       "\n",
       "    .dataframe tbody tr th {\n",
       "        vertical-align: top;\n",
       "    }\n",
       "\n",
       "    .dataframe thead th {\n",
       "        text-align: right;\n",
       "    }\n",
       "</style>\n",
       "<table border=\"1\" class=\"dataframe\">\n",
       "  <thead>\n",
       "    <tr style=\"text-align: right;\">\n",
       "      <th></th>\n",
       "      <th>Model</th>\n",
       "      <th>Mean Absolute Error</th>\n",
       "      <th>Mean Square Error</th>\n",
       "      <th>Root Mean Square Error</th>\n",
       "      <th>R2 Score</th>\n",
       "    </tr>\n",
       "  </thead>\n",
       "  <tbody>\n",
       "    <tr>\n",
       "      <th>5</th>\n",
       "      <td>Lasso Regression</td>\n",
       "      <td>0.003800</td>\n",
       "      <td>1.992732e-05</td>\n",
       "      <td>0.004464</td>\n",
       "      <td>0.915527</td>\n",
       "    </tr>\n",
       "    <tr>\n",
       "      <th>4</th>\n",
       "      <td>K-Nearest Neighbors</td>\n",
       "      <td>0.003261</td>\n",
       "      <td>1.972813e-05</td>\n",
       "      <td>0.004442</td>\n",
       "      <td>0.915619</td>\n",
       "    </tr>\n",
       "    <tr>\n",
       "      <th>1</th>\n",
       "      <td>Ridge Regression</td>\n",
       "      <td>0.001242</td>\n",
       "      <td>2.310832e-06</td>\n",
       "      <td>0.001520</td>\n",
       "      <td>0.990022</td>\n",
       "    </tr>\n",
       "    <tr>\n",
       "      <th>0</th>\n",
       "      <td>Multiple Linear Regression</td>\n",
       "      <td>0.001235</td>\n",
       "      <td>2.189864e-06</td>\n",
       "      <td>0.001480</td>\n",
       "      <td>0.990553</td>\n",
       "    </tr>\n",
       "    <tr>\n",
       "      <th>2</th>\n",
       "      <td>Decision Tree Regression</td>\n",
       "      <td>0.000950</td>\n",
       "      <td>1.357576e-06</td>\n",
       "      <td>0.001165</td>\n",
       "      <td>0.994138</td>\n",
       "    </tr>\n",
       "    <tr>\n",
       "      <th>3</th>\n",
       "      <td>Random Forest Regression</td>\n",
       "      <td>0.000509</td>\n",
       "      <td>4.503203e-07</td>\n",
       "      <td>0.000671</td>\n",
       "      <td>0.998072</td>\n",
       "    </tr>\n",
       "  </tbody>\n",
       "</table>\n",
       "</div>"
      ],
      "text/plain": [
       "                        Model  Mean Absolute Error  Mean Square Error  \\\n",
       "5            Lasso Regression             0.003800       1.992732e-05   \n",
       "4         K-Nearest Neighbors             0.003261       1.972813e-05   \n",
       "1            Ridge Regression             0.001242       2.310832e-06   \n",
       "0  Multiple Linear Regression             0.001235       2.189864e-06   \n",
       "2    Decision Tree Regression             0.000950       1.357576e-06   \n",
       "3    Random Forest Regression             0.000509       4.503203e-07   \n",
       "\n",
       "   Root Mean Square Error  R2 Score  \n",
       "5                0.004464  0.915527  \n",
       "4                0.004442  0.915619  \n",
       "1                0.001520  0.990022  \n",
       "0                0.001480  0.990553  \n",
       "2                0.001165  0.994138  \n",
       "3                0.000671  0.998072  "
      ]
     },
     "execution_count": 66,
     "metadata": {},
     "output_type": "execute_result"
    }
   ],
   "source": [
    "accuracy_df=accuracy_df.sort_values('Mean Square Error',ascending=False)\n",
    "accuracy_df"
   ]
  },
  {
   "cell_type": "code",
   "execution_count": 67,
   "id": "930c03d6",
   "metadata": {},
   "outputs": [
    {
     "data": {
      "text/html": [
       "<div>\n",
       "<style scoped>\n",
       "    .dataframe tbody tr th:only-of-type {\n",
       "        vertical-align: middle;\n",
       "    }\n",
       "\n",
       "    .dataframe tbody tr th {\n",
       "        vertical-align: top;\n",
       "    }\n",
       "\n",
       "    .dataframe thead th {\n",
       "        text-align: right;\n",
       "    }\n",
       "</style>\n",
       "<table border=\"1\" class=\"dataframe\">\n",
       "  <thead>\n",
       "    <tr style=\"text-align: right;\">\n",
       "      <th></th>\n",
       "      <th>Model</th>\n",
       "      <th>Mean Absolute Error</th>\n",
       "      <th>Mean Square Error</th>\n",
       "      <th>Root Mean Square Error</th>\n",
       "      <th>R2 Score</th>\n",
       "    </tr>\n",
       "  </thead>\n",
       "  <tbody>\n",
       "    <tr>\n",
       "      <th>5</th>\n",
       "      <td>Lasso Regression</td>\n",
       "      <td>0.003800</td>\n",
       "      <td>1.992732e-05</td>\n",
       "      <td>0.004464</td>\n",
       "      <td>0.915527</td>\n",
       "    </tr>\n",
       "    <tr>\n",
       "      <th>4</th>\n",
       "      <td>K-Nearest Neighbors</td>\n",
       "      <td>0.003261</td>\n",
       "      <td>1.972813e-05</td>\n",
       "      <td>0.004442</td>\n",
       "      <td>0.915619</td>\n",
       "    </tr>\n",
       "    <tr>\n",
       "      <th>1</th>\n",
       "      <td>Ridge Regression</td>\n",
       "      <td>0.001242</td>\n",
       "      <td>2.310832e-06</td>\n",
       "      <td>0.001520</td>\n",
       "      <td>0.990022</td>\n",
       "    </tr>\n",
       "    <tr>\n",
       "      <th>0</th>\n",
       "      <td>Multiple Linear Regression</td>\n",
       "      <td>0.001235</td>\n",
       "      <td>2.189864e-06</td>\n",
       "      <td>0.001480</td>\n",
       "      <td>0.990553</td>\n",
       "    </tr>\n",
       "    <tr>\n",
       "      <th>2</th>\n",
       "      <td>Decision Tree Regression</td>\n",
       "      <td>0.000950</td>\n",
       "      <td>1.357576e-06</td>\n",
       "      <td>0.001165</td>\n",
       "      <td>0.994138</td>\n",
       "    </tr>\n",
       "    <tr>\n",
       "      <th>3</th>\n",
       "      <td>Random Forest Regression</td>\n",
       "      <td>0.000509</td>\n",
       "      <td>4.503203e-07</td>\n",
       "      <td>0.000671</td>\n",
       "      <td>0.998072</td>\n",
       "    </tr>\n",
       "  </tbody>\n",
       "</table>\n",
       "</div>"
      ],
      "text/plain": [
       "                        Model  Mean Absolute Error  Mean Square Error  \\\n",
       "5            Lasso Regression             0.003800       1.992732e-05   \n",
       "4         K-Nearest Neighbors             0.003261       1.972813e-05   \n",
       "1            Ridge Regression             0.001242       2.310832e-06   \n",
       "0  Multiple Linear Regression             0.001235       2.189864e-06   \n",
       "2    Decision Tree Regression             0.000950       1.357576e-06   \n",
       "3    Random Forest Regression             0.000509       4.503203e-07   \n",
       "\n",
       "   Root Mean Square Error  R2 Score  \n",
       "5                0.004464  0.915527  \n",
       "4                0.004442  0.915619  \n",
       "1                0.001520  0.990022  \n",
       "0                0.001480  0.990553  \n",
       "2                0.001165  0.994138  \n",
       "3                0.000671  0.998072  "
      ]
     },
     "execution_count": 67,
     "metadata": {},
     "output_type": "execute_result"
    }
   ],
   "source": [
    "accuracy_df=accuracy_df.sort_values('Root Mean Square Error',ascending=False)\n",
    "accuracy_df"
   ]
  },
  {
   "cell_type": "code",
   "execution_count": 68,
   "id": "6b0c8eae",
   "metadata": {},
   "outputs": [
    {
     "data": {
      "text/html": [
       "<div>\n",
       "<style scoped>\n",
       "    .dataframe tbody tr th:only-of-type {\n",
       "        vertical-align: middle;\n",
       "    }\n",
       "\n",
       "    .dataframe tbody tr th {\n",
       "        vertical-align: top;\n",
       "    }\n",
       "\n",
       "    .dataframe thead th {\n",
       "        text-align: right;\n",
       "    }\n",
       "</style>\n",
       "<table border=\"1\" class=\"dataframe\">\n",
       "  <thead>\n",
       "    <tr style=\"text-align: right;\">\n",
       "      <th></th>\n",
       "      <th>Model</th>\n",
       "      <th>Mean Absolute Error</th>\n",
       "      <th>Mean Square Error</th>\n",
       "      <th>Root Mean Square Error</th>\n",
       "      <th>R2 Score</th>\n",
       "    </tr>\n",
       "  </thead>\n",
       "  <tbody>\n",
       "    <tr>\n",
       "      <th>3</th>\n",
       "      <td>Random Forest Regression</td>\n",
       "      <td>0.000509</td>\n",
       "      <td>4.503203e-07</td>\n",
       "      <td>0.000671</td>\n",
       "      <td>0.998072</td>\n",
       "    </tr>\n",
       "    <tr>\n",
       "      <th>2</th>\n",
       "      <td>Decision Tree Regression</td>\n",
       "      <td>0.000950</td>\n",
       "      <td>1.357576e-06</td>\n",
       "      <td>0.001165</td>\n",
       "      <td>0.994138</td>\n",
       "    </tr>\n",
       "    <tr>\n",
       "      <th>0</th>\n",
       "      <td>Multiple Linear Regression</td>\n",
       "      <td>0.001235</td>\n",
       "      <td>2.189864e-06</td>\n",
       "      <td>0.001480</td>\n",
       "      <td>0.990553</td>\n",
       "    </tr>\n",
       "    <tr>\n",
       "      <th>1</th>\n",
       "      <td>Ridge Regression</td>\n",
       "      <td>0.001242</td>\n",
       "      <td>2.310832e-06</td>\n",
       "      <td>0.001520</td>\n",
       "      <td>0.990022</td>\n",
       "    </tr>\n",
       "    <tr>\n",
       "      <th>4</th>\n",
       "      <td>K-Nearest Neighbors</td>\n",
       "      <td>0.003261</td>\n",
       "      <td>1.972813e-05</td>\n",
       "      <td>0.004442</td>\n",
       "      <td>0.915619</td>\n",
       "    </tr>\n",
       "    <tr>\n",
       "      <th>5</th>\n",
       "      <td>Lasso Regression</td>\n",
       "      <td>0.003800</td>\n",
       "      <td>1.992732e-05</td>\n",
       "      <td>0.004464</td>\n",
       "      <td>0.915527</td>\n",
       "    </tr>\n",
       "  </tbody>\n",
       "</table>\n",
       "</div>"
      ],
      "text/plain": [
       "                        Model  Mean Absolute Error  Mean Square Error  \\\n",
       "3    Random Forest Regression             0.000509       4.503203e-07   \n",
       "2    Decision Tree Regression             0.000950       1.357576e-06   \n",
       "0  Multiple Linear Regression             0.001235       2.189864e-06   \n",
       "1            Ridge Regression             0.001242       2.310832e-06   \n",
       "4         K-Nearest Neighbors             0.003261       1.972813e-05   \n",
       "5            Lasso Regression             0.003800       1.992732e-05   \n",
       "\n",
       "   Root Mean Square Error  R2 Score  \n",
       "3                0.000671  0.998072  \n",
       "2                0.001165  0.994138  \n",
       "0                0.001480  0.990553  \n",
       "1                0.001520  0.990022  \n",
       "4                0.004442  0.915619  \n",
       "5                0.004464  0.915527  "
      ]
     },
     "execution_count": 68,
     "metadata": {},
     "output_type": "execute_result"
    }
   ],
   "source": [
    "accuracy_df=accuracy_df.sort_values('R2 Score',ascending=False)\n",
    "accuracy_df"
   ]
  },
  {
   "cell_type": "code",
   "execution_count": null,
   "id": "b8a551ad",
   "metadata": {},
   "outputs": [],
   "source": []
  }
 ],
 "metadata": {
  "kernelspec": {
   "display_name": "Python 3 (ipykernel)",
   "language": "python",
   "name": "python3"
  },
  "language_info": {
   "codemirror_mode": {
    "name": "ipython",
    "version": 3
   },
   "file_extension": ".py",
   "mimetype": "text/x-python",
   "name": "python",
   "nbconvert_exporter": "python",
   "pygments_lexer": "ipython3",
   "version": "3.9.12"
  }
 },
 "nbformat": 4,
 "nbformat_minor": 5
}
